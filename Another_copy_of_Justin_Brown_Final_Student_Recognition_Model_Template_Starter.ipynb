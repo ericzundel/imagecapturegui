{
  "cells": [
    {
      "cell_type": "markdown",
      "metadata": {
        "id": "view-in-github",
        "colab_type": "text"
      },
      "source": [
        "<a href=\"https://colab.research.google.com/github/ericzundel/imagecapturegui/blob/main/Another_copy_of_Justin_Brown_Final_Student_Recognition_Model_Template_Starter.ipynb\" target=\"_parent\"><img src=\"https://colab.research.google.com/assets/colab-badge.svg\" alt=\"Open In Colab\"/></a>"
      ]
    },
    {
      "cell_type": "markdown",
      "id": "1K4cg4H1lvM0",
      "metadata": {
        "id": "1K4cg4H1lvM0"
      },
      "source": [
        "# **This is the starting point of your final face recognition model.  You will need to fill in all of the missing boxes with correct code.  You are also required to write correct and descriptive comments in each block. Your model needs to reach a 80% accuracy on your testing data for your final project.**"
      ]
    },
    {
      "cell_type": "code",
      "execution_count": null,
      "id": "6534c9ab",
      "metadata": {
        "id": "6534c9ab"
      },
      "outputs": [],
      "source": [
        "#imports all the information we need for codin\n",
        "from tensorflow import keras\n",
        "from tensorflow.keras import layers\n",
        "from tensorflow.keras.datasets import imdb\n",
        "import numpy as np\n",
        "import os, shutil, pathlib\n",
        "from tensorflow.keras.utils import load_img\n",
        "from tensorflow.keras.utils import img_to_array\n",
        "from tensorflow.keras.utils import array_to_img\n",
        "import matplotlib.pyplot as plt\n",
        "import tensorflow as tf\n",
        "from PIL import Image"
      ]
    },
    {
      "cell_type": "code",
      "execution_count": null,
      "id": "95f593f8",
      "metadata": {
        "id": "95f593f8"
      },
      "outputs": [],
      "source": [
        "#This code defines a function called show_image to display an image. It sets the color map to \"summer\"\n",
        "def show_image(im):\n",
        "  plt.imshow(im,cmap=plt.cm.summer)\n",
        "  plt.show()"
      ]
    },
    {
      "cell_type": "code",
      "execution_count": null,
      "id": "dd8e4483",
      "metadata": {
        "id": "dd8e4483"
      },
      "outputs": [],
      "source": [
        "#This code defines a function called show_image_vpp to display an image and information such as the value, predicted value, and probability.\n",
        "def show_image_vpp(im,value,prediction,probability):\n",
        "  plt.imshow(im,cmap=plt.cm.summer)\n",
        "  plt.show()\n",
        "  print(\"the value is \",student_names[value])\n",
        "  print(\"The predicted value is \",student_names[prediction],\" with probability: \",probability)"
      ]
    },
    {
      "cell_type": "markdown",
      "id": "_T4osOr2mbdA",
      "metadata": {
        "id": "_T4osOr2mbdA"
      },
      "source": [
        "Keep this as is for now. Once you get everything running, you will come back to this and build out the layers using what you know."
      ]
    },
    {
      "cell_type": "code",
      "execution_count": null,
      "id": "bcd721d4",
      "metadata": {
        "id": "bcd721d4"
      },
      "outputs": [],
      "source": [
        "#This code defines a function called build_model which makes a network model using Keras with specified input shape, dense layers, and a softmax output layer.\n",
        "def build_model(input_shape):\n",
        "    input = keras.Input(shape=(input_shape,),name=\"data\")\n",
        "    l1 = layers.Dense(512,activation=\"relu\")(input)\n",
        "    l2 = layers.Dense(512,activation=\"relu\")(input)\n",
        "    #fill in here\n",
        "    #fill in here\n",
        "    output = layers.Dense(38,activation=\"softmax\")(l2)\n",
        "    model = keras.Model(inputs=input,outputs=output)\n",
        "    return model"
      ]
    },
    {
      "cell_type": "code",
      "execution_count": null,
      "id": "3-CiskTsZZ_9",
      "metadata": {
        "id": "3-CiskTsZZ_9"
      },
      "outputs": [],
      "source": []
    },
    {
      "cell_type": "markdown",
      "id": "68Mcx0LSmuA5",
      "metadata": {
        "id": "68Mcx0LSmuA5"
      },
      "source": [
        "1) Explain what the 38 means in the output layer.  "
      ]
    },
    {
      "cell_type": "markdown",
      "id": "uzbRDJn-m12X",
      "metadata": {
        "id": "uzbRDJn-m12X"
      },
      "source": [
        "Answer:  There are 38 neurons\n"
      ]
    },
    {
      "cell_type": "markdown",
      "id": "9YDXxGrXm9ka",
      "metadata": {
        "id": "9YDXxGrXm9ka"
      },
      "source": [
        "Note that the number of epochs below is 1.  Don't change it for now, but after you get everything else working, you will need to come back and address this to improve your model's accuracy.  "
      ]
    },
    {
      "cell_type": "code",
      "execution_count": null,
      "id": "e3ee20b9",
      "metadata": {
        "id": "e3ee20b9"
      },
      "outputs": [],
      "source": [
        "def train_model(model,train_tensors,train_labels): #This function trains the model using the provided input data and labels.\n",
        "    model.compile(optimizer=\"rmsprop\",loss=\"sparse_categorical_crossentropy\",metrics=[\"accuracy\"])\n",
        "    model.fit(train_tensors,train_labels,epochs=80)"
      ]
    },
    {
      "cell_type": "markdown",
      "id": "7OYU8qs5nGG5",
      "metadata": {
        "id": "7OYU8qs5nGG5"
      },
      "source": [
        "2) How do you know if you need more or less epochs?  \n"
      ]
    },
    {
      "cell_type": "markdown",
      "id": "ciIR_TZ1qXoR",
      "metadata": {
        "id": "ciIR_TZ1qXoR"
      },
      "source": [
        "Answer:  You know you need more epochs in the code isnt running smootly, the code is still learning, or the code is over/underfitting with the line of best fit.\n"
      ]
    },
    {
      "cell_type": "code",
      "execution_count": null,
      "id": "85d8efa2",
      "metadata": {
        "id": "85d8efa2"
      },
      "outputs": [],
      "source": [
        "#this code makes a prediction for the number and it makes a probability of how sure it is that the prediction being right\n",
        "def predict(model,test_tensors):\n",
        "    mpredictions = model.predict(test_tensors)\n",
        "    digit_predictions = np.array([x.argmax() for x in mpredictions])\n",
        "    digit_probability = np.array([mpredictions[i][p] for i, p in enumerate(digit_predictions)])\n",
        "    return digit_predictions,digit_probability"
      ]
    },
    {
      "cell_type": "markdown",
      "id": "6ed3d25a",
      "metadata": {
        "id": "6ed3d25a"
      },
      "source": [
        "# Get the training and testing data.  Use this video if you are absent when I go over this in class.  "
      ]
    },
    {
      "cell_type": "markdown",
      "id": "LxCdbomynSxp",
      "metadata": {
        "id": "LxCdbomynSxp"
      },
      "source": [
        "This is new code and it is not expected that you understand this, but you need to add a shortcut to this folder on your google drive.  Once you have your shortcut, replace the below path after \"My Drive/\" with your path. I will walk you through this step in class. Once you have done that, run this code to confirm you are accessing the class image files.  If you are not here when we do this part, you can watch this video of how to do it here: https://www.loom.com/share/4316be2eaac34ddfa1fcfed7d7bbbbcf?sid=725db59f-5ceb-43b4-bb14-5c37dd947108\n",
        "  "
      ]
    },
    {
      "cell_type": "markdown",
      "id": "wSNklu9-oz9q",
      "metadata": {
        "id": "wSNklu9-oz9q"
      },
      "source": [
        "Folder link: https://drive.google.com/drive/folders/1Lnhpm_B231bTZ8__k6Rw3BYDwei-dQYO?usp=sharing\n"
      ]
    },
    {
      "cell_type": "code",
      "execution_count": null,
      "id": "p_Q8M5EhxxkG",
      "metadata": {
        "id": "p_Q8M5EhxxkG",
        "outputId": "71bb7f2c-3676-4972-fa22-1645ce3ea3b0",
        "colab": {
          "base_uri": "https://localhost:8080/",
          "height": 370
        }
      },
      "outputs": [
        {
          "output_type": "error",
          "ename": "MessageError",
          "evalue": "Error: credential propagation was unsuccessful",
          "traceback": [
            "\u001b[0;31m---------------------------------------------------------------------------\u001b[0m",
            "\u001b[0;31mMessageError\u001b[0m                              Traceback (most recent call last)",
            "\u001b[0;32m<ipython-input-7-eb310348eb78>\u001b[0m in \u001b[0;36m<cell line: 2>\u001b[0;34m()\u001b[0m\n\u001b[1;32m      1\u001b[0m \u001b[0;32mfrom\u001b[0m \u001b[0mgoogle\u001b[0m\u001b[0;34m.\u001b[0m\u001b[0mcolab\u001b[0m \u001b[0;32mimport\u001b[0m \u001b[0mdrive\u001b[0m \u001b[0;31m#This code takes the info from Google Drive, lists files in a specific directory, and adjusts the plot size to 100x100.\u001b[0m\u001b[0;34m\u001b[0m\u001b[0;34m\u001b[0m\u001b[0m\n\u001b[0;32m----> 2\u001b[0;31m \u001b[0mdrive\u001b[0m\u001b[0;34m.\u001b[0m\u001b[0mmount\u001b[0m\u001b[0;34m(\u001b[0m\u001b[0;34m'/content/gdrive'\u001b[0m\u001b[0;34m)\u001b[0m\u001b[0;34m\u001b[0m\u001b[0;34m\u001b[0m\u001b[0m\n\u001b[0m\u001b[1;32m      3\u001b[0m \u001b[0mget_ipython\u001b[0m\u001b[0;34m(\u001b[0m\u001b[0;34m)\u001b[0m\u001b[0;34m.\u001b[0m\u001b[0msystem\u001b[0m\u001b[0;34m(\u001b[0m\u001b[0;34m'ls \"/content/gdrive/My Drive/ML_Image_Data/MLImages-backup-240416-140003\"'\u001b[0m\u001b[0;34m)\u001b[0m\u001b[0;34m\u001b[0m\u001b[0;34m\u001b[0m\u001b[0m\n\u001b[1;32m      4\u001b[0m \u001b[0mplt\u001b[0m\u001b[0;34m.\u001b[0m\u001b[0mfigure\u001b[0m\u001b[0;34m(\u001b[0m\u001b[0mfigsize\u001b[0m\u001b[0;34m=\u001b[0m\u001b[0;34m(\u001b[0m\u001b[0;36m10\u001b[0m\u001b[0;34m,\u001b[0m \u001b[0;36m10\u001b[0m\u001b[0;34m)\u001b[0m\u001b[0;34m)\u001b[0m\u001b[0;34m\u001b[0m\u001b[0;34m\u001b[0m\u001b[0m\n\u001b[1;32m      5\u001b[0m \u001b[0msize_picture\u001b[0m \u001b[0;34m=\u001b[0m \u001b[0;36m100\u001b[0m\u001b[0;34m\u001b[0m\u001b[0;34m\u001b[0m\u001b[0m\n",
            "\u001b[0;32m/usr/local/lib/python3.10/dist-packages/google/colab/drive.py\u001b[0m in \u001b[0;36mmount\u001b[0;34m(mountpoint, force_remount, timeout_ms, readonly)\u001b[0m\n\u001b[1;32m     98\u001b[0m \u001b[0;32mdef\u001b[0m \u001b[0mmount\u001b[0m\u001b[0;34m(\u001b[0m\u001b[0mmountpoint\u001b[0m\u001b[0;34m,\u001b[0m \u001b[0mforce_remount\u001b[0m\u001b[0;34m=\u001b[0m\u001b[0;32mFalse\u001b[0m\u001b[0;34m,\u001b[0m \u001b[0mtimeout_ms\u001b[0m\u001b[0;34m=\u001b[0m\u001b[0;36m120000\u001b[0m\u001b[0;34m,\u001b[0m \u001b[0mreadonly\u001b[0m\u001b[0;34m=\u001b[0m\u001b[0;32mFalse\u001b[0m\u001b[0;34m)\u001b[0m\u001b[0;34m:\u001b[0m\u001b[0;34m\u001b[0m\u001b[0;34m\u001b[0m\u001b[0m\n\u001b[1;32m     99\u001b[0m   \u001b[0;34m\"\"\"Mount your Google Drive at the specified mountpoint path.\"\"\"\u001b[0m\u001b[0;34m\u001b[0m\u001b[0;34m\u001b[0m\u001b[0m\n\u001b[0;32m--> 100\u001b[0;31m   return _mount(\n\u001b[0m\u001b[1;32m    101\u001b[0m       \u001b[0mmountpoint\u001b[0m\u001b[0;34m,\u001b[0m\u001b[0;34m\u001b[0m\u001b[0;34m\u001b[0m\u001b[0m\n\u001b[1;32m    102\u001b[0m       \u001b[0mforce_remount\u001b[0m\u001b[0;34m=\u001b[0m\u001b[0mforce_remount\u001b[0m\u001b[0;34m,\u001b[0m\u001b[0;34m\u001b[0m\u001b[0;34m\u001b[0m\u001b[0m\n",
            "\u001b[0;32m/usr/local/lib/python3.10/dist-packages/google/colab/drive.py\u001b[0m in \u001b[0;36m_mount\u001b[0;34m(mountpoint, force_remount, timeout_ms, ephemeral, readonly)\u001b[0m\n\u001b[1;32m    131\u001b[0m   )\n\u001b[1;32m    132\u001b[0m   \u001b[0;32mif\u001b[0m \u001b[0mephemeral\u001b[0m\u001b[0;34m:\u001b[0m\u001b[0;34m\u001b[0m\u001b[0;34m\u001b[0m\u001b[0m\n\u001b[0;32m--> 133\u001b[0;31m     _message.blocking_request(\n\u001b[0m\u001b[1;32m    134\u001b[0m         \u001b[0;34m'request_auth'\u001b[0m\u001b[0;34m,\u001b[0m \u001b[0mrequest\u001b[0m\u001b[0;34m=\u001b[0m\u001b[0;34m{\u001b[0m\u001b[0;34m'authType'\u001b[0m\u001b[0;34m:\u001b[0m \u001b[0;34m'dfs_ephemeral'\u001b[0m\u001b[0;34m}\u001b[0m\u001b[0;34m,\u001b[0m \u001b[0mtimeout_sec\u001b[0m\u001b[0;34m=\u001b[0m\u001b[0;32mNone\u001b[0m\u001b[0;34m\u001b[0m\u001b[0;34m\u001b[0m\u001b[0m\n\u001b[1;32m    135\u001b[0m     )\n",
            "\u001b[0;32m/usr/local/lib/python3.10/dist-packages/google/colab/_message.py\u001b[0m in \u001b[0;36mblocking_request\u001b[0;34m(request_type, request, timeout_sec, parent)\u001b[0m\n\u001b[1;32m    174\u001b[0m       \u001b[0mrequest_type\u001b[0m\u001b[0;34m,\u001b[0m \u001b[0mrequest\u001b[0m\u001b[0;34m,\u001b[0m \u001b[0mparent\u001b[0m\u001b[0;34m=\u001b[0m\u001b[0mparent\u001b[0m\u001b[0;34m,\u001b[0m \u001b[0mexpect_reply\u001b[0m\u001b[0;34m=\u001b[0m\u001b[0;32mTrue\u001b[0m\u001b[0;34m\u001b[0m\u001b[0;34m\u001b[0m\u001b[0m\n\u001b[1;32m    175\u001b[0m   )\n\u001b[0;32m--> 176\u001b[0;31m   \u001b[0;32mreturn\u001b[0m \u001b[0mread_reply_from_input\u001b[0m\u001b[0;34m(\u001b[0m\u001b[0mrequest_id\u001b[0m\u001b[0;34m,\u001b[0m \u001b[0mtimeout_sec\u001b[0m\u001b[0;34m)\u001b[0m\u001b[0;34m\u001b[0m\u001b[0;34m\u001b[0m\u001b[0m\n\u001b[0m",
            "\u001b[0;32m/usr/local/lib/python3.10/dist-packages/google/colab/_message.py\u001b[0m in \u001b[0;36mread_reply_from_input\u001b[0;34m(message_id, timeout_sec)\u001b[0m\n\u001b[1;32m    101\u001b[0m     ):\n\u001b[1;32m    102\u001b[0m       \u001b[0;32mif\u001b[0m \u001b[0;34m'error'\u001b[0m \u001b[0;32min\u001b[0m \u001b[0mreply\u001b[0m\u001b[0;34m:\u001b[0m\u001b[0;34m\u001b[0m\u001b[0;34m\u001b[0m\u001b[0m\n\u001b[0;32m--> 103\u001b[0;31m         \u001b[0;32mraise\u001b[0m \u001b[0mMessageError\u001b[0m\u001b[0;34m(\u001b[0m\u001b[0mreply\u001b[0m\u001b[0;34m[\u001b[0m\u001b[0;34m'error'\u001b[0m\u001b[0;34m]\u001b[0m\u001b[0;34m)\u001b[0m\u001b[0;34m\u001b[0m\u001b[0;34m\u001b[0m\u001b[0m\n\u001b[0m\u001b[1;32m    104\u001b[0m       \u001b[0;32mreturn\u001b[0m \u001b[0mreply\u001b[0m\u001b[0;34m.\u001b[0m\u001b[0mget\u001b[0m\u001b[0;34m(\u001b[0m\u001b[0;34m'data'\u001b[0m\u001b[0;34m,\u001b[0m \u001b[0;32mNone\u001b[0m\u001b[0;34m)\u001b[0m\u001b[0;34m\u001b[0m\u001b[0;34m\u001b[0m\u001b[0m\n\u001b[1;32m    105\u001b[0m \u001b[0;34m\u001b[0m\u001b[0m\n",
            "\u001b[0;31mMessageError\u001b[0m: Error: credential propagation was unsuccessful"
          ]
        }
      ],
      "source": [
        "from google.colab import drive #This code takes the info from Google Drive, lists files in a specific directory, and adjusts the plot size to 100x100.\n",
        "drive.mount('/content/gdrive')\n",
        "!ls \"/content/gdrive/My Drive/ML_Image_Data/MLImages-backup-240416-140003\"\n",
        "plt.figure(figsize=(10, 10))\n",
        "size_picture = 100"
      ]
    },
    {
      "cell_type": "code",
      "execution_count": null,
      "id": "f7413d5a",
      "metadata": {
        "id": "f7413d5a"
      },
      "outputs": [],
      "source": [
        "#(train_images, train_labels), (test_images, test_labels) = mnist.load_data()"
      ]
    },
    {
      "cell_type": "markdown",
      "id": "uMivY7IZVkHI",
      "metadata": {
        "id": "uMivY7IZVkHI"
      },
      "source": [
        "3) In the digit recognition model, what did this (above) block of code do?  Break down your answer into all four parts."
      ]
    },
    {
      "cell_type": "markdown",
      "id": "o69H93qz7-GO",
      "metadata": {
        "id": "o69H93qz7-GO"
      },
      "source": [
        "Answer:it take the info from mnist.load_data to each of the variables respectivly"
      ]
    },
    {
      "cell_type": "markdown",
      "id": "ijw1UZKvpTta",
      "metadata": {
        "id": "ijw1UZKvpTta"
      },
      "source": [
        "Bonus: The combination of the two next functions will do what the above function did for the MNIST dataset.  You can get up to 40 KT bonus on your project if you can write correct line by line comments on what these lines of code do.  This must be your own work to be considered for bonus. Do not use another person or AI to help. If yo don't want bonus, just run the next two code blocks."
      ]
    },
    {
      "cell_type": "code",
      "execution_count": null,
      "id": "P9cG5MYUWB-G",
      "metadata": {
        "id": "P9cG5MYUWB-G"
      },
      "outputs": [],
      "source": [
        "#BONUS MAKE LINE BY LINE COMMENTS\n",
        "\n",
        "def tensor_from_image(filename): #makes a function called tensor_from_image and has a parameter called filename\n",
        "    img = load_img(filename,color_mode = 'grayscale') #makes a variable that loads the image with filename and the color is greyscale\n",
        "    img = img.resize((size_picture,size_picture)) #makes the variable img a different size\n",
        "    return img_to_array(img).reshape((size_picture,size_picture)) #returns all of the reshaped images"
      ]
    },
    {
      "cell_type": "code",
      "execution_count": null,
      "id": "osv0xSwcVwOj",
      "metadata": {
        "id": "osv0xSwcVwOj"
      },
      "outputs": [],
      "source": [
        "def load_dataset(): #makes a function called load_dataset\n",
        "    train_images = [] #make an empty array called train_images\n",
        "    train_labels = [] #make an empty array called train_labels\n",
        "    test_images = [] #make an empty array called test_images\n",
        "    test_labels = [] #make an empty array called test_labels\n",
        "    base_directory = pathlib.Path('/content/gdrive/My Drive/ML_Image_Data/MLImages-backup-240416-140003') #makes a variable that has the data from the google drive\n",
        "    student_names = os.listdir(base_directory) #makes a varible that takes the names from the google drive\n",
        "    k = 0 #makes an index variable\n",
        "    n = 0 #makes another index variable\n",
        "    names = [] #makes a empty array called names\n",
        "    for i, s in enumerate(student_names): #makes a for loops that alternates between I and S\n",
        "        print(i,s)#prints i and s\n",
        "        if s!=\".DS_Store\":#if s doesnt equal ds_store\n",
        "            names.append(s)#append the names\n",
        "            student_directory = base_directory / s #makes student directory equal to base directory / s\n",
        "            image_names = os.listdir(student_directory)# makes the variable image_names load the data from student directory\n",
        "            for i in image_names:# a for loop for the variable image_names\n",
        "                fname = student_directory / i#makes a variable called fname that loads the data from student_directory / i\n",
        "                t = tensor_from_image(fname)/255\n",
        "                if n % 9 == 0: #if else statment that means if n modeulos 9 is equivilent to 0\n",
        "                    test_images.append(t) #append t\n",
        "                    test_labels.append(k) #apppend k\n",
        "                else: #else statment if n cannot be divided by 9 to be equilivelent to 0\n",
        "                    train_images.append(t) #append t\n",
        "                    train_labels.append(k) #append k\n",
        "                n += 1 #n = n+1\n",
        "            k += 1 #k = k+1\n",
        "    return (k, #returns k\n",
        "            (np.array(train_images),np.array(train_labels)),#returns all the data from train labels/images as a np.array\n",
        "            (np.array(test_images),np.array(test_labels)),#returns all the data from test labels/images as a np.array\n",
        "            names #loads names\n",
        "           )"
      ]
    },
    {
      "cell_type": "markdown",
      "id": "1PFPZwGU7gnr",
      "metadata": {
        "id": "1PFPZwGU7gnr"
      },
      "source": [
        "Run this code to load your data.  "
      ]
    },
    {
      "cell_type": "code",
      "execution_count": null,
      "id": "eg9pem0kW-YO",
      "metadata": {
        "id": "eg9pem0kW-YO"
      },
      "outputs": [],
      "source": [
        "(nb_students,(train_images,train_labels),(test_images,test_labels),student_names) = load_dataset()\n",
        "#his code loads a dataset containing images and labels for training and testing, along with the number of students and their names."
      ]
    },
    {
      "cell_type": "markdown",
      "id": "TmbGzbRx7n7b",
      "metadata": {
        "id": "TmbGzbRx7n7b"
      },
      "source": [
        "Print out each of the six items in the loaded data to get an idea of or refresh yourself on what they are."
      ]
    },
    {
      "cell_type": "markdown",
      "id": "KYFuHGKh8Ki0",
      "metadata": {
        "id": "KYFuHGKh8Ki0"
      },
      "source": [
        "4) Print the first item."
      ]
    },
    {
      "cell_type": "code",
      "execution_count": null,
      "id": "XuMNgBD77uTd",
      "metadata": {
        "id": "XuMNgBD77uTd"
      },
      "outputs": [],
      "source": [
        "nb_students #prints the first item"
      ]
    },
    {
      "cell_type": "markdown",
      "id": "8ok5bPYJ8Ll1",
      "metadata": {
        "id": "8ok5bPYJ8Ll1"
      },
      "source": [
        "5) Print the second item."
      ]
    },
    {
      "cell_type": "code",
      "execution_count": null,
      "id": "fSsqyZhI7uot",
      "metadata": {
        "id": "fSsqyZhI7uot"
      },
      "outputs": [],
      "source": [
        "train_images #prints the second item"
      ]
    },
    {
      "cell_type": "markdown",
      "id": "f9XkjD9j8Mds",
      "metadata": {
        "id": "f9XkjD9j8Mds"
      },
      "source": [
        "6) Print the third item."
      ]
    },
    {
      "cell_type": "code",
      "execution_count": null,
      "id": "7AKF8wUN7vN0",
      "metadata": {
        "id": "7AKF8wUN7vN0"
      },
      "outputs": [],
      "source": [
        "train_labels #prints the train labels"
      ]
    },
    {
      "cell_type": "markdown",
      "id": "UVv-tXww8Nem",
      "metadata": {
        "id": "UVv-tXww8Nem"
      },
      "source": [
        "7) Print the 4th item."
      ]
    },
    {
      "cell_type": "code",
      "execution_count": null,
      "id": "RhxDSjpQ7vqO",
      "metadata": {
        "id": "RhxDSjpQ7vqO"
      },
      "outputs": [],
      "source": [
        "test_images #prints the test images in raw ata form"
      ]
    },
    {
      "cell_type": "markdown",
      "id": "EafgVFwF8OOc",
      "metadata": {
        "id": "EafgVFwF8OOc"
      },
      "source": [
        "8) Print the 5th item."
      ]
    },
    {
      "cell_type": "code",
      "execution_count": null,
      "id": "HA6KcIrx7v-7",
      "metadata": {
        "id": "HA6KcIrx7v-7"
      },
      "outputs": [],
      "source": [
        "test_labels #prints all the test labels"
      ]
    },
    {
      "cell_type": "markdown",
      "id": "vskd905h8O5k",
      "metadata": {
        "id": "vskd905h8O5k"
      },
      "source": [
        "9) Print the 6th item."
      ]
    },
    {
      "cell_type": "code",
      "execution_count": null,
      "id": "s41arA6m7was",
      "metadata": {
        "id": "s41arA6m7was"
      },
      "outputs": [],
      "source": [
        "student_names #prints all the student names"
      ]
    },
    {
      "cell_type": "markdown",
      "id": "6378a5d6",
      "metadata": {
        "id": "6378a5d6"
      },
      "source": [
        "10) Assign the shape of train_images to train_shape. Print train_shape."
      ]
    },
    {
      "cell_type": "code",
      "execution_count": null,
      "id": "51052f17",
      "metadata": {
        "id": "51052f17"
      },
      "outputs": [],
      "source": [
        "train_shape = train_images.shape\n",
        "train_shape\n",
        "#makes train_shape = train_images.shape"
      ]
    },
    {
      "cell_type": "markdown",
      "id": "f24883ba",
      "metadata": {
        "id": "f24883ba"
      },
      "source": [
        "11) Print out the first image train_images in matrix format.\n",
        "\n"
      ]
    },
    {
      "cell_type": "code",
      "execution_count": null,
      "id": "990a0e20",
      "metadata": {
        "id": "990a0e20"
      },
      "outputs": [],
      "source": [
        "train_images[0] #prints the first train_image in the matrix form"
      ]
    },
    {
      "cell_type": "markdown",
      "id": "sjpOXDbRs-V4",
      "metadata": {
        "id": "sjpOXDbRs-V4"
      },
      "source": [
        "12) Print out the first image in train images in image format."
      ]
    },
    {
      "cell_type": "code",
      "execution_count": null,
      "id": "ksYxLD8BtH14",
      "metadata": {
        "id": "ksYxLD8BtH14"
      },
      "outputs": [],
      "source": [
        "plt.imshow(train_images[0],cmap=plt.cm.binary) #prints the first train_images in the image format"
      ]
    },
    {
      "cell_type": "markdown",
      "id": "B0WoU-iNtcp4",
      "metadata": {
        "id": "B0WoU-iNtcp4"
      },
      "source": [
        "13) Print out the label for this image."
      ]
    },
    {
      "cell_type": "code",
      "execution_count": null,
      "id": "K--m32l4tWDP",
      "metadata": {
        "id": "K--m32l4tWDP"
      },
      "outputs": [],
      "source": [
        "train_labels[0] #prints the label for the image"
      ]
    },
    {
      "cell_type": "markdown",
      "id": "OGDNkQ-Rtqvg",
      "metadata": {
        "id": "OGDNkQ-Rtqvg"
      },
      "source": [
        "Print out the name associated with this label."
      ]
    },
    {
      "cell_type": "code",
      "execution_count": null,
      "id": "A410I3WLt2aJ",
      "metadata": {
        "id": "A410I3WLt2aJ"
      },
      "outputs": [],
      "source": [
        "student_names[0] #prints the name associated with the label"
      ]
    },
    {
      "cell_type": "markdown",
      "id": "PJJhW15WvBlf",
      "metadata": {
        "id": "PJJhW15WvBlf"
      },
      "source": [
        "14) Print out the second name in student_names."
      ]
    },
    {
      "cell_type": "code",
      "execution_count": null,
      "id": "uJrp9YJ3uvu5",
      "metadata": {
        "id": "uJrp9YJ3uvu5"
      },
      "outputs": [],
      "source": [
        "student_names[1] #prints the second name in student_names"
      ]
    },
    {
      "cell_type": "markdown",
      "id": "M7wbr6jbt7x1",
      "metadata": {
        "id": "M7wbr6jbt7x1"
      },
      "source": [
        "15) Write a for loop to print out all of the names in the list student_names and their indices (indexes).  "
      ]
    },
    {
      "cell_type": "code",
      "execution_count": null,
      "id": "tFGhIcWQt7Q-",
      "metadata": {
        "id": "tFGhIcWQt7Q-"
      },
      "outputs": [],
      "source": [
        "for i in range (nb_students):\n",
        "  print(student_names[i],i)\n",
        "  #makes a for loop to print out all the names and indices in the list studetn names"
      ]
    },
    {
      "cell_type": "markdown",
      "id": "d86d2cf6",
      "metadata": {
        "id": "d86d2cf6"
      },
      "source": [
        "16) Reshape your train_images \"from a box into a line\" and assign them to train_tensors.  Print out train_tensors.shape to confirm that they have been put into a line.  "
      ]
    },
    {
      "cell_type": "code",
      "execution_count": null,
      "id": "9c045452",
      "metadata": {
        "id": "9c045452"
      },
      "outputs": [],
      "source": [
        "train_tensors = np.array(train_images).reshape(len(train_images), -1)\n",
        "print(train_tensors.shape)\n",
        "#reshapes the train_images to a line and assigns them to train_tensors"
      ]
    },
    {
      "cell_type": "markdown",
      "id": "5681d44b",
      "metadata": {
        "id": "5681d44b"
      },
      "source": [
        "17) Call the build model function with the correct parameter (the second value in train_tensors.shape)."
      ]
    },
    {
      "cell_type": "code",
      "execution_count": null,
      "id": "de1391f7",
      "metadata": {
        "id": "de1391f7"
      },
      "outputs": [],
      "source": [
        "second_dimension = train_tensors.shape[1]\n",
        "\n",
        "model = build_model(second_dimension)\n",
        "#calls the build model with the correct parameter"
      ]
    },
    {
      "cell_type": "markdown",
      "id": "pPx6gc7jv0eI",
      "metadata": {
        "id": "pPx6gc7jv0eI"
      },
      "source": [
        "18) Print out the model summary using the summary method."
      ]
    },
    {
      "cell_type": "code",
      "execution_count": null,
      "id": "r5ue-loQbU3t",
      "metadata": {
        "id": "r5ue-loQbU3t"
      },
      "outputs": [],
      "source": [
        "model.summary()\n",
        "#prints model using summary method"
      ]
    },
    {
      "cell_type": "markdown",
      "id": "8a2cc1ba",
      "metadata": {
        "id": "8a2cc1ba"
      },
      "source": [
        "19) Call the train model function with the appropraite parameters. Remember all functions are defined above if you need a reference."
      ]
    },
    {
      "cell_type": "code",
      "execution_count": null,
      "id": "538a5024",
      "metadata": {
        "id": "538a5024"
      },
      "outputs": [],
      "source": [
        "train_model(model,train_tensors,train_labels)\n",
        "#calls the train model function with paprameters"
      ]
    },
    {
      "cell_type": "markdown",
      "id": "brKUQokuXnA4",
      "metadata": {
        "id": "brKUQokuXnA4"
      },
      "source": [
        "20) What is an epoch?"
      ]
    },
    {
      "cell_type": "markdown",
      "id": "3O6X3LbeXpI1",
      "metadata": {
        "id": "3O6X3LbeXpI1"
      },
      "source": [
        "Answer: An epoch is the date and time that a computer system measures time."
      ]
    },
    {
      "cell_type": "markdown",
      "id": "b9da1cc7",
      "metadata": {
        "id": "b9da1cc7"
      },
      "source": [
        "21) The model is trained; it is time to see how well it does at recognizing your faces!!  To do this you need to reshape the testing dataset and assign it to test_shape.\n"
      ]
    },
    {
      "cell_type": "code",
      "execution_count": null,
      "id": "20aed3ee",
      "metadata": {
        "id": "20aed3ee"
      },
      "outputs": [],
      "source": [
        "test_shape = test_images.shape\n",
        "test_shape\n",
        "#assigns test_shspe to test_images.shape and reshapes it"
      ]
    },
    {
      "cell_type": "markdown",
      "id": "XdfBPRLiwlOP",
      "metadata": {
        "id": "XdfBPRLiwlOP"
      },
      "source": [
        "22) Reshape your test_images \"from a box to a line\" and assign them to test_tensors."
      ]
    },
    {
      "cell_type": "code",
      "execution_count": null,
      "id": "6dba93b9",
      "metadata": {
        "id": "6dba93b9"
      },
      "outputs": [],
      "source": [
        "test_tensors = np.array(test_images).reshape(len(test_images), -1)\n",
        "\n",
        "#reshapes test_images from a box to a line"
      ]
    },
    {
      "cell_type": "markdown",
      "id": "o_Oxonw7wyKG",
      "metadata": {
        "id": "o_Oxonw7wyKG"
      },
      "source": [
        "23) Print your 20th test image in matrix format."
      ]
    },
    {
      "cell_type": "code",
      "execution_count": null,
      "id": "bDlv-Wh5w3Nq",
      "metadata": {
        "id": "bDlv-Wh5w3Nq"
      },
      "outputs": [],
      "source": [
        "twentieth_image_matrix = np.array(test_images[19])\n",
        "print(twentieth_image_matrix)\n",
        "#prints the 20th test image in matriz form"
      ]
    },
    {
      "cell_type": "markdown",
      "id": "oAL73RU7w3vm",
      "metadata": {
        "id": "oAL73RU7w3vm"
      },
      "source": [
        "24) Print your 20th test image in image format."
      ]
    },
    {
      "cell_type": "code",
      "execution_count": null,
      "id": "tb9bzNfV9cqz",
      "metadata": {
        "id": "tb9bzNfV9cqz"
      },
      "outputs": [],
      "source": [
        "plt.imshow(train_images[19],cmap=plt.cm.summer)\n",
        "plt.show()\n",
        "#prints 20th image in image format"
      ]
    },
    {
      "cell_type": "markdown",
      "id": "vp9OanwWxFAu",
      "metadata": {
        "id": "vp9OanwWxFAu"
      },
      "source": [
        "25) Print the label that represents this image (numerical value).  "
      ]
    },
    {
      "cell_type": "code",
      "execution_count": null,
      "id": "eFb5kiSKxKz-",
      "metadata": {
        "id": "eFb5kiSKxKz-"
      },
      "outputs": [],
      "source": [
        "train_labels[19]\n",
        "#prints the label for the image with a numerical value 19"
      ]
    },
    {
      "cell_type": "markdown",
      "id": "p3RWr8yexLvH",
      "metadata": {
        "id": "p3RWr8yexLvH"
      },
      "source": [
        "26) Print the corresponding students' name that is represented by this image."
      ]
    },
    {
      "cell_type": "code",
      "execution_count": null,
      "id": "MzRQQZ4-ALZ1",
      "metadata": {
        "id": "MzRQQZ4-ALZ1"
      },
      "outputs": [],
      "source": [
        "student_names[0]\n",
        "#prints the first student name"
      ]
    },
    {
      "cell_type": "markdown",
      "id": "d554f292",
      "metadata": {
        "id": "d554f292"
      },
      "source": [
        "Now we can make predictions and get probabilities.  I will be checking this block to make sure that everything above it has run. Do not edit this block of code at all."
      ]
    },
    {
      "cell_type": "code",
      "execution_count": null,
      "id": "cc3ef11a",
      "metadata": {
        "id": "cc3ef11a"
      },
      "outputs": [],
      "source": [
        "pred, prob = predict(model,test_tensors)\n",
        "#gets alll the prediction and probability"
      ]
    },
    {
      "cell_type": "code",
      "execution_count": null,
      "id": "8eded227",
      "metadata": {
        "id": "8eded227"
      },
      "outputs": [],
      "source": [
        "pred #prins the pred"
      ]
    },
    {
      "cell_type": "markdown",
      "id": "0uWzRFZBxqRm",
      "metadata": {
        "id": "0uWzRFZBxqRm"
      },
      "source": [
        "27) Describe what these numerical values mean."
      ]
    },
    {
      "cell_type": "markdown",
      "id": "rB9iWxbtxrA-",
      "metadata": {
        "id": "rB9iWxbtxrA-"
      },
      "source": [
        "Answer:"
      ]
    },
    {
      "cell_type": "code",
      "execution_count": null,
      "id": "e363d8e0",
      "metadata": {
        "id": "e363d8e0"
      },
      "outputs": [],
      "source": [
        "prob #pritns the prob"
      ]
    },
    {
      "cell_type": "markdown",
      "id": "xUWB2gXuxu8-",
      "metadata": {
        "id": "xUWB2gXuxu8-"
      },
      "source": [
        "28) Describe what these numerical values mean."
      ]
    },
    {
      "cell_type": "markdown",
      "id": "0al2Z5Gmxx3-",
      "metadata": {
        "id": "0al2Z5Gmxx3-"
      },
      "source": [
        "Answer:  Numerical values are how sure the computer is about its answer (probability)"
      ]
    },
    {
      "cell_type": "markdown",
      "id": "DjiSjs7Bx19e",
      "metadata": {
        "id": "DjiSjs7Bx19e"
      },
      "source": [
        "29) Print the 30th image in the test image dataset, its label and prediction and probability."
      ]
    },
    {
      "cell_type": "code",
      "execution_count": null,
      "id": "ff80d3fd",
      "metadata": {
        "id": "ff80d3fd"
      },
      "outputs": [],
      "source": [
        "show_image_vpp(test_images[29],test_labels[29], pred[29],prob[29]) #prints the 30th image, the test label, the prediction, and the probability"
      ]
    },
    {
      "cell_type": "markdown",
      "id": "IugXy5o9yOb2",
      "metadata": {
        "id": "IugXy5o9yOb2"
      },
      "source": [
        "30) Plot the 3rd image in the test_images dataset, its label, prediction, and probability.  "
      ]
    },
    {
      "cell_type": "code",
      "execution_count": null,
      "id": "e7f330ce",
      "metadata": {
        "id": "e7f330ce"
      },
      "outputs": [],
      "source": [
        "show_image_vpp(test_images[2],test_labels[2], pred[2],prob[2])#Shows the 3rd image and its label,pred,and prob"
      ]
    },
    {
      "cell_type": "markdown",
      "id": "364a219b",
      "metadata": {
        "id": "364a219b"
      },
      "source": [
        "Compute the number of wrong predictions. If everything above is running correctly this code block should run. Do not change it.  "
      ]
    },
    {
      "cell_type": "code",
      "execution_count": null,
      "id": "6611c2b2",
      "metadata": {
        "id": "6611c2b2"
      },
      "outputs": [],
      "source": [
        "wrong_predictions_count = 0\n",
        "for i in range(test_images.shape[0]):\n",
        "    if test_labels[i] != pred[i]:\n",
        "      wrong_predictions_count= wrong_predictions_count + 1\n",
        "wrong_predictions_count\n",
        "#finds the number of incorrect predictions"
      ]
    },
    {
      "cell_type": "markdown",
      "id": "tW8wVPfKX2MY",
      "metadata": {
        "id": "tW8wVPfKX2MY"
      },
      "source": [
        "31) Explain which two items are being compared in your own words to get the \"wrong_predictions.\""
      ]
    },
    {
      "cell_type": "markdown",
      "id": "voDk2ZmlX9I7",
      "metadata": {
        "id": "voDk2ZmlX9I7"
      },
      "source": [
        "Answer:Test labels and the predictions numbers are being compared to determine if there are any wrong predictions"
      ]
    },
    {
      "cell_type": "markdown",
      "id": "7UbOmDvJ0hpW",
      "metadata": {
        "id": "7UbOmDvJ0hpW"
      },
      "source": [
        "Determine the number of wrong predictions in the test dataset.  If everything above is running correctly this code block should run. Do not change it."
      ]
    },
    {
      "cell_type": "code",
      "execution_count": null,
      "id": "ngs0hocgzmhy",
      "metadata": {
        "id": "ngs0hocgzmhy"
      },
      "outputs": [],
      "source": [
        "wrong_predictions_count = 0\n",
        "for i in range(test_images.shape[0]):\n",
        "    if test_labels[i] != pred[i]:\n",
        "      wrong_predictions_count= wrong_predictions_count + 1\n",
        "wrong_predictions_count\n",
        "#finds the number of incorrect predictions"
      ]
    },
    {
      "cell_type": "markdown",
      "id": "Ym0jkN7-z6z-",
      "metadata": {
        "id": "Ym0jkN7-z6z-"
      },
      "source": [
        "Calculate the accuracy on the test_images.  If everything above is running correctly this code block should run. Do not change it."
      ]
    },
    {
      "cell_type": "code",
      "execution_count": null,
      "id": "0yHu4h9jz-fN",
      "metadata": {
        "id": "0yHu4h9jz-fN"
      },
      "outputs": [],
      "source": [
        "accuracy = 1-(wrong_predictions_count/len(test_labels))\n",
        "accuracy\n",
        "#the math operation to calculate the accuracy of its predictions"
      ]
    },
    {
      "cell_type": "markdown",
      "id": "e8YrYuXd0bJG",
      "metadata": {
        "id": "e8YrYuXd0bJG"
      },
      "source": [
        "32) Determine the number of wrong predictions in the training dataset.  \n"
      ]
    },
    {
      "cell_type": "code",
      "execution_count": null,
      "id": "JVRZq6kWz6QQ",
      "metadata": {
        "id": "JVRZq6kWz6QQ"
      },
      "outputs": [],
      "source": [
        "accuracys = 1-(wrong_predictions_count/len(train_labels))\n",
        "accuracys\n",
        "#finds the number of incorrect predictions in the training data set train labels"
      ]
    },
    {
      "cell_type": "markdown",
      "id": "wDdvWEoc1AMd",
      "metadata": {
        "id": "wDdvWEoc1AMd"
      },
      "source": [
        "33) Calculate the accuracy on the training_images.  "
      ]
    },
    {
      "cell_type": "code",
      "execution_count": null,
      "id": "gP_iKiMq1D4U",
      "metadata": {
        "id": "gP_iKiMq1D4U"
      },
      "outputs": [],
      "source": [
        "accuracyss = 1-(wrong_predictions_count/len(train_images))\n",
        "accuracyss\n",
        "#calculates the accuracy for training images"
      ]
    },
    {
      "cell_type": "markdown",
      "id": "g5psmhvC1EYe",
      "metadata": {
        "id": "g5psmhvC1EYe"
      },
      "source": [
        "34) Describe why the accuracy of the training images is higher than that of the testing images.  "
      ]
    },
    {
      "cell_type": "markdown",
      "id": "FfFgt2xR-I0T",
      "metadata": {
        "id": "FfFgt2xR-I0T"
      },
      "source": [
        "Answer: The accuracy is higher for training images because they are the images the compiter was trained on. This means that the computer better understands the information."
      ]
    },
    {
      "cell_type": "markdown",
      "id": "ce7bca71",
      "metadata": {
        "id": "ce7bca71"
      },
      "source": [
        "\n",
        "35) Display the first 10 faces in the training dataset, their predictions and probabilities.\n"
      ]
    },
    {
      "cell_type": "code",
      "execution_count": null,
      "id": "fb9f1557",
      "metadata": {
        "id": "fb9f1557"
      },
      "outputs": [],
      "source": [
        "for i in range(10):\n",
        "  show_image_vpp(test_images[i], test_labels[i], pred[i],prob[i])\n",
        "  # showss the image as well as it's label, AI prediction,, and probability\n"
      ]
    },
    {
      "cell_type": "markdown",
      "id": "75b31954",
      "metadata": {
        "id": "75b31954"
      },
      "source": [
        "\n",
        "Evaluate the accuracy of the test set using model.evaluate.  Do not change this code.\n"
      ]
    },
    {
      "cell_type": "code",
      "execution_count": null,
      "id": "60cdb4cf",
      "metadata": {
        "id": "60cdb4cf"
      },
      "outputs": [],
      "source": [
        "model.evaluate(train_tensors, train_labels) #uses the model.evaluate method to evaluate the model"
      ]
    },
    {
      "cell_type": "markdown",
      "id": "cl6AEVrB2UkF",
      "metadata": {
        "id": "cl6AEVrB2UkF"
      },
      "source": [
        "Evaluate the accuracy of the test set using model.evaluate.  Do not change this code."
      ]
    },
    {
      "cell_type": "code",
      "execution_count": null,
      "id": "27399a02",
      "metadata": {
        "id": "27399a02"
      },
      "outputs": [],
      "source": [
        "model.evaluate(test_tensors, test_labels) #uses the model.evaluate method to evaluate the model, this time using the test dataset"
      ]
    },
    {
      "cell_type": "markdown",
      "id": "v_tDhJOw2kbd",
      "metadata": {
        "id": "v_tDhJOw2kbd"
      },
      "source": [
        "Once you get this entire model working (don't worry about the accuracy yet), call me over to grade it.  Once you get it working it will be time to manipulate the building model function and training model function for accuracy.  "
      ]
    }
  ],
  "metadata": {
    "colab": {
      "provenance": [],
      "include_colab_link": true
    },
    "kernelspec": {
      "display_name": "Python 3",
      "language": "python",
      "name": "python3"
    },
    "language_info": {
      "codemirror_mode": {
        "name": "ipython",
        "version": 3
      },
      "file_extension": ".py",
      "mimetype": "text/x-python",
      "name": "python",
      "nbconvert_exporter": "python",
      "pygments_lexer": "ipython3",
      "version": "3.8.8"
    }
  },
  "nbformat": 4,
  "nbformat_minor": 5
}