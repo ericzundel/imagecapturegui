{
  "cells": [
    {
      "cell_type": "markdown",
      "metadata": {
        "id": "view-in-github",
        "colab_type": "text"
      },
      "source": [
        "<a href=\"https://colab.research.google.com/github/ericzundel/imagecapturegui/blob/main/Copy_of_Rhyland_ONeill_Final_Student_Recognition_Model_Template_Starter_ipynb_Part_2.ipynb\" target=\"_parent\"><img src=\"https://colab.research.google.com/assets/colab-badge.svg\" alt=\"Open In Colab\"/></a>"
      ]
    },
    {
      "cell_type": "markdown",
      "id": "1K4cg4H1lvM0",
      "metadata": {
        "id": "1K4cg4H1lvM0"
      },
      "source": [
        "# **This is the starting point of your final face recognition model.  You will need to fill in all of the missing boxes with correct code.  You are also required to write correct and descriptive comments in each block. Your model needs to reach a 80% accuracy on your testing data for your final project.**"
      ]
    },
    {
      "cell_type": "code",
      "execution_count": null,
      "id": "6534c9ab",
      "metadata": {
        "id": "6534c9ab"
      },
      "outputs": [],
      "source": [
        "from tensorflow import keras #imports all of the necessary libraries and functions from libraries that are needed to run this code\n",
        "from tensorflow.keras import layers\n",
        "from tensorflow.keras.datasets import imdb\n",
        "import numpy as np\n",
        "import os, shutil, pathlib\n",
        "from tensorflow.keras.utils import load_img\n",
        "from tensorflow.keras.utils import img_to_array\n",
        "from tensorflow.keras.utils import array_to_img\n",
        "import matplotlib.pyplot as plt\n",
        "import tensorflow as tf\n",
        "from PIL import Image"
      ]
    },
    {
      "cell_type": "code",
      "execution_count": null,
      "id": "95f593f8",
      "metadata": {
        "id": "95f593f8"
      },
      "outputs": [],
      "source": [
        "def show_image(im): #defines show_image, and shows the image with the summer color\n",
        "  plt.imshow(im,cmap=plt.cm.summer)\n",
        "  plt.show()"
      ]
    },
    {
      "cell_type": "code",
      "execution_count": null,
      "id": "dd8e4483",
      "metadata": {
        "id": "dd8e4483"
      },
      "outputs": [],
      "source": [
        "def show_image_vpp(im,value,prediction,probability): #defines an image's value, prediction, and probability and prints text with the statements. also shows the imagee with the summer color\n",
        "  plt.imshow(im,cmap=plt.cm.summer)\n",
        "  plt.show()\n",
        "  print(\"the value is \",student_names[value])\n",
        "  print(\"The predicted value is \",student_names[prediction],\" with probability: \",probability)"
      ]
    },
    {
      "cell_type": "markdown",
      "id": "_T4osOr2mbdA",
      "metadata": {
        "id": "_T4osOr2mbdA"
      },
      "source": [
        "Keep this as is for now. Once you get everything running, you will come back to this and build out the layers using what you know."
      ]
    },
    {
      "cell_type": "code",
      "execution_count": null,
      "id": "bcd721d4",
      "metadata": {
        "id": "bcd721d4"
      },
      "outputs": [],
      "source": [
        "def build_model(input_shape): #builds the layers of the model including the input layer, the inside layers, and the output layer. also defines it as build_model and returns the model\n",
        "    input = keras.Input(shape=(input_shape,),name=\"data\")\n",
        "    l1 = layers.Dense(512,activation=\"relu\")(input)\n",
        "    l2 = layers.Dense(512,activation=\"relu\")(l1)\n",
        "    output = layers.Dense(38,activation=\"softmax\")(l2)\n",
        "    model = keras.Model(inputs=input,outputs=output)\n",
        "    return model"
      ]
    },
    {
      "cell_type": "markdown",
      "id": "68Mcx0LSmuA5",
      "metadata": {
        "id": "68Mcx0LSmuA5"
      },
      "source": [
        "1) Explain what the 38 means in the output layer.  "
      ]
    },
    {
      "cell_type": "markdown",
      "id": "uzbRDJn-m12X",
      "metadata": {
        "id": "uzbRDJn-m12X"
      },
      "source": [
        "Answer: The 38 represents the output, which represents the dataset, and the 38 is the amount of people who took pictures."
      ]
    },
    {
      "cell_type": "markdown",
      "id": "9YDXxGrXm9ka",
      "metadata": {
        "id": "9YDXxGrXm9ka"
      },
      "source": [
        "Note that the number of epochs below is 1.  Don't change it for now, but after you get everything else working, you will need to come back and address this to improve your model's accuracy.  "
      ]
    },
    {
      "cell_type": "code",
      "execution_count": null,
      "id": "e3ee20b9",
      "metadata": {
        "id": "e3ee20b9"
      },
      "outputs": [],
      "source": [
        "def train_model(model,train_tensors,train_labels): #defines train model, compiles the model, optimizes it, and fits the model\n",
        "    model.compile(optimizer=\"rmsprop\",loss=\"sparse_categorical_crossentropy\",metrics=[\"accuracy\"])\n",
        "    model.fit(train_tensors,train_labels,epochs=120)"
      ]
    },
    {
      "cell_type": "markdown",
      "id": "7OYU8qs5nGG5",
      "metadata": {
        "id": "7OYU8qs5nGG5"
      },
      "source": [
        "2) How do you know if you need more or less epochs?  "
      ]
    },
    {
      "cell_type": "markdown",
      "id": "ciIR_TZ1qXoR",
      "metadata": {
        "id": "ciIR_TZ1qXoR"
      },
      "source": [
        "Answer: When you have too much data or too little data that can determine how many epochs you need."
      ]
    },
    {
      "cell_type": "code",
      "execution_count": null,
      "id": "85d8efa2",
      "metadata": {
        "id": "85d8efa2"
      },
      "outputs": [],
      "source": [
        "def predict(model,test_tensors): #defines the model predict as an array and returns it with predictions and probability\n",
        "    mpredictions = model.predict(test_tensors)\n",
        "    digit_predictions = np.array([x.argmax() for x in mpredictions])\n",
        "    digit_probability = np.array([mpredictions[i][p] for i, p in enumerate(digit_predictions)])\n",
        "    return digit_predictions,digit_probability"
      ]
    },
    {
      "cell_type": "markdown",
      "id": "6ed3d25a",
      "metadata": {
        "id": "6ed3d25a"
      },
      "source": [
        "# Get the training and testing data.  Use this video if you are absent when I go over this in class.  "
      ]
    },
    {
      "cell_type": "markdown",
      "id": "LxCdbomynSxp",
      "metadata": {
        "id": "LxCdbomynSxp"
      },
      "source": [
        "This is new code and it is not expected that you understand this, but you need to add a shortcut to this folder on your google drive.  Once you have your shortcut, replace the below path after \"My Drive/\" with your path. I will walk you through this step in class. Once you have done that, run this code to confirm you are accessing the class image files.  If you are not here when we do this part, you can watch this video of how to do it here: https://www.loom.com/share/4316be2eaac34ddfa1fcfed7d7bbbbcf?sid=725db59f-5ceb-43b4-bb14-5c37dd947108\n",
        "  "
      ]
    },
    {
      "cell_type": "markdown",
      "id": "wSNklu9-oz9q",
      "metadata": {
        "id": "wSNklu9-oz9q"
      },
      "source": [
        "Folder link: https://drive.google.com/drive/folders/1Lnhpm_B231bTZ8__k6Rw3BYDwei-dQYO?usp=sharing\n"
      ]
    },
    {
      "cell_type": "code",
      "execution_count": null,
      "id": "p_Q8M5EhxxkG",
      "metadata": {
        "colab": {
          "base_uri": "https://localhost:8080/",
          "height": 235
        },
        "id": "p_Q8M5EhxxkG",
        "outputId": "47ce385d-b654-470c-9357-6f4d63a0cb48"
      },
      "outputs": [
        {
          "name": "stdout",
          "output_type": "stream",
          "text": [
            "Mounted at /content/gdrive\n",
            " Alexandra_Price      Destin_Woolf\t  Justin_Leake\t  \"Rhyland_O'Neill\"\n",
            " Armon_Anderson       Donald_Humphrey\t  Kaci_Turner\t  'Tahlin_Thompson Saunders-Brathwaite'\n",
            " Austin_Smith\t      Don_Evans\t\t  Kenadie_Smith    Tarrence_Sturdivant\n",
            " Beth_White\t      Emma_Davis\t  Kendrick_Myers   Thorn_High\n",
            " Chase_Griffin\t      Eric_Ayers\t  Kristine_Allen   Trinity_Smith\n",
            " Christian_Hill       Jackson_Humphries   Laila_Shannon    Tunazi_Bello\n",
            " Cordarius_Williams   Jonathan_Thompson   Landon_Cox\t   Victor_Hicks\n",
            " Curtis_Augustin      Joshua_Boney\t  Lucian_Leon\t  'Zediwa_De Jesus'\n",
            " David_Kurt\t      Julian_Carlson\t  Malik_Weems\n",
            " Destin_Jack\t      Justin_Brown\t  Peter_McKnight\n"
          ]
        },
        {
          "data": {
            "text/plain": [
              "<Figure size 1000x1000 with 0 Axes>"
            ]
          },
          "metadata": {},
          "output_type": "display_data"
        }
      ],
      "source": [
        "from google.colab import drive #imports the data from google drive as images\n",
        "drive.mount('/content/gdrive')\n",
        "!ls \"/content/gdrive/My Drive/ML_Image_Data/MLImages-backup-240416-140003\"\n",
        "plt.figure(figsize=(10, 10))\n",
        "size_picture = 100"
      ]
    },
    {
      "cell_type": "code",
      "execution_count": null,
      "id": "f7413d5a",
      "metadata": {
        "id": "f7413d5a"
      },
      "outputs": [],
      "source": [
        "#(train_images, train_labels), (test_images, test_labels) = mnist.load_data()"
      ]
    },
    {
      "cell_type": "markdown",
      "id": "uMivY7IZVkHI",
      "metadata": {
        "id": "uMivY7IZVkHI"
      },
      "source": [
        "3) In the digit recognition model, what did this (above) block of code do?  Break down your answer into all four parts."
      ]
    },
    {
      "cell_type": "markdown",
      "id": "o69H93qz7-GO",
      "metadata": {
        "id": "o69H93qz7-GO"
      },
      "source": [
        "Answer: The code is broken down into 4 different parts: train images, train labels, test images, and test labels."
      ]
    },
    {
      "cell_type": "markdown",
      "id": "ijw1UZKvpTta",
      "metadata": {
        "id": "ijw1UZKvpTta"
      },
      "source": [
        "Bonus: The combination of the two next functions will do what the above function did for the MNIST dataset.  You can get up to 40 KT bonus on your project if you can write correct line by line comments on what these lines of code do.  This must be your own work to be considered for bonus. Do not use another person or AI to help. If yo don't want bonus, just run the next two code blocks."
      ]
    },
    {
      "cell_type": "code",
      "execution_count": null,
      "id": "P9cG5MYUWB-G",
      "metadata": {
        "id": "P9cG5MYUWB-G"
      },
      "outputs": [],
      "source": [
        "def tensor_from_image(filename): #defines tensor_from_image as a filename\n",
        "    img = load_img(filename,color_mode = 'grayscale') #loads an image in the grayscale color\n",
        "    img = img.resize((size_picture,size_picture)) #resizes the image\n",
        "    return img_to_array(img).reshape((size_picture,size_picture)) #returns the image to an array and reshapes it"
      ]
    },
    {
      "cell_type": "code",
      "execution_count": null,
      "id": "osv0xSwcVwOj",
      "metadata": {
        "id": "osv0xSwcVwOj"
      },
      "outputs": [],
      "source": [
        "def load_dataset(): #defines the entire function as load_dataset\n",
        "    train_images = [] #defines train_images as an empty list\n",
        "    train_labels = [] #defines train_labels as an empty list\n",
        "    test_images = [] #defines test_images as an empty list\n",
        "    test_labels = [] #defines test_labels as an empty list\n",
        "    base_directory = pathlib.Path('/content/gdrive/My Drive/ML_Image_Data/MLImages-backup-240416-140003') #sets the directory to the google drive folder containing the data\n",
        "    student_names = os.listdir(base_directory) #gets the student_names list from the base directory\n",
        "    k = 0 #sets k equal to zero\n",
        "    n = 0 #sets n equal to zero\n",
        "    names = [] #assigns the following data to the empty list called 'names'\n",
        "    for i, s in enumerate(student_names): #enumerates each student name to s\n",
        "        print(i,s) #prints i and s\n",
        "        if s!=\".DS_Store\": #checks if the names are equal to .DS_Store\n",
        "            names.append(s) #appends the names (s) to names\n",
        "            student_directory = base_directory / s #assigns the student directory to the base directory and names\n",
        "            image_names = os.listdir(student_directory) #gets a list of image names in the student_directory using the os.listdir() function\n",
        "            for i in image_names: #for every image name (i) in the directory\n",
        "                fname = student_directory / i #sets fname equal to the student_directory and image names (i)\n",
        "                t = tensor_from_image(fname)/255 #/ 255 #loads the image data and assigns it to t\n",
        "                if n % 9 == 0: #defines a conditional statement for if n is divisible by 9 then it will do the following below:\n",
        "                    test_images.append(t) #appends to the test_images dataset\n",
        "                    test_labels.append(k) #appends to the test_labels dataset\n",
        "                else: #if the image doesn't fit the conditional it does the following below:\n",
        "                    train_images.append(t) #appends to the train_images dataset\n",
        "                    train_labels.append(k) #appends to the train_labels dataset\n",
        "                n += 1 #counts the number of images in the testing dataset\n",
        "            k += 1 #counts the number of images in the training datset\n",
        "    return (k, #returns k\n",
        "            (np.array(train_images),np.array(train_labels)), #returns the training dataset as a numpy array\n",
        "            (np.array(test_images),np.array(test_labels)), #returns the test dataset as a numpy array\n",
        "            names #returns the names linked to the the images\n",
        "           )"
      ]
    },
    {
      "cell_type": "markdown",
      "id": "1PFPZwGU7gnr",
      "metadata": {
        "id": "1PFPZwGU7gnr"
      },
      "source": [
        "Run this code to load your data.  "
      ]
    },
    {
      "cell_type": "code",
      "execution_count": null,
      "id": "eg9pem0kW-YO",
      "metadata": {
        "colab": {
          "base_uri": "https://localhost:8080/"
        },
        "id": "eg9pem0kW-YO",
        "outputId": "5eb470ce-efb2-44bb-af2b-ff4ef9b9b621"
      },
      "outputs": [
        {
          "name": "stdout",
          "output_type": "stream",
          "text": [
            "0 Donald_Humphrey\n",
            "1 Chase_Griffin\n",
            "2 Armon_Anderson\n",
            "3 Joshua_Boney\n",
            "4 Destin_Jack\n",
            "5 Beth_White\n",
            "6 Lucian_Leon\n",
            "7 Jonathan_Thompson\n",
            "8 Tahlin_Thompson Saunders-Brathwaite\n",
            "9 Julian_Carlson\n",
            "10 Laila_Shannon\n",
            "11 Destin_Woolf\n",
            "12 Malik_Weems\n",
            "13 Kaci_Turner\n",
            "14 Thorn_High\n",
            "15 Cordarius_Williams\n",
            "16 Tunazi_Bello\n",
            "17 Victor_Hicks\n",
            "18 Peter_McKnight\n",
            "19 Zediwa_De Jesus\n",
            "20 Justin_Brown\n",
            "21 Alexandra_Price\n",
            "22 Kendrick_Myers\n",
            "23 Eric_Ayers\n",
            "24 Curtis_Augustin\n",
            "25 Kenadie_Smith\n",
            "26 Rhyland_O'Neill\n",
            "27 Justin_Leake\n",
            "28 Jackson_Humphries\n",
            "29 Tarrence_Sturdivant\n",
            "30 Austin_Smith\n",
            "31 Kristine_Allen\n",
            "32 David_Kurt\n",
            "33 Emma_Davis\n",
            "34 Landon_Cox\n",
            "35 Christian_Hill\n",
            "36 Trinity_Smith\n",
            "37 Don_Evans\n"
          ]
        }
      ],
      "source": [
        "(nb_students,(train_images,train_labels),(test_images,test_labels),student_names) = load_dataset() #loads all of the data in the nb_students dataset"
      ]
    },
    {
      "cell_type": "markdown",
      "id": "TmbGzbRx7n7b",
      "metadata": {
        "id": "TmbGzbRx7n7b"
      },
      "source": [
        "Print out each of the six items in the loaded data to get an idea of or refresh yourself on what they are."
      ]
    },
    {
      "cell_type": "markdown",
      "id": "KYFuHGKh8Ki0",
      "metadata": {
        "id": "KYFuHGKh8Ki0"
      },
      "source": [
        "4) Print the first item."
      ]
    },
    {
      "cell_type": "code",
      "execution_count": null,
      "id": "XuMNgBD77uTd",
      "metadata": {
        "colab": {
          "base_uri": "https://localhost:8080/"
        },
        "id": "XuMNgBD77uTd",
        "outputId": "eaf121d0-ed3d-481b-e694-9ddc866b8016"
      },
      "outputs": [
        {
          "data": {
            "text/plain": [
              "38"
            ]
          },
          "execution_count": 12,
          "metadata": {},
          "output_type": "execute_result"
        }
      ],
      "source": [
        "nb_students #prints nb_students"
      ]
    },
    {
      "cell_type": "markdown",
      "id": "8ok5bPYJ8Ll1",
      "metadata": {
        "id": "8ok5bPYJ8Ll1"
      },
      "source": [
        "5) Print the second item."
      ]
    },
    {
      "cell_type": "code",
      "execution_count": null,
      "id": "fSsqyZhI7uot",
      "metadata": {
        "colab": {
          "base_uri": "https://localhost:8080/"
        },
        "id": "fSsqyZhI7uot",
        "outputId": "9e95518c-26a8-4566-b25f-850cc5f96df5"
      },
      "outputs": [
        {
          "data": {
            "text/plain": [
              "array([[[0.6313726 , 0.6313726 , 0.6313726 , ..., 0.6       ,\n",
              "         0.6431373 , 0.63529414],\n",
              "        [0.6313726 , 0.6313726 , 0.627451  , ..., 0.6509804 ,\n",
              "         0.69803923, 0.6392157 ],\n",
              "        [0.6313726 , 0.6313726 , 0.6313726 , ..., 0.65882355,\n",
              "         0.7019608 , 0.6431373 ],\n",
              "        ...,\n",
              "        [0.47843137, 0.49019608, 0.5058824 , ..., 0.7882353 ,\n",
              "         0.78039217, 0.7882353 ],\n",
              "        [0.45882353, 0.4509804 , 0.44705883, ..., 0.72156864,\n",
              "         0.7882353 , 0.7137255 ],\n",
              "        [0.47058824, 0.4627451 , 0.4745098 , ..., 0.64705884,\n",
              "         0.7882353 , 0.6156863 ]],\n",
              "\n",
              "       [[0.6313726 , 0.627451  , 0.627451  , ..., 0.6       ,\n",
              "         0.6392157 , 0.6313726 ],\n",
              "        [0.627451  , 0.62352943, 0.62352943, ..., 0.6431373 ,\n",
              "         0.69803923, 0.63529414],\n",
              "        [0.627451  , 0.62352943, 0.62352943, ..., 0.654902  ,\n",
              "         0.69803923, 0.6392157 ],\n",
              "        ...,\n",
              "        [0.4745098 , 0.49019608, 0.5058824 , ..., 0.78039217,\n",
              "         0.7764706 , 0.78039217],\n",
              "        [0.45490196, 0.45490196, 0.44313726, ..., 0.7176471 ,\n",
              "         0.78039217, 0.70980394],\n",
              "        [0.46666667, 0.45882353, 0.4627451 , ..., 0.6392157 ,\n",
              "         0.78039217, 0.60784316]],\n",
              "\n",
              "       [[0.59607846, 0.5921569 , 0.59607846, ..., 0.5686275 ,\n",
              "         0.6117647 , 0.5647059 ],\n",
              "        [0.59607846, 0.5921569 , 0.5921569 , ..., 0.60784316,\n",
              "         0.6509804 , 0.5921569 ],\n",
              "        [0.59607846, 0.5921569 , 0.5921569 , ..., 0.60784316,\n",
              "         0.6392157 , 0.58431375],\n",
              "        ...,\n",
              "        [0.40392157, 0.41568628, 0.41568628, ..., 0.72156864,\n",
              "         0.7137255 , 0.6901961 ],\n",
              "        [0.4117647 , 0.41568628, 0.41960785, ..., 0.69803923,\n",
              "         0.6745098 , 0.6117647 ],\n",
              "        [0.40784314, 0.41568628, 0.42745098, ..., 0.627451  ,\n",
              "         0.6784314 , 0.5529412 ]],\n",
              "\n",
              "       ...,\n",
              "\n",
              "       [[0.6745098 , 0.6745098 , 0.6745098 , ..., 0.54901963,\n",
              "         0.5882353 , 0.6039216 ],\n",
              "        [0.6745098 , 0.67058825, 0.6666667 , ..., 0.5921569 ,\n",
              "         0.64705884, 0.5921569 ],\n",
              "        [0.67058825, 0.6666667 , 0.67058825, ..., 0.6117647 ,\n",
              "         0.65882355, 0.6039216 ],\n",
              "        ...,\n",
              "        [0.46666667, 0.49019608, 0.5254902 , ..., 0.7294118 ,\n",
              "         0.7294118 , 0.73333335],\n",
              "        [0.42745098, 0.41568628, 0.41568628, ..., 0.654902  ,\n",
              "         0.7372549 , 0.6862745 ],\n",
              "        [0.44705883, 0.44313726, 0.4627451 , ..., 0.5803922 ,\n",
              "         0.7372549 , 0.57254905]],\n",
              "\n",
              "       [[0.6901961 , 0.6862745 , 0.6862745 , ..., 0.5647059 ,\n",
              "         0.6039216 , 0.6117647 ],\n",
              "        [0.6862745 , 0.6862745 , 0.6862745 , ..., 0.60784316,\n",
              "         0.6627451 , 0.60784316],\n",
              "        [0.6862745 , 0.6862745 , 0.6862745 , ..., 0.627451  ,\n",
              "         0.6745098 , 0.6156863 ],\n",
              "        ...,\n",
              "        [0.4627451 , 0.48235294, 0.52156866, ..., 0.7372549 ,\n",
              "         0.7372549 , 0.74509805],\n",
              "        [0.42745098, 0.41568628, 0.41960785, ..., 0.6666667 ,\n",
              "         0.74509805, 0.69411767],\n",
              "        [0.44313726, 0.44705883, 0.4745098 , ..., 0.5921569 ,\n",
              "         0.74509805, 0.58431375]],\n",
              "\n",
              "       [[0.6784314 , 0.6745098 , 0.6745098 , ..., 0.54901963,\n",
              "         0.5882353 , 0.6039216 ],\n",
              "        [0.6745098 , 0.6666667 , 0.67058825, ..., 0.5921569 ,\n",
              "         0.64705884, 0.5921569 ],\n",
              "        [0.67058825, 0.6666667 , 0.67058825, ..., 0.6117647 ,\n",
              "         0.65882355, 0.6039216 ],\n",
              "        ...,\n",
              "        [0.47058824, 0.49019608, 0.52156866, ..., 0.7294118 ,\n",
              "         0.7254902 , 0.73333335],\n",
              "        [0.42745098, 0.41960785, 0.41568628, ..., 0.65882355,\n",
              "         0.7372549 , 0.6862745 ],\n",
              "        [0.44313726, 0.44313726, 0.46666667, ..., 0.5803922 ,\n",
              "         0.7372549 , 0.57254905]]], dtype=float32)"
            ]
          },
          "execution_count": 13,
          "metadata": {},
          "output_type": "execute_result"
        }
      ],
      "source": [
        "train_images #prints train_images as an array"
      ]
    },
    {
      "cell_type": "markdown",
      "id": "f9XkjD9j8Mds",
      "metadata": {
        "id": "f9XkjD9j8Mds"
      },
      "source": [
        "6) Print the third item."
      ]
    },
    {
      "cell_type": "code",
      "execution_count": null,
      "id": "7AKF8wUN7vN0",
      "metadata": {
        "colab": {
          "base_uri": "https://localhost:8080/"
        },
        "id": "7AKF8wUN7vN0",
        "outputId": "f183dbca-92fc-4e5b-97d0-c3700b47bdcc"
      },
      "outputs": [
        {
          "data": {
            "text/plain": [
              "array([ 0,  0,  0, ..., 37, 37, 37])"
            ]
          },
          "execution_count": 14,
          "metadata": {},
          "output_type": "execute_result"
        }
      ],
      "source": [
        "train_labels #prints train_labels as an array"
      ]
    },
    {
      "cell_type": "markdown",
      "id": "UVv-tXww8Nem",
      "metadata": {
        "id": "UVv-tXww8Nem"
      },
      "source": [
        "7) Print the 4th item."
      ]
    },
    {
      "cell_type": "code",
      "execution_count": null,
      "id": "RhxDSjpQ7vqO",
      "metadata": {
        "colab": {
          "base_uri": "https://localhost:8080/"
        },
        "id": "RhxDSjpQ7vqO",
        "outputId": "c6d8e30a-5f92-4aae-8b93-596601814da7"
      },
      "outputs": [
        {
          "data": {
            "text/plain": [
              "array([[[0.69411767, 0.69803923, 0.7019608 , ..., 0.5176471 ,\n",
              "         0.5568628 , 0.5372549 ],\n",
              "        [0.69803923, 0.6784314 , 0.6392157 , ..., 0.54901963,\n",
              "         0.59607846, 0.57254905],\n",
              "        [0.5058824 , 0.4392157 , 0.39215687, ..., 0.53333336,\n",
              "         0.5921569 , 0.54901963],\n",
              "        ...,\n",
              "        [0.38039216, 0.37254903, 0.35686275, ..., 0.6313726 ,\n",
              "         0.64705884, 0.65882355],\n",
              "        [0.3647059 , 0.2901961 , 0.23529412, ..., 0.54901963,\n",
              "         0.65882355, 0.54901963],\n",
              "        [0.2       , 0.16470589, 0.19215687, ..., 0.49803922,\n",
              "         0.6392157 , 0.5254902 ]],\n",
              "\n",
              "       [[0.5882353 , 0.58431375, 0.58431375, ..., 0.57254905,\n",
              "         0.61960787, 0.6156863 ],\n",
              "        [0.58431375, 0.5803922 , 0.5803922 , ..., 0.6156863 ,\n",
              "         0.6745098 , 0.6313726 ],\n",
              "        [0.58431375, 0.58431375, 0.58431375, ..., 0.62352943,\n",
              "         0.68235296, 0.62352943],\n",
              "        ...,\n",
              "        [0.46666667, 0.46666667, 0.47058824, ..., 0.7411765 ,\n",
              "         0.7411765 , 0.7490196 ],\n",
              "        [0.47058824, 0.4509804 , 0.43529412, ..., 0.6627451 ,\n",
              "         0.7529412 , 0.6784314 ],\n",
              "        [0.4392157 , 0.39215687, 0.38431373, ..., 0.59607846,\n",
              "         0.7490196 , 0.6039216 ]],\n",
              "\n",
              "       [[0.69411767, 0.69803923, 0.7019608 , ..., 0.52156866,\n",
              "         0.5568628 , 0.5372549 ],\n",
              "        [0.69803923, 0.68235296, 0.6392157 , ..., 0.54901963,\n",
              "         0.5921569 , 0.57254905],\n",
              "        [0.5019608 , 0.43529412, 0.39215687, ..., 0.53333336,\n",
              "         0.5882353 , 0.54901963],\n",
              "        ...,\n",
              "        [0.3764706 , 0.37254903, 0.35686275, ..., 0.6313726 ,\n",
              "         0.654902  , 0.6627451 ],\n",
              "        [0.36862746, 0.2901961 , 0.23529412, ..., 0.54901963,\n",
              "         0.6627451 , 0.5529412 ],\n",
              "        [0.19607843, 0.16078432, 0.19215687, ..., 0.49803922,\n",
              "         0.64705884, 0.5372549 ]],\n",
              "\n",
              "       ...,\n",
              "\n",
              "       [[0.60784316, 0.6039216 , 0.60784316, ..., 0.58431375,\n",
              "         0.627451  , 0.5803922 ],\n",
              "        [0.60784316, 0.6039216 , 0.60784316, ..., 0.627451  ,\n",
              "         0.6666667 , 0.60784316],\n",
              "        [0.60784316, 0.6039216 , 0.60784316, ..., 0.62352943,\n",
              "         0.65882355, 0.59607846],\n",
              "        ...,\n",
              "        [0.41960785, 0.42745098, 0.43137255, ..., 0.7372549 ,\n",
              "         0.7294118 , 0.7019608 ],\n",
              "        [0.42352942, 0.43529412, 0.43529412, ..., 0.7176471 ,\n",
              "         0.6901961 , 0.61960787],\n",
              "        [0.42352942, 0.43137255, 0.4392157 , ..., 0.6431373 ,\n",
              "         0.69411767, 0.5647059 ]],\n",
              "\n",
              "       [[0.64705884, 0.67058825, 0.6862745 , ..., 0.61960787,\n",
              "         0.65882355, 0.6745098 ],\n",
              "        [0.64705884, 0.67058825, 0.6862745 , ..., 0.6509804 ,\n",
              "         0.7137255 , 0.7254902 ],\n",
              "        [0.64705884, 0.6666667 , 0.6784314 , ..., 0.6509804 ,\n",
              "         0.7254902 , 0.7058824 ],\n",
              "        ...,\n",
              "        [0.44313726, 0.45882353, 0.4627451 , ..., 0.70980394,\n",
              "         0.75686276, 0.75686276],\n",
              "        [0.47058824, 0.46666667, 0.4627451 , ..., 0.62352943,\n",
              "         0.7647059 , 0.70980394],\n",
              "        [0.46666667, 0.4509804 , 0.45882353, ..., 0.60784316,\n",
              "         0.7294118 , 0.68235296]],\n",
              "\n",
              "       [[0.7176471 , 0.73333335, 0.7411765 , ..., 0.6313726 ,\n",
              "         0.6784314 , 0.6784314 ],\n",
              "        [0.7137255 , 0.73333335, 0.74509805, ..., 0.6666667 ,\n",
              "         0.7372549 , 0.72156864],\n",
              "        [0.7137255 , 0.7294118 , 0.7372549 , ..., 0.6627451 ,\n",
              "         0.7372549 , 0.69803923],\n",
              "        ...,\n",
              "        [0.49019608, 0.48235294, 0.47843137, ..., 0.7411765 ,\n",
              "         0.75686276, 0.7607843 ],\n",
              "        [0.49803922, 0.44313726, 0.39607844, ..., 0.6509804 ,\n",
              "         0.76862746, 0.6509804 ],\n",
              "        [0.39215687, 0.36078432, 0.36078432, ..., 0.6       ,\n",
              "         0.7529412 , 0.61960787]]], dtype=float32)"
            ]
          },
          "execution_count": 15,
          "metadata": {},
          "output_type": "execute_result"
        }
      ],
      "source": [
        "test_images #prints test_images as an array"
      ]
    },
    {
      "cell_type": "markdown",
      "id": "EafgVFwF8OOc",
      "metadata": {
        "id": "EafgVFwF8OOc"
      },
      "source": [
        "8) Print the 5th item."
      ]
    },
    {
      "cell_type": "code",
      "execution_count": null,
      "id": "HA6KcIrx7v-7",
      "metadata": {
        "colab": {
          "base_uri": "https://localhost:8080/"
        },
        "id": "HA6KcIrx7v-7",
        "outputId": "e056a803-24a7-4cad-e55d-4b63019ff96f"
      },
      "outputs": [
        {
          "data": {
            "text/plain": [
              "array([ 0,  0,  0,  0,  0,  1,  1,  1,  1,  1,  3,  3,  3,  3,  4,  4,  4,\n",
              "        4,  4,  4,  4,  4,  4,  4,  5,  5,  5,  5,  5,  5,  5,  6,  6,  6,\n",
              "        6,  6,  6,  6,  6,  6,  6,  6,  6,  6,  7,  7,  7,  7,  7,  7,  8,\n",
              "        8,  8,  9,  9,  9,  9,  9,  9,  9,  9, 10, 10, 10, 10, 10, 10, 10,\n",
              "       10, 10, 10, 10, 10, 10, 11, 11, 11, 11, 11, 11, 11, 11, 11, 11, 11,\n",
              "       11, 12, 12, 12, 12, 12, 12, 12, 12, 12, 12, 13, 13, 13, 13, 13, 13,\n",
              "       14, 14, 14, 15, 15, 15, 15, 15, 15, 15, 15, 15, 15, 15, 15, 15, 15,\n",
              "       15, 15, 15, 15, 16, 16, 16, 16, 16, 16, 16, 16, 18, 18, 18, 18, 18,\n",
              "       18, 18, 19, 19, 19, 19, 19, 19, 19, 19, 19, 19, 19, 20, 20, 20, 20,\n",
              "       20, 20, 20, 20, 20, 20, 20, 20, 20, 20, 20, 21, 21, 21, 21, 21, 21,\n",
              "       21, 21, 21, 23, 23, 23, 23, 23, 23, 23, 23, 23, 23, 23, 23, 23, 23,\n",
              "       23, 23, 23, 23, 23, 23, 23, 23, 23, 23, 23, 23, 23, 23, 23, 23, 24,\n",
              "       25, 25, 25, 25, 25, 25, 25, 25, 25, 25, 25, 25, 26, 26, 26, 26, 26,\n",
              "       26, 26, 26, 26, 27, 27, 27, 27, 27, 27, 28, 28, 28, 28, 28, 28, 28,\n",
              "       28, 28, 28, 28, 28, 28, 28, 28, 29, 29, 29, 29, 29, 29, 29, 29, 30,\n",
              "       30, 30, 30, 30, 30, 30, 30, 31, 31, 31, 31, 31, 33, 33, 33, 33, 33,\n",
              "       33, 33, 34, 34, 34, 35, 35, 35, 37])"
            ]
          },
          "execution_count": 16,
          "metadata": {},
          "output_type": "execute_result"
        }
      ],
      "source": [
        "test_labels #prints test_labels as an array"
      ]
    },
    {
      "cell_type": "markdown",
      "id": "vskd905h8O5k",
      "metadata": {
        "id": "vskd905h8O5k"
      },
      "source": [
        "9) Print the 6th item."
      ]
    },
    {
      "cell_type": "code",
      "execution_count": null,
      "id": "s41arA6m7was",
      "metadata": {
        "colab": {
          "base_uri": "https://localhost:8080/"
        },
        "id": "s41arA6m7was",
        "outputId": "7cc73abb-705d-4a9c-fe43-32683d78be18"
      },
      "outputs": [
        {
          "data": {
            "text/plain": [
              "['Donald_Humphrey',\n",
              " 'Chase_Griffin',\n",
              " 'Armon_Anderson',\n",
              " 'Joshua_Boney',\n",
              " 'Destin_Jack',\n",
              " 'Beth_White',\n",
              " 'Lucian_Leon',\n",
              " 'Jonathan_Thompson',\n",
              " 'Tahlin_Thompson Saunders-Brathwaite',\n",
              " 'Julian_Carlson',\n",
              " 'Laila_Shannon',\n",
              " 'Destin_Woolf',\n",
              " 'Malik_Weems',\n",
              " 'Kaci_Turner',\n",
              " 'Thorn_High',\n",
              " 'Cordarius_Williams',\n",
              " 'Tunazi_Bello',\n",
              " 'Victor_Hicks',\n",
              " 'Peter_McKnight',\n",
              " 'Zediwa_De Jesus',\n",
              " 'Justin_Brown',\n",
              " 'Alexandra_Price',\n",
              " 'Kendrick_Myers',\n",
              " 'Eric_Ayers',\n",
              " 'Curtis_Augustin',\n",
              " 'Kenadie_Smith',\n",
              " \"Rhyland_O'Neill\",\n",
              " 'Justin_Leake',\n",
              " 'Jackson_Humphries',\n",
              " 'Tarrence_Sturdivant',\n",
              " 'Austin_Smith',\n",
              " 'Kristine_Allen',\n",
              " 'David_Kurt',\n",
              " 'Emma_Davis',\n",
              " 'Landon_Cox',\n",
              " 'Christian_Hill',\n",
              " 'Trinity_Smith',\n",
              " 'Don_Evans']"
            ]
          },
          "execution_count": 17,
          "metadata": {},
          "output_type": "execute_result"
        }
      ],
      "source": [
        "student_names #prints all of the student names"
      ]
    },
    {
      "cell_type": "markdown",
      "id": "6378a5d6",
      "metadata": {
        "id": "6378a5d6"
      },
      "source": [
        "10) Assign the shape of train_images to train_shape. Print train_shape."
      ]
    },
    {
      "cell_type": "code",
      "execution_count": null,
      "id": "51052f17",
      "metadata": {
        "colab": {
          "base_uri": "https://localhost:8080/"
        },
        "id": "51052f17",
        "outputId": "df1d356b-3ece-4fa2-d910-461f00e33e19"
      },
      "outputs": [
        {
          "data": {
            "text/plain": [
              "(2244, 100, 100)"
            ]
          },
          "execution_count": 18,
          "metadata": {},
          "output_type": "execute_result"
        }
      ],
      "source": [
        "train_shape = np.shape(train_images) #assigns the shape of train images to train shape and prints train_shape\n",
        "train_shape"
      ]
    },
    {
      "cell_type": "markdown",
      "id": "f24883ba",
      "metadata": {
        "id": "f24883ba"
      },
      "source": [
        "11) Print out the first image train_images in matrix format.\n",
        "\n"
      ]
    },
    {
      "cell_type": "code",
      "execution_count": null,
      "id": "990a0e20",
      "metadata": {
        "colab": {
          "base_uri": "https://localhost:8080/"
        },
        "id": "990a0e20",
        "outputId": "4c56bcef-5797-4681-e46e-ab06be428df4"
      },
      "outputs": [
        {
          "data": {
            "text/plain": [
              "array([[0.6313726 , 0.6313726 , 0.6313726 , ..., 0.6       , 0.6431373 ,\n",
              "        0.63529414],\n",
              "       [0.6313726 , 0.6313726 , 0.627451  , ..., 0.6509804 , 0.69803923,\n",
              "        0.6392157 ],\n",
              "       [0.6313726 , 0.6313726 , 0.6313726 , ..., 0.65882355, 0.7019608 ,\n",
              "        0.6431373 ],\n",
              "       ...,\n",
              "       [0.47843137, 0.49019608, 0.5058824 , ..., 0.7882353 , 0.78039217,\n",
              "        0.7882353 ],\n",
              "       [0.45882353, 0.4509804 , 0.44705883, ..., 0.72156864, 0.7882353 ,\n",
              "        0.7137255 ],\n",
              "       [0.47058824, 0.4627451 , 0.4745098 , ..., 0.64705884, 0.7882353 ,\n",
              "        0.6156863 ]], dtype=float32)"
            ]
          },
          "execution_count": 19,
          "metadata": {},
          "output_type": "execute_result"
        }
      ],
      "source": [
        "train_images[0] #prints the first image in train_images as a matrix"
      ]
    },
    {
      "cell_type": "markdown",
      "id": "sjpOXDbRs-V4",
      "metadata": {
        "id": "sjpOXDbRs-V4"
      },
      "source": [
        "12) Print out the first image in train images in image format."
      ]
    },
    {
      "cell_type": "code",
      "execution_count": null,
      "id": "ksYxLD8BtH14",
      "metadata": {
        "colab": {
          "base_uri": "https://localhost:8080/",
          "height": 433
        },
        "id": "ksYxLD8BtH14",
        "outputId": "c3dd9ab4-a211-4220-d060-521477e094a6"
      },
      "outputs": [
        {
          "data": {
            "image/png": "[encoded data removed]",
            "text/plain": [
              "<Figure size 640x480 with 1 Axes>"
            ]
          },
          "metadata": {},
          "output_type": "display_data"
        }
      ],
      "source": [
        "show_image(train_images[0]) #prints the image in image format"
      ]
    },
    {
      "cell_type": "markdown",
      "id": "B0WoU-iNtcp4",
      "metadata": {
        "id": "B0WoU-iNtcp4"
      },
      "source": [
        "13) Print out the label for this image."
      ]
    },
    {
      "cell_type": "code",
      "execution_count": null,
      "id": "K--m32l4tWDP",
      "metadata": {
        "colab": {
          "base_uri": "https://localhost:8080/"
        },
        "id": "K--m32l4tWDP",
        "outputId": "0487b5cf-a6ff-4cdd-d008-c01da2f8bf10"
      },
      "outputs": [
        {
          "data": {
            "text/plain": [
              "0"
            ]
          },
          "execution_count": 21,
          "metadata": {},
          "output_type": "execute_result"
        }
      ],
      "source": [
        "train_labels[0] #prints the label for the first image"
      ]
    },
    {
      "cell_type": "markdown",
      "id": "OGDNkQ-Rtqvg",
      "metadata": {
        "id": "OGDNkQ-Rtqvg"
      },
      "source": [
        "Print out the name associated with this label."
      ]
    },
    {
      "cell_type": "code",
      "execution_count": null,
      "id": "A410I3WLt2aJ",
      "metadata": {
        "colab": {
          "base_uri": "https://localhost:8080/",
          "height": 36
        },
        "id": "A410I3WLt2aJ",
        "outputId": "737652c8-f56a-4669-abf2-e7e33320943d"
      },
      "outputs": [
        {
          "data": {
            "application/vnd.google.colaboratory.intrinsic+json": {
              "type": "string"
            },
            "text/plain": [
              "'Donald_Humphrey'"
            ]
          },
          "execution_count": 22,
          "metadata": {},
          "output_type": "execute_result"
        }
      ],
      "source": [
        "student_names[0] #prints the name associated with this label"
      ]
    },
    {
      "cell_type": "markdown",
      "id": "PJJhW15WvBlf",
      "metadata": {
        "id": "PJJhW15WvBlf"
      },
      "source": [
        "14) Print out the second name in student_names."
      ]
    },
    {
      "cell_type": "code",
      "execution_count": null,
      "id": "uJrp9YJ3uvu5",
      "metadata": {
        "colab": {
          "base_uri": "https://localhost:8080/",
          "height": 36
        },
        "id": "uJrp9YJ3uvu5",
        "outputId": "88d175ea-e865-4044-b409-0acdc82e1634"
      },
      "outputs": [
        {
          "data": {
            "application/vnd.google.colaboratory.intrinsic+json": {
              "type": "string"
            },
            "text/plain": [
              "'Chase_Griffin'"
            ]
          },
          "execution_count": 23,
          "metadata": {},
          "output_type": "execute_result"
        }
      ],
      "source": [
        "student_names[1] #prints the second name in student_names"
      ]
    },
    {
      "cell_type": "markdown",
      "id": "M7wbr6jbt7x1",
      "metadata": {
        "id": "M7wbr6jbt7x1"
      },
      "source": [
        "*15*) Write a for loop to print out all of the names in the list student_names and their indices (indexes).  "
      ]
    },
    {
      "cell_type": "code",
      "execution_count": null,
      "id": "tFGhIcWQt7Q-",
      "metadata": {
        "colab": {
          "base_uri": "https://localhost:8080/"
        },
        "id": "tFGhIcWQt7Q-",
        "outputId": "f2a79a4b-1788-48f2-c039-bafd7c70a9ac"
      },
      "outputs": [
        {
          "name": "stdout",
          "output_type": "stream",
          "text": [
            "0 Donald_Humphrey\n",
            "1 Chase_Griffin\n",
            "2 Armon_Anderson\n",
            "3 Joshua_Boney\n",
            "4 Destin_Jack\n",
            "5 Beth_White\n",
            "6 Lucian_Leon\n",
            "7 Jonathan_Thompson\n",
            "8 Tahlin_Thompson Saunders-Brathwaite\n",
            "9 Julian_Carlson\n",
            "10 Laila_Shannon\n",
            "11 Destin_Woolf\n",
            "12 Malik_Weems\n",
            "13 Kaci_Turner\n",
            "14 Thorn_High\n",
            "15 Cordarius_Williams\n",
            "16 Tunazi_Bello\n",
            "17 Victor_Hicks\n",
            "18 Peter_McKnight\n",
            "19 Zediwa_De Jesus\n",
            "20 Justin_Brown\n",
            "21 Alexandra_Price\n",
            "22 Kendrick_Myers\n",
            "23 Eric_Ayers\n",
            "24 Curtis_Augustin\n",
            "25 Kenadie_Smith\n",
            "26 Rhyland_O'Neill\n",
            "27 Justin_Leake\n",
            "28 Jackson_Humphries\n",
            "29 Tarrence_Sturdivant\n",
            "30 Austin_Smith\n",
            "31 Kristine_Allen\n",
            "32 David_Kurt\n",
            "33 Emma_Davis\n",
            "34 Landon_Cox\n",
            "35 Christian_Hill\n",
            "36 Trinity_Smith\n",
            "37 Don_Evans\n"
          ]
        }
      ],
      "source": [
        "for i in range(38): #prints out all of the names in the list and their indexes.\n",
        "  print(i,student_names[i])"
      ]
    },
    {
      "cell_type": "markdown",
      "id": "d86d2cf6",
      "metadata": {
        "id": "d86d2cf6"
      },
      "source": [
        "16) Reshape your train_images \"from a box into a line\" and assign them to train_tensors.  Print out train_tensors.shape to confirm that they have been put into a line.  "
      ]
    },
    {
      "cell_type": "code",
      "execution_count": null,
      "id": "9c045452",
      "metadata": {
        "colab": {
          "base_uri": "https://localhost:8080/"
        },
        "id": "9c045452",
        "outputId": "2771cfef-45a3-4e4a-9bc6-0e86a7d11164"
      },
      "outputs": [
        {
          "data": {
            "text/plain": [
              "(2244, 10000)"
            ]
          },
          "execution_count": 25,
          "metadata": {},
          "output_type": "execute_result"
        }
      ],
      "source": [
        "train_tensors = train_images.reshape((train_shape[0],train_shape[1]*train_shape[2])) #reshapes the train_images into a line and assigns it to train_tensors then prints out the shape of train_tensors\n",
        "train_tensors.shape"
      ]
    },
    {
      "cell_type": "markdown",
      "id": "5681d44b",
      "metadata": {
        "id": "5681d44b"
      },
      "source": [
        "17) Call the build model function with the correct parameter (the second value in train_tensors.shape)."
      ]
    },
    {
      "cell_type": "code",
      "execution_count": null,
      "id": "de1391f7",
      "metadata": {
        "colab": {
          "base_uri": "https://localhost:8080/"
        },
        "id": "de1391f7",
        "outputId": "0e77cf15-35c3-4ddc-a6f0-1c2a5a6c71a4"
      },
      "outputs": [
        {
          "data": {
            "text/plain": [
              "<keras.src.engine.functional.Functional at 0x7b28d87e05e0>"
            ]
          },
          "execution_count": 26,
          "metadata": {},
          "output_type": "execute_result"
        }
      ],
      "source": [
        "build_model(train_shape[1]*train_shape[2]) #calls the build model function with the parameters"
      ]
    },
    {
      "cell_type": "markdown",
      "id": "pPx6gc7jv0eI",
      "metadata": {
        "id": "pPx6gc7jv0eI"
      },
      "source": [
        "18) Print out the model summary using the summary method."
      ]
    },
    {
      "cell_type": "code",
      "execution_count": null,
      "id": "r5ue-loQbU3t",
      "metadata": {
        "colab": {
          "base_uri": "https://localhost:8080/"
        },
        "id": "r5ue-loQbU3t",
        "outputId": "7dcf71a9-2864-44c2-ada9-a53952c3b663"
      },
      "outputs": [
        {
          "name": "stdout",
          "output_type": "stream",
          "text": [
            "Model: \"model_1\"\n",
            "_________________________________________________________________\n",
            " Layer (type)                Output Shape              Param #   \n",
            "=================================================================\n",
            " data (InputLayer)           [(None, 10000)]           0         \n",
            "                                                                 \n",
            " dense_3 (Dense)             (None, 512)               5120512   \n",
            "                                                                 \n",
            " dense_4 (Dense)             (None, 512)               262656    \n",
            "                                                                 \n",
            " dense_5 (Dense)             (None, 38)                19494     \n",
            "                                                                 \n",
            "=================================================================\n",
            "Total params: 5402662 (20.61 MB)\n",
            "Trainable params: 5402662 (20.61 MB)\n",
            "Non-trainable params: 0 (0.00 Byte)\n",
            "_________________________________________________________________\n"
          ]
        }
      ],
      "source": [
        "model = build_model(train_shape[1]*train_shape[2]) #prints out the model summary using the summary method\n",
        "model.summary()"
      ]
    },
    {
      "cell_type": "markdown",
      "id": "8a2cc1ba",
      "metadata": {
        "id": "8a2cc1ba"
      },
      "source": [
        "19) Call the train model function with the appropraite parameters. Remember all functions are defined above if you need a reference."
      ]
    },
    {
      "cell_type": "code",
      "execution_count": null,
      "id": "538a5024",
      "metadata": {
        "colab": {
          "background_save": true,
          "base_uri": "https://localhost:8080/"
        },
        "id": "538a5024",
        "outputId": "80ab24d1-7724-46f7-bbf0-f12f71bd3e96"
      },
      "outputs": [
        {
          "name": "stdout",
          "output_type": "stream",
          "text": [
            "Epoch 1/120\n",
            "71/71 [==============================] - 8s 99ms/step - loss: 5.2573 - accuracy: 0.0900\n",
            "Epoch 2/120\n",
            "71/71 [==============================] - 6s 84ms/step - loss: 3.0997 - accuracy: 0.1555\n",
            "Epoch 3/120\n",
            "71/71 [==============================] - 8s 109ms/step - loss: 2.8053 - accuracy: 0.2139\n",
            "Epoch 4/120\n",
            "71/71 [==============================] - 6s 81ms/step - loss: 2.6654 - accuracy: 0.2393\n",
            "Epoch 5/120\n",
            "71/71 [==============================] - 6s 81ms/step - loss: 2.4780 - accuracy: 0.2830\n",
            "Epoch 6/120\n",
            "71/71 [==============================] - 7s 105ms/step - loss: 2.3868 - accuracy: 0.3070\n",
            "Epoch 7/120\n",
            "71/71 [==============================] - 6s 78ms/step - loss: 2.2476 - accuracy: 0.3347\n",
            "Epoch 8/120\n",
            "71/71 [==============================] - 7s 104ms/step - loss: 2.1561 - accuracy: 0.3578\n",
            "Epoch 9/120\n",
            "71/71 [==============================] - 6s 79ms/step - loss: 2.0444 - accuracy: 0.3850\n",
            "Epoch 10/120\n",
            "71/71 [==============================] - 6s 85ms/step - loss: 1.9652 - accuracy: 0.4055\n",
            "Epoch 11/120\n",
            "71/71 [==============================] - 8s 108ms/step - loss: 1.8968 - accuracy: 0.4073\n",
            "Epoch 12/120\n",
            "71/71 [==============================] - 5s 74ms/step - loss: 1.8320 - accuracy: 0.4336\n",
            "Epoch 13/120\n",
            "71/71 [==============================] - 6s 88ms/step - loss: 1.7339 - accuracy: 0.4675\n",
            "Epoch 14/120\n",
            "71/71 [==============================] - 8s 115ms/step - loss: 1.7246 - accuracy: 0.4782\n",
            "Epoch 15/120\n",
            "71/71 [==============================] - 6s 84ms/step - loss: 1.6280 - accuracy: 0.4866\n",
            "Epoch 16/120\n",
            "71/71 [==============================] - 7s 105ms/step - loss: 1.6527 - accuracy: 0.4955\n",
            "Epoch 17/120\n",
            "71/71 [==============================] - 6s 80ms/step - loss: 1.5636 - accuracy: 0.5036\n",
            "Epoch 18/120\n",
            "71/71 [==============================] - 6s 91ms/step - loss: 1.5339 - accuracy: 0.5076\n",
            "Epoch 19/120\n",
            "71/71 [==============================] - 7s 100ms/step - loss: 1.4995 - accuracy: 0.5357\n",
            "Epoch 20/120\n",
            "71/71 [==============================] - 5s 76ms/step - loss: 1.4405 - accuracy: 0.5267\n",
            "Epoch 21/120\n",
            "71/71 [==============================] - 8s 107ms/step - loss: 1.4005 - accuracy: 0.5397\n",
            "Epoch 22/120\n",
            "71/71 [==============================] - 6s 83ms/step - loss: 1.3820 - accuracy: 0.5441\n",
            "Epoch 23/120\n",
            "71/71 [==============================] - 6s 87ms/step - loss: 1.3410 - accuracy: 0.5820\n",
            "Epoch 24/120\n",
            "71/71 [==============================] - 7s 97ms/step - loss: 1.3263 - accuracy: 0.5504\n",
            "Epoch 25/120\n",
            "71/71 [==============================] - 6s 78ms/step - loss: 1.3190 - accuracy: 0.5553\n",
            "Epoch 26/120\n",
            "71/71 [==============================] - 8s 113ms/step - loss: 1.2805 - accuracy: 0.5878\n",
            "Epoch 27/120\n",
            "71/71 [==============================] - 6s 82ms/step - loss: 1.2642 - accuracy: 0.5784\n",
            "Epoch 28/120\n",
            "71/71 [==============================] - 7s 93ms/step - loss: 1.2034 - accuracy: 0.5971\n",
            "Epoch 29/120\n",
            "71/71 [==============================] - 6s 88ms/step - loss: 1.2081 - accuracy: 0.6047\n",
            "Epoch 30/120\n",
            "71/71 [==============================] - 6s 88ms/step - loss: 1.1991 - accuracy: 0.6029\n",
            "Epoch 31/120\n",
            "71/71 [==============================] - 8s 110ms/step - loss: 1.1732 - accuracy: 0.6239\n",
            "Epoch 32/120\n",
            "71/71 [==============================] - 5s 76ms/step - loss: 1.1423 - accuracy: 0.6243\n",
            "Epoch 33/120\n",
            "71/71 [==============================] - 7s 100ms/step - loss: 1.0958 - accuracy: 0.6315\n",
            "Epoch 34/120\n",
            "71/71 [==============================] - 7s 93ms/step - loss: 1.1115 - accuracy: 0.6266\n",
            "Epoch 35/120\n",
            "71/71 [==============================] - 6s 80ms/step - loss: 1.0736 - accuracy: 0.6457\n",
            "Epoch 36/120\n",
            "71/71 [==============================] - 8s 114ms/step - loss: 1.0747 - accuracy: 0.6582\n",
            "Epoch 37/120\n",
            "71/71 [==============================] - 6s 90ms/step - loss: 1.0234 - accuracy: 0.6702\n",
            "Epoch 38/120\n",
            "71/71 [==============================] - 8s 111ms/step - loss: 1.0415 - accuracy: 0.6586\n",
            "Epoch 39/120\n",
            "71/71 [==============================] - 6s 79ms/step - loss: 0.9667 - accuracy: 0.6751\n",
            "Epoch 40/120\n",
            "71/71 [==============================] - 6s 91ms/step - loss: 1.0109 - accuracy: 0.6604\n",
            "Epoch 41/120\n",
            "71/71 [==============================] - 7s 103ms/step - loss: 1.0054 - accuracy: 0.6720\n",
            "Epoch 42/120\n",
            "71/71 [==============================] - 6s 84ms/step - loss: 0.9829 - accuracy: 0.6725\n",
            "Epoch 43/120\n",
            "71/71 [==============================] - 8s 108ms/step - loss: 0.9410 - accuracy: 0.6912\n",
            "Epoch 44/120\n",
            "71/71 [==============================] - 6s 80ms/step - loss: 0.9541 - accuracy: 0.6818\n",
            "Epoch 45/120\n",
            "71/71 [==============================] - 7s 99ms/step - loss: 0.9344 - accuracy: 0.6867\n",
            "Epoch 46/120\n",
            "71/71 [==============================] - 7s 93ms/step - loss: 0.9156 - accuracy: 0.6956\n",
            "Epoch 47/120\n",
            "71/71 [==============================] - 5s 75ms/step - loss: 0.8812 - accuracy: 0.6992\n",
            "Epoch 48/120\n",
            "71/71 [==============================] - 8s 111ms/step - loss: 0.9164 - accuracy: 0.6934\n",
            "Epoch 49/120\n",
            "71/71 [==============================] - 6s 85ms/step - loss: 0.8657 - accuracy: 0.7130\n",
            "Epoch 50/120\n",
            "71/71 [==============================] - 7s 104ms/step - loss: 0.8880 - accuracy: 0.7108\n",
            "Epoch 51/120\n",
            "71/71 [==============================] - 6s 86ms/step - loss: 0.8519 - accuracy: 0.7299\n",
            "Epoch 52/120\n",
            "71/71 [==============================] - 5s 76ms/step - loss: 0.8093 - accuracy: 0.7340\n",
            "Epoch 53/120\n",
            "71/71 [==============================] - 7s 104ms/step - loss: 0.8262 - accuracy: 0.7273\n",
            "Epoch 54/120\n",
            "71/71 [==============================] - 5s 77ms/step - loss: 0.8472 - accuracy: 0.7264\n",
            "Epoch 55/120\n",
            "71/71 [==============================] - 6s 81ms/step - loss: 0.8002 - accuracy: 0.7366\n",
            "Epoch 56/120\n",
            "71/71 [==============================] - 7s 96ms/step - loss: 0.7867 - accuracy: 0.7282\n",
            "Epoch 57/120\n",
            "71/71 [==============================] - 6s 86ms/step - loss: 0.7960 - accuracy: 0.7317\n",
            "Epoch 58/120\n",
            "71/71 [==============================] - 8s 113ms/step - loss: 0.7476 - accuracy: 0.7723\n",
            "Epoch 59/120\n",
            "71/71 [==============================] - 8s 114ms/step - loss: 0.8102 - accuracy: 0.7344\n",
            "Epoch 60/120\n",
            "71/71 [==============================] - 8s 119ms/step - loss: 0.7361 - accuracy: 0.7447\n",
            "Epoch 61/120\n",
            "71/71 [==============================] - 6s 85ms/step - loss: 0.7733 - accuracy: 0.7469\n",
            "Epoch 62/120\n",
            "71/71 [==============================] - 7s 104ms/step - loss: 0.7288 - accuracy: 0.7576\n",
            "Epoch 63/120\n",
            "71/71 [==============================] - 6s 83ms/step - loss: 0.7289 - accuracy: 0.7616\n",
            "Epoch 64/120\n",
            "71/71 [==============================] - 5s 77ms/step - loss: 0.7460 - accuracy: 0.7549\n",
            "Epoch 65/120\n",
            "71/71 [==============================] - 8s 110ms/step - loss: 0.7304 - accuracy: 0.7487\n",
            "Epoch 66/120\n",
            "71/71 [==============================] - 5s 70ms/step - loss: 0.6970 - accuracy: 0.7674\n",
            "Epoch 67/120\n",
            "71/71 [==============================] - 7s 93ms/step - loss: 0.7084 - accuracy: 0.7732\n",
            "Epoch 68/120\n",
            "71/71 [==============================] - 6s 91ms/step - loss: 0.6946 - accuracy: 0.7750\n",
            "Epoch 69/120\n",
            "71/71 [==============================] - 5s 75ms/step - loss: 0.6625 - accuracy: 0.7794\n",
            "Epoch 70/120\n",
            "71/71 [==============================] - 7s 101ms/step - loss: 0.6605 - accuracy: 0.7763\n",
            "Epoch 71/120\n",
            "71/71 [==============================] - 6s 85ms/step - loss: 0.6632 - accuracy: 0.7888\n",
            "Epoch 72/120\n",
            "71/71 [==============================] - 7s 100ms/step - loss: 0.6768 - accuracy: 0.7812\n",
            "Epoch 73/120\n",
            "71/71 [==============================] - 7s 95ms/step - loss: 0.6382 - accuracy: 0.7848\n",
            "Epoch 74/120\n",
            "71/71 [==============================] - 6s 85ms/step - loss: 0.6347 - accuracy: 0.7963\n",
            "Epoch 75/120\n",
            "71/71 [==============================] - 8s 113ms/step - loss: 0.6726 - accuracy: 0.7816\n",
            "Epoch 76/120\n",
            "71/71 [==============================] - 6s 79ms/step - loss: 0.6126 - accuracy: 0.8128\n",
            "Epoch 77/120\n",
            "71/71 [==============================] - 7s 96ms/step - loss: 0.6625 - accuracy: 0.7955\n",
            "Epoch 78/120\n",
            "71/71 [==============================] - 7s 95ms/step - loss: 0.6253 - accuracy: 0.7830\n",
            "Epoch 79/120\n",
            "71/71 [==============================] - 6s 83ms/step - loss: 0.5993 - accuracy: 0.8115\n",
            "Epoch 80/120\n",
            "71/71 [==============================] - 8s 114ms/step - loss: 0.6610 - accuracy: 0.7906\n",
            "Epoch 81/120\n",
            "71/71 [==============================] - 6s 85ms/step - loss: 0.5951 - accuracy: 0.8053\n",
            "Epoch 82/120\n",
            "71/71 [==============================] - 8s 114ms/step - loss: 0.6052 - accuracy: 0.7977\n",
            "Epoch 83/120\n",
            "71/71 [==============================] - 6s 82ms/step - loss: 0.5828 - accuracy: 0.8017\n",
            "Epoch 84/120\n",
            "71/71 [==============================] - 7s 93ms/step - loss: 0.5604 - accuracy: 0.8044\n",
            "Epoch 85/120\n",
            "71/71 [==============================] - 14s 197ms/step - loss: 0.6048 - accuracy: 0.8195\n",
            "Epoch 86/120\n",
            "71/71 [==============================] - 8s 113ms/step - loss: 0.6074 - accuracy: 0.7986\n",
            "Epoch 87/120\n",
            "71/71 [==============================] - 7s 93ms/step - loss: 0.5515 - accuracy: 0.8307\n",
            "Epoch 88/120\n",
            "71/71 [==============================] - 7s 99ms/step - loss: 0.5722 - accuracy: 0.8106\n",
            "Epoch 89/120\n",
            "71/71 [==============================] - 7s 103ms/step - loss: 0.5388 - accuracy: 0.8289\n",
            "Epoch 90/120\n",
            "71/71 [==============================] - 6s 82ms/step - loss: 0.5379 - accuracy: 0.8119\n",
            "Epoch 91/120\n",
            "71/71 [==============================] - 8s 110ms/step - loss: 0.5362 - accuracy: 0.8360\n",
            "Epoch 92/120\n",
            "71/71 [==============================] - 6s 89ms/step - loss: 0.5586 - accuracy: 0.8302\n",
            "Epoch 93/120\n",
            "71/71 [==============================] - 8s 115ms/step - loss: 0.5430 - accuracy: 0.8222\n",
            "Epoch 94/120\n",
            "71/71 [==============================] - 6s 86ms/step - loss: 0.5698 - accuracy: 0.8217\n",
            "Epoch 95/120\n",
            "71/71 [==============================] - 7s 102ms/step - loss: 0.5674 - accuracy: 0.8391\n",
            "Epoch 96/120\n",
            "71/71 [==============================] - 7s 100ms/step - loss: 0.5611 - accuracy: 0.8262\n",
            "Epoch 97/120\n",
            "71/71 [==============================] - 6s 83ms/step - loss: 0.5363 - accuracy: 0.8333\n",
            "Epoch 98/120\n",
            "71/71 [==============================] - 7s 101ms/step - loss: 0.4955 - accuracy: 0.8280\n",
            "Epoch 99/120\n",
            "71/71 [==============================] - 6s 79ms/step - loss: 0.5426 - accuracy: 0.8307\n",
            "Epoch 100/120\n",
            "71/71 [==============================] - 7s 105ms/step - loss: 0.4845 - accuracy: 0.8436\n",
            "Epoch 101/120\n",
            "71/71 [==============================] - 8s 114ms/step - loss: 0.5021 - accuracy: 0.8471\n",
            "Epoch 102/120\n",
            "71/71 [==============================] - 8s 108ms/step - loss: 0.5010 - accuracy: 0.8333\n",
            "Epoch 103/120\n",
            "71/71 [==============================] - 6s 83ms/step - loss: 0.5120 - accuracy: 0.8512\n",
            "Epoch 104/120\n",
            "71/71 [==============================] - 7s 93ms/step - loss: 0.4851 - accuracy: 0.8467\n",
            "Epoch 105/120\n",
            "71/71 [==============================] - 7s 97ms/step - loss: 0.4952 - accuracy: 0.8520\n",
            "Epoch 106/120\n",
            "71/71 [==============================] - 6s 88ms/step - loss: 0.5167 - accuracy: 0.8351\n",
            "Epoch 107/120\n",
            "71/71 [==============================] - 8s 117ms/step - loss: 0.4842 - accuracy: 0.8610\n",
            "Epoch 108/120\n",
            "71/71 [==============================] - 6s 81ms/step - loss: 0.4900 - accuracy: 0.8578\n",
            "Epoch 109/120\n",
            "71/71 [==============================] - 8s 107ms/step - loss: 0.4958 - accuracy: 0.8529\n",
            "Epoch 110/120\n",
            "71/71 [==============================] - 7s 101ms/step - loss: 0.4403 - accuracy: 0.8694\n",
            "Epoch 111/120\n",
            "71/71 [==============================] - 6s 81ms/step - loss: 0.4734 - accuracy: 0.8485\n",
            "Epoch 112/120\n",
            "71/71 [==============================] - 8s 106ms/step - loss: 0.4649 - accuracy: 0.8636\n",
            "Epoch 113/120\n",
            "71/71 [==============================] - 6s 81ms/step - loss: 0.4654 - accuracy: 0.8547\n",
            "Epoch 114/120\n",
            "71/71 [==============================] - 8s 115ms/step - loss: 0.3883 - accuracy: 0.8797\n",
            "Epoch 115/120\n",
            "71/71 [==============================] - 6s 89ms/step - loss: 0.5183 - accuracy: 0.8467\n",
            "Epoch 116/120\n",
            "71/71 [==============================] - 8s 107ms/step - loss: 0.4704 - accuracy: 0.8685\n",
            "Epoch 117/120\n",
            "71/71 [==============================] - 7s 94ms/step - loss: 0.4749 - accuracy: 0.8623\n",
            "Epoch 118/120\n",
            "71/71 [==============================] - 6s 82ms/step - loss: 0.4726 - accuracy: 0.8685\n",
            "Epoch 119/120\n",
            "71/71 [==============================] - 8s 108ms/step - loss: 0.4172 - accuracy: 0.8712\n",
            "Epoch 120/120\n",
            "71/71 [==============================] - 5s 75ms/step - loss: 0.4418 - accuracy: 0.8712\n"
          ]
        }
      ],
      "source": [
        "train_model(model,train_tensors,train_labels) #calls the train model function"
      ]
    },
    {
      "cell_type": "markdown",
      "id": "brKUQokuXnA4",
      "metadata": {
        "id": "brKUQokuXnA4"
      },
      "source": [
        "20) What is an epoch?"
      ]
    },
    {
      "cell_type": "markdown",
      "id": "3O6X3LbeXpI1",
      "metadata": {
        "id": "3O6X3LbeXpI1"
      },
      "source": [
        "Answer: a fixed date and time used as a reference from which a computer measures system time"
      ]
    },
    {
      "cell_type": "markdown",
      "id": "b9da1cc7",
      "metadata": {
        "id": "b9da1cc7"
      },
      "source": [
        "21) The model is trained; it is time to see how well it does at recognizing your faces!!  To do this you need to reshape the testing dataset and assign it to test_shape.\n"
      ]
    },
    {
      "cell_type": "code",
      "execution_count": null,
      "id": "20aed3ee",
      "metadata": {
        "id": "20aed3ee"
      },
      "outputs": [],
      "source": [
        "test_shape = test_images.shape #reshapes the test_images and assigns it to test_shape. print out the shape\n",
        "test_shape"
      ]
    },
    {
      "cell_type": "markdown",
      "id": "XdfBPRLiwlOP",
      "metadata": {
        "id": "XdfBPRLiwlOP"
      },
      "source": [
        "22) Reshape your test_images \"from a box to a line\" and assign them to test_tensors."
      ]
    },
    {
      "cell_type": "code",
      "execution_count": null,
      "id": "6dba93b9",
      "metadata": {
        "id": "6dba93b9"
      },
      "outputs": [],
      "source": [
        "test_tensors = np.array(test_images).reshape(len(test_images), -1) #reshapes the test_images into a line and assigns the images to test_tensors\n"
      ]
    },
    {
      "cell_type": "markdown",
      "id": "o_Oxonw7wyKG",
      "metadata": {
        "id": "o_Oxonw7wyKG"
      },
      "source": [
        "23) Print your 20th test image in matrix format."
      ]
    },
    {
      "cell_type": "code",
      "execution_count": null,
      "id": "bDlv-Wh5w3Nq",
      "metadata": {
        "id": "bDlv-Wh5w3Nq"
      },
      "outputs": [],
      "source": [
        "print(test_images[19]) #prints out the 20th[19] image in test_images in matrix format"
      ]
    },
    {
      "cell_type": "markdown",
      "id": "oAL73RU7w3vm",
      "metadata": {
        "id": "oAL73RU7w3vm"
      },
      "source": [
        "24) Print your 20th test image in image format."
      ]
    },
    {
      "cell_type": "code",
      "execution_count": null,
      "id": "tb9bzNfV9cqz",
      "metadata": {
        "id": "tb9bzNfV9cqz"
      },
      "outputs": [],
      "source": [
        "plt.imshow(test_images[19],cmap=plt.cm.summer) #prints the 20th test image in image format in the summer color\n",
        "plt.show()"
      ]
    },
    {
      "cell_type": "markdown",
      "id": "vp9OanwWxFAu",
      "metadata": {
        "id": "vp9OanwWxFAu"
      },
      "source": [
        "25) Print the label that represents this image (numerical value).  "
      ]
    },
    {
      "cell_type": "code",
      "execution_count": null,
      "id": "eFb5kiSKxKz-",
      "metadata": {
        "id": "eFb5kiSKxKz-"
      },
      "outputs": [],
      "source": [
        "test_labels[19] #prints the label of image 20"
      ]
    },
    {
      "cell_type": "markdown",
      "id": "p3RWr8yexLvH",
      "metadata": {
        "id": "p3RWr8yexLvH"
      },
      "source": [
        "26) Print the corresponding students' name that is represented by this image."
      ]
    },
    {
      "cell_type": "code",
      "execution_count": null,
      "id": "MzRQQZ4-ALZ1",
      "metadata": {
        "id": "MzRQQZ4-ALZ1"
      },
      "outputs": [],
      "source": [
        "student_names[4] #prints the name that represents the image 20 label"
      ]
    },
    {
      "cell_type": "markdown",
      "id": "d554f292",
      "metadata": {
        "id": "d554f292"
      },
      "source": [
        "Now we can make predictions and get probabilities.  I will be checking this block to make sure that everything above it has run. Do not edit this block of code at all."
      ]
    },
    {
      "cell_type": "code",
      "execution_count": null,
      "id": "cc3ef11a",
      "metadata": {
        "id": "cc3ef11a"
      },
      "outputs": [],
      "source": [
        "pred, prob = predict(model,test_tensors) #runs all of the predictions and probabilities in the test_tensors model"
      ]
    },
    {
      "cell_type": "code",
      "execution_count": null,
      "id": "8eded227",
      "metadata": {
        "id": "8eded227"
      },
      "outputs": [],
      "source": [
        "pred #runs the predictions"
      ]
    },
    {
      "cell_type": "markdown",
      "id": "0uWzRFZBxqRm",
      "metadata": {
        "id": "0uWzRFZBxqRm"
      },
      "source": [
        "27) Describe what these numerical values mean."
      ]
    },
    {
      "cell_type": "markdown",
      "id": "rB9iWxbtxrA-",
      "metadata": {
        "id": "rB9iWxbtxrA-"
      },
      "source": [
        "Answer: The numbers are telling us which image the computer is predicting it will be."
      ]
    },
    {
      "cell_type": "code",
      "execution_count": null,
      "id": "e363d8e0",
      "metadata": {
        "id": "e363d8e0"
      },
      "outputs": [],
      "source": [
        "prob #runs the probability"
      ]
    },
    {
      "cell_type": "markdown",
      "id": "xUWB2gXuxu8-",
      "metadata": {
        "id": "xUWB2gXuxu8-"
      },
      "source": [
        "28) Describe what these numerical values mean."
      ]
    },
    {
      "cell_type": "markdown",
      "id": "0al2Z5Gmxx3-",
      "metadata": {
        "id": "0al2Z5Gmxx3-"
      },
      "source": [
        "Answer: These values are the probability that the computer was right about its predictions."
      ]
    },
    {
      "cell_type": "markdown",
      "id": "DjiSjs7Bx19e",
      "metadata": {
        "id": "DjiSjs7Bx19e"
      },
      "source": [
        "29) Print the 30th image in the test image dataset, its label and prediction and probability."
      ]
    },
    {
      "cell_type": "code",
      "execution_count": null,
      "id": "ff80d3fd",
      "metadata": {
        "id": "ff80d3fd"
      },
      "outputs": [],
      "source": [
        "show_image_vpp(test_images[29],test_labels[29], pred[29],prob[29]) #prints out the 30th image, its label, its pred, and its prob in test_images"
      ]
    },
    {
      "cell_type": "markdown",
      "id": "IugXy5o9yOb2",
      "metadata": {
        "id": "IugXy5o9yOb2"
      },
      "source": [
        "30) Plot the 3rd image in the test_images dataset, its label, prediction, and probability.  "
      ]
    },
    {
      "cell_type": "code",
      "execution_count": null,
      "id": "e7f330ce",
      "metadata": {
        "id": "e7f330ce"
      },
      "outputs": [],
      "source": [
        "show_image_vpp(test_images[2],test_labels[2], pred[2],prob[2]) #prints the 3rd image, its label, its pred, and its prob in test_images"
      ]
    },
    {
      "cell_type": "markdown",
      "id": "364a219b",
      "metadata": {
        "id": "364a219b"
      },
      "source": [
        "Compute the number of wrong predictions. If everything above is running correctly this code block should run. Do not change it.  "
      ]
    },
    {
      "cell_type": "code",
      "execution_count": null,
      "id": "6611c2b2",
      "metadata": {
        "id": "6611c2b2"
      },
      "outputs": [],
      "source": [
        "wrong_predictions_count = 0 #calculates the number of wrong predictions in the testing dataset and prints out the calculation\n",
        "for i in range(test_images.shape[0]):\n",
        "    if test_labels[i] != pred[i]:\n",
        "      wrong_predictions_count= wrong_predictions_count + 1\n",
        "wrong_predictions_count"
      ]
    },
    {
      "cell_type": "markdown",
      "id": "tW8wVPfKX2MY",
      "metadata": {
        "id": "tW8wVPfKX2MY"
      },
      "source": [
        "31) Explain which two items are being compared in your own words to get the \"wrong_predictions.\""
      ]
    },
    {
      "cell_type": "markdown",
      "id": "voDk2ZmlX9I7",
      "metadata": {
        "id": "voDk2ZmlX9I7"
      },
      "source": [
        "Answer: The predictions and the actual test labels outcomes are being compared to get the wrong predictions"
      ]
    },
    {
      "cell_type": "markdown",
      "id": "7UbOmDvJ0hpW",
      "metadata": {
        "id": "7UbOmDvJ0hpW"
      },
      "source": [
        "Determine the number of wrong predictions in the test dataset.  If everything above is running correctly this code block should run. Do not change it."
      ]
    },
    {
      "cell_type": "code",
      "execution_count": null,
      "id": "ngs0hocgzmhy",
      "metadata": {
        "id": "ngs0hocgzmhy"
      },
      "outputs": [],
      "source": [
        "wrong_predictions_count = 0 #calculates the number of wrong predictions in the testing dataset and prints out the calculation\n",
        "for i in range(test_images.shape[0]):\n",
        "    if test_labels[i] != pred[i]:\n",
        "      wrong_predictions_count= wrong_predictions_count + 1\n",
        "wrong_predictions_count"
      ]
    },
    {
      "cell_type": "markdown",
      "id": "Ym0jkN7-z6z-",
      "metadata": {
        "id": "Ym0jkN7-z6z-"
      },
      "source": [
        "Calculate the accuracy on the test_images.  If everything above is running correctly this code block should run. Do not change it."
      ]
    },
    {
      "cell_type": "code",
      "execution_count": null,
      "id": "0yHu4h9jz-fN",
      "metadata": {
        "id": "0yHu4h9jz-fN"
      },
      "outputs": [],
      "source": [
        "accuracy = 1-(wrong_predictions_count/len(test_labels)) #prints out the accuracy of the test images dataset\n",
        "accuracy"
      ]
    },
    {
      "cell_type": "markdown",
      "id": "e8YrYuXd0bJG",
      "metadata": {
        "id": "e8YrYuXd0bJG"
      },
      "source": [
        "32) Determine the number of wrong predictions in the training dataset.  \n"
      ]
    },
    {
      "cell_type": "code",
      "execution_count": null,
      "id": "JVRZq6kWz6QQ",
      "metadata": {
        "id": "JVRZq6kWz6QQ"
      },
      "outputs": [],
      "source": [
        "wrong_predictions_count= 0 #calculates the number of wrong predictions in the training dataset and prints out the calculation\n",
        "for i in range(train_images.shape[0]):\n",
        "  if train_labels[i] != pred[i]:\n",
        "    wrong_predictions_count= wrong_predictions_count + 1\n",
        "wrong_predictions_count"
      ]
    },
    {
      "cell_type": "code",
      "execution_count": null,
      "id": "_j45EZ8sEyKx",
      "metadata": {
        "id": "_j45EZ8sEyKx"
      },
      "outputs": [],
      "source": [
        "train_images.shape[0]"
      ]
    },
    {
      "cell_type": "code",
      "execution_count": null,
      "id": "t9cbQTkPFDF7",
      "metadata": {
        "id": "t9cbQTkPFDF7"
      },
      "outputs": [],
      "source": [
        "range(train_images.shape[0])"
      ]
    },
    {
      "cell_type": "markdown",
      "id": "wDdvWEoc1AMd",
      "metadata": {
        "id": "wDdvWEoc1AMd"
      },
      "source": [
        "33) Calculate the accuracy on the training_images.  "
      ]
    },
    {
      "cell_type": "code",
      "execution_count": null,
      "id": "gP_iKiMq1D4U",
      "metadata": {
        "id": "gP_iKiMq1D4U"
      },
      "outputs": [],
      "source": [
        "accuracy1 = 1-(wrong_predictions_count/len(train_images)) #prints out the accuracy of the training dataset\n",
        "accuracy1"
      ]
    },
    {
      "cell_type": "markdown",
      "id": "g5psmhvC1EYe",
      "metadata": {
        "id": "g5psmhvC1EYe"
      },
      "source": [
        "34) Describe why the accuracy of the training images is higher than that of the testing images.  "
      ]
    },
    {
      "cell_type": "markdown",
      "id": "FfFgt2xR-I0T",
      "metadata": {
        "id": "FfFgt2xR-I0T"
      },
      "source": [
        "Answer: The training images has more images to use to help train the algorithm which helps improve the accuracy"
      ]
    },
    {
      "cell_type": "markdown",
      "id": "ce7bca71",
      "metadata": {
        "id": "ce7bca71"
      },
      "source": [
        "\n",
        "35) Display the first 10 faces in the training dataset, their predictions and probabilities.\n"
      ]
    },
    {
      "cell_type": "code",
      "execution_count": null,
      "id": "fb9f1557",
      "metadata": {
        "id": "fb9f1557"
      },
      "outputs": [],
      "source": [
        "for i in range(10): #prints out the first 10 images, their predictions, and their probabilities in the training dataset\n",
        "  show_image_vpp(test_images[i], test_labels[i], pred[i],prob[i])\n"
      ]
    },
    {
      "cell_type": "markdown",
      "id": "75b31954",
      "metadata": {
        "id": "75b31954"
      },
      "source": [
        "\n",
        "Evaluate the accuracy of the training set using model.evaluate.  Do not change this code.\n"
      ]
    },
    {
      "cell_type": "code",
      "execution_count": null,
      "id": "60cdb4cf",
      "metadata": {
        "id": "60cdb4cf"
      },
      "outputs": [],
      "source": [
        "model.evaluate(train_tensors, train_labels) #evaluates the accuracy of the training dataset"
      ]
    },
    {
      "cell_type": "markdown",
      "id": "cl6AEVrB2UkF",
      "metadata": {
        "id": "cl6AEVrB2UkF"
      },
      "source": [
        "Evaluate the accuracy of the test set using model.evaluate.  Do not change this code."
      ]
    },
    {
      "cell_type": "code",
      "execution_count": null,
      "id": "27399a02",
      "metadata": {
        "id": "27399a02"
      },
      "outputs": [],
      "source": [
        "model.evaluate(test_tensors, test_labels) #evaluates the accuracy of the testing dataset"
      ]
    },
    {
      "cell_type": "markdown",
      "id": "v_tDhJOw2kbd",
      "metadata": {
        "id": "v_tDhJOw2kbd"
      },
      "source": [
        "Once you get this entire model working (don't worry about the accuracy yet), call me over to grade it.  Once you get it working it will be time to manipulate the building model function and training model function for accuracy.  "
      ]
    }
  ],
  "metadata": {
    "colab": {
      "provenance": [],
      "include_colab_link": true
    },
    "kernelspec": {
      "display_name": "Python 3",
      "language": "python",
      "name": "python3"
    },
    "language_info": {
      "codemirror_mode": {
        "name": "ipython",
        "version": 3
      },
      "file_extension": ".py",
      "mimetype": "text/x-python",
      "name": "python",
      "nbconvert_exporter": "python",
      "pygments_lexer": "ipython3",
      "version": "3.8.8"
    }
  },
  "nbformat": 4,
  "nbformat_minor": 5
}