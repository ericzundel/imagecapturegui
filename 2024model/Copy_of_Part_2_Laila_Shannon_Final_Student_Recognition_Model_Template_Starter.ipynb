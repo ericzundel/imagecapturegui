{
  "cells": [
    {
      "cell_type": "markdown",
      "metadata": {
        "id": "view-in-github",
        "colab_type": "text"
      },
      "source": [
        "<a href=\"https://colab.research.google.com/github/ericzundel/imagecapturegui/blob/main/Copy_of_Part_2_Laila_Shannon_Final_Student_Recognition_Model_Template_Starter.ipynb\" target=\"_parent\"><img src=\"https://colab.research.google.com/assets/colab-badge.svg\" alt=\"Open In Colab\"/></a>"
      ]
    },
    {
      "cell_type": "markdown",
      "id": "1K4cg4H1lvM0",
      "metadata": {
        "id": "1K4cg4H1lvM0"
      },
      "source": [
        "# **This is the starting point of your final face recognition model.  You will need to fill in all of the missing boxes with correct code.  You are also required to write correct and descriptive comments in each block. Your model needs to reach a 80% accuracy on your testing data for your final project.**"
      ]
    },
    {
      "cell_type": "code",
      "execution_count": null,
      "id": "6534c9ab",
      "metadata": {
        "id": "6534c9ab"
      },
      "outputs": [],
      "source": [
        "from tensorflow import keras # imports all of the necessary libraries and functions from libraries that are needed to run this code\n",
        "from tensorflow.keras import layers\n",
        "from tensorflow.keras.datasets import imdb\n",
        "import numpy as np\n",
        "import os, shutil, pathlib\n",
        "from tensorflow.keras.utils import load_img\n",
        "from tensorflow.keras.utils import img_to_array\n",
        "from tensorflow.keras.utils import array_to_img\n",
        "import matplotlib.pyplot as plt\n",
        "import tensorflow as tf\n",
        "from PIL import Image"
      ]
    },
    {
      "cell_type": "code",
      "execution_count": null,
      "id": "95f593f8",
      "metadata": {
        "id": "95f593f8"
      },
      "outputs": [],
      "source": [
        "def show_image(im): # defines show image function with the parameter im, the function uses a method to alter the appearance of the image with a filter and them image gets called\n",
        "  plt.imshow(im,cmap=plt.cm.summer)\n",
        "  plt.show()"
      ]
    },
    {
      "cell_type": "code",
      "execution_count": null,
      "id": "dd8e4483",
      "metadata": {
        "id": "dd8e4483"
      },
      "outputs": [],
      "source": [
        "def show_image_vpp(im,value,prediction,probability): #defines function called show_image_vpp with the parameters im, value, prediction and probabilitiy. Method is used to change the color filter apearance of the image. The actual value of the image is prined as well as the predicted value with the probability\n",
        "  plt.imshow(im,cmap=plt.cm.summer)\n",
        "  plt.show()\n",
        "  print(\"the value is \",student_names[value])\n",
        "  print(\"The predicted value is \",student_names[prediction],\" with probability: \",probability)"
      ]
    },
    {
      "cell_type": "markdown",
      "id": "_T4osOr2mbdA",
      "metadata": {
        "id": "_T4osOr2mbdA"
      },
      "source": [
        "Keep this as is for now. Once you get everything running, you will come back to this and build out the layers using what you know."
      ]
    },
    {
      "cell_type": "code",
      "execution_count": null,
      "id": "bcd721d4",
      "metadata": {
        "id": "bcd721d4"
      },
      "outputs": [],
      "source": [
        "def build_model(input_shape): #The function build_model is defined with input_shape as the parameter, model is returned based on the parameters given for each layer of the model.\n",
        "    input = keras.Input(shape=(input_shape,),name=\"data\")\n",
        "    l1 = layers.Dense(32,activation=\"relu\")(input)\n",
        "    l2 = layers.Dense(32,activation=\"relu\")(l1)\n",
        "    l3 = layers.Dense(32,activation=\"relu\")(l2)\n",
        "    l4 = layers.Dense(32,activation=\"relu\")(l3)\n",
        "    l5 = layers.Dense(32,activation=\"relu\")(l4)\n",
        "    l6 = layers.Dense(32,activation=\"relu\")(l5)\n",
        "    l7 = layers.Dense(32,activation=\"relu\")(l6)\n",
        "    l8 = layers.Dense(32,activation=\"relu\")(l7)\n",
        "    l9 = layers.Dense(32,activation=\"relu\")(l8)\n",
        "    l10 = layers.Dense(32,activation=\"relu\")(l9)\n",
        "    output = layers.Dense(38,activation=\"softmax\")(l10)\n",
        "    model = keras.Model(inputs=input,outputs=output)\n",
        "    return model"
      ]
    },
    {
      "cell_type": "markdown",
      "id": "68Mcx0LSmuA5",
      "metadata": {
        "id": "68Mcx0LSmuA5"
      },
      "source": [
        "1) Explain what the 38 means in the output layer.  "
      ]
    },
    {
      "cell_type": "markdown",
      "id": "uzbRDJn-m12X",
      "metadata": {
        "id": "uzbRDJn-m12X"
      },
      "source": [
        "Answer:  The 38 represents the number of possible outcomes or the number of faces in the dataset."
      ]
    },
    {
      "cell_type": "markdown",
      "id": "9YDXxGrXm9ka",
      "metadata": {
        "id": "9YDXxGrXm9ka"
      },
      "source": [
        "Note that the number of epochs below is 1.  Don't change it for now, but after you get everything else working, you will need to come back and address this to improve your model's accuracy.  ***"
      ]
    },
    {
      "cell_type": "code",
      "execution_count": null,
      "id": "e3ee20b9",
      "metadata": {
        "id": "e3ee20b9"
      },
      "outputs": [],
      "source": [
        "def train_model(model,train_tensors,train_labels): #The function called train_model is defined and uses the parameters model, train_tensors, and train labels. There are a few strings assigned to variables including the measure of accuracy for this dataset. The fit method is used with the parameters epoch #train_tensors and train_labels\n",
        "    model.compile(optimizer=\"rmsprop\",loss=\"sparse_categorical_crossentropy\",metrics=[\"accuracy\"])\n",
        "    model.fit(train_tensors,train_labels,epochs=500)"
      ]
    },
    {
      "cell_type": "markdown",
      "id": "7OYU8qs5nGG5",
      "metadata": {
        "id": "7OYU8qs5nGG5"
      },
      "source": [
        "2) How do you know if you need more or less epochs?  "
      ]
    },
    {
      "cell_type": "markdown",
      "id": "ciIR_TZ1qXoR",
      "metadata": {
        "id": "ciIR_TZ1qXoR"
      },
      "source": [
        "Answer:  You know if you need more epochs when the learning model's accuracy is not hight enough. You know if you need less when there is overfitting."
      ]
    },
    {
      "cell_type": "code",
      "execution_count": null,
      "id": "85d8efa2",
      "metadata": {
        "id": "85d8efa2"
      },
      "outputs": [],
      "source": [
        "def predict(model,test_tensors): # The function called predict is defined with the parameters model & test_tensors. There are methods assigned to the varables mpredictions, digit_predictions, and digit_probability. digit_predictions & digit_probability are returned.\n",
        "    mpredictions = model.predict(test_tensors)\n",
        "    digit_predictions = np.array([x.argmax() for x in mpredictions])\n",
        "    digit_probability = np.array([mpredictions[i][p] for i, p in enumerate(digit_predictions)])\n",
        "    return digit_predictions,digit_probability"
      ]
    },
    {
      "cell_type": "markdown",
      "id": "6ed3d25a",
      "metadata": {
        "id": "6ed3d25a"
      },
      "source": [
        "# Get the training and testing data.  Use this video if you are absent when I go over this in class.  "
      ]
    },
    {
      "cell_type": "markdown",
      "id": "LxCdbomynSxp",
      "metadata": {
        "id": "LxCdbomynSxp"
      },
      "source": [
        "This is new code and it is not expected that you understand this, but you need to add a shortcut to this folder on your google drive.  Once you have your shortcut, replace the below path after \"My Drive/\" with your path. I will walk you through this step in class. Once you have done that, run this code to confirm you are accessing the class image files.  If you are not here when we do this part, you can watch this video of how to do it here: https://www.loom.com/share/4316be2eaac34ddfa1fcfed7d7bbbbcf?sid=725db59f-5ceb-43b4-bb14-5c37dd947108\n",
        "  "
      ]
    },
    {
      "cell_type": "markdown",
      "id": "wSNklu9-oz9q",
      "metadata": {
        "id": "wSNklu9-oz9q"
      },
      "source": [
        "Folder link: https://drive.google.com/drive/folders/1Lnhpm_B231bTZ8__k6Rw3BYDwei-dQYO?usp=sharing\n"
      ]
    },
    {
      "cell_type": "code",
      "execution_count": null,
      "id": "p_Q8M5EhxxkG",
      "metadata": {
        "id": "p_Q8M5EhxxkG",
        "colab": {
          "base_uri": "https://localhost:8080/",
          "height": 225
        },
        "outputId": "87692113-31c5-43b6-f915-0e1cb5773ca8"
      },
      "outputs": [
        {
          "output_type": "stream",
          "name": "stdout",
          "text": [
            "Mounted at /content/gdrive\n",
            " Alexandra_Price      Destin_Woolf\t  Justin_Leake\t  \"Rhyland_O'Neill\"\n",
            " Armon_Anderson       Donald_Humphrey\t  Kaci_Turner\t  'Tahlin_Thompson Saunders-Brathwaite'\n",
            " Austin_Smith\t      Don_Evans\t\t  Kenadie_Smith    Tarrence_Sturdivant\n",
            " Beth_White\t      Emma_Davis\t  Kendrick_Myers   Thorn_High\n",
            " Chase_Griffin\t      Eric_Ayers\t  Kristine_Allen   Trinity_Smith\n",
            " Christian_Hill       Jackson_Humphries   Laila_Shannon    Tunazi_Bello\n",
            " Cordarius_Williams   Jonathan_Thompson   Landon_Cox\t   Victor_Hicks\n",
            " Curtis_Augustin      Joshua_Boney\t  Lucian_Leon\t  'Zediwa_De Jesus'\n",
            " David_Kurt\t      Julian_Carlson\t  Malik_Weems\n",
            " Destin_Jack\t      Justin_Brown\t  Peter_McKnight\n"
          ]
        },
        {
          "output_type": "display_data",
          "data": {
            "text/plain": [
              "<Figure size 1000x1000 with 0 Axes>"
            ]
          },
          "metadata": {}
        }
      ],
      "source": [
        "from google.colab import drive #Imports the data set from google drive and formats them\n",
        "drive.mount('/content/gdrive')\n",
        "!ls \"/content/gdrive/My Drive/ML_Image_Data/MLImages-backup-240416-140003\"\n",
        "plt.figure(figsize=(10, 10))\n",
        "size_picture = 100"
      ]
    },
    {
      "cell_type": "code",
      "execution_count": null,
      "id": "f7413d5a",
      "metadata": {
        "id": "f7413d5a"
      },
      "outputs": [],
      "source": [
        "#(train_images, train_labels), (test_images, test_labels) = mnist.load_data()"
      ]
    },
    {
      "cell_type": "markdown",
      "id": "uMivY7IZVkHI",
      "metadata": {
        "id": "uMivY7IZVkHI"
      },
      "source": [
        "3) In the digit recognition model, what did this (above) block of code do?  Break down your answer into all four parts."
      ]
    },
    {
      "cell_type": "markdown",
      "id": "o69H93qz7-GO",
      "metadata": {
        "id": "o69H93qz7-GO"
      },
      "source": [
        "Answer: This line imported the data into training and testing sections. There is a set of images and labels in both training and testing. The training set uses the most data. This is where the machine learns how to predict the names that correspond with the images. The training set is similar but this is where the machine is supposed to execute with the most accuracy."
      ]
    },
    {
      "cell_type": "markdown",
      "id": "ijw1UZKvpTta",
      "metadata": {
        "id": "ijw1UZKvpTta"
      },
      "source": [
        "Bonus: The combination of the two next functions will do what the above function did for the MNIST dataset.  You can get up to 40 KT bonus on your project if you can write correct line by line comments on what these lines of code do.  This must be your own work to be considered for bonus. Do not use another person or AI to help. If yo don't want bonus, just run the next two code blocks. ***"
      ]
    },
    {
      "cell_type": "code",
      "execution_count": null,
      "id": "P9cG5MYUWB-G",
      "metadata": {
        "id": "P9cG5MYUWB-G"
      },
      "outputs": [],
      "source": [
        "def tensor_from_image(filename): #defines the function tensre_from_image with the parameter filename\n",
        "    img = load_img(filename,color_mode = 'grayscale') #load image with the parameters filename and color mode set to grayscale is assigned to the variable img\n",
        "    img = img.resize((size_picture,size_picture)) #img goes through the resize method  with the parameters size_picture,size_picture and is assigned to the variable img\n",
        "    return img_to_array(img).reshape((size_picture,size_picture)) #img_to_array(img) is reshaped with the parameter (size_picture, size_picture) and is returned"
      ]
    },
    {
      "cell_type": "code",
      "execution_count": null,
      "id": "osv0xSwcVwOj",
      "metadata": {
        "id": "osv0xSwcVwOj"
      },
      "outputs": [],
      "source": [
        "def load_dataset(): #The function load_dataset is defined\n",
        "    train_images = [] #empty list assigned to train_images\n",
        "    train_labels = [] #empty list assigned to train_labels\n",
        "    test_images = [] #empty list assigned to test_images\n",
        "    test_labels = [] #empty list assigned to test_labels\n",
        "    base_directory = pathlib.Path('/content/gdrive/My Drive/ML_Image_Data/MLImages-backup-240416-140003') #pathlib uses the Path method with a parameter that loads the data from the drive and is assigned to base_directory\n",
        "    student_names = os.listdir(base_directory) #os undergoes the method listdir with base_directory as the parameter and is assigned to student_names\n",
        "    k = 0 #0 is assigned to k\n",
        "    n = 0 #0 is assigned to n\n",
        "    names = [] #empty list is assigned to names\n",
        "    for i, s in enumerate(student_names): #for loop that iterates (through an array?) with a parameter (student_names )\n",
        "        print(i,s) #values in i and s are printed\n",
        "        if s!=\".DS_Store\": #beginning of selection programming, if i does not equal the string given the program will execute the next couple lines of code\n",
        "            names.append(s) #the list called names will add the s value\n",
        "            student_directory = base_directory / s #base_directory divided by the s value is assigned to student_directory\n",
        "            image_names = os.listdir(student_directory) #os undergoes the listdir method with the parameter student_directory and is assigned to image_names\n",
        "            for i in image_names: #for loop that executes for each item in image_names\n",
        "                fname = student_directory / i #student_directory divided by the i value is assigned to fname\n",
        "                t = tensor_from_image(fname)/255 #tensor_from_image with the parameter fname is assigned to t\n",
        "                if n % 9 == 0: #selection programming, if the remainder of n divided by 9 equals 0\n",
        "                    test_images.append(t) #test_images undergoes the append method with the parameter t\n",
        "                    test_labels.append(k) #test_labels undergoes the append method with the parameter k\n",
        "                else:\n",
        "                    train_images.append(t) #train_imagess undergoes the append method with the parameter t\n",
        "                    train_labels.append(k) #train_labels undergoes the append method with the parameter k\n",
        "                n += 1 #n increases by one\n",
        "            k += 1 #k increases by one\n",
        "    return (k,\n",
        "            (np.array(train_images),np.array(train_labels)),\n",
        "            (np.array(test_images),np.array(test_labels)),\n",
        "            names\n",
        "           ) #k as well as train_images, train_labels, test_images, and test_labels that are parameters of np.array are returned"
      ]
    },
    {
      "cell_type": "markdown",
      "id": "1PFPZwGU7gnr",
      "metadata": {
        "id": "1PFPZwGU7gnr"
      },
      "source": [
        "Run this code to load your data.  "
      ]
    },
    {
      "cell_type": "code",
      "execution_count": null,
      "id": "eg9pem0kW-YO",
      "metadata": {
        "colab": {
          "base_uri": "https://localhost:8080/"
        },
        "id": "eg9pem0kW-YO",
        "outputId": "693c0323-c840-4d5b-9219-d30cb3aab883"
      },
      "outputs": [
        {
          "output_type": "stream",
          "name": "stdout",
          "text": [
            "0 Donald_Humphrey\n",
            "1 Chase_Griffin\n",
            "2 Armon_Anderson\n",
            "3 Joshua_Boney\n",
            "4 Destin_Jack\n",
            "5 Beth_White\n",
            "6 Lucian_Leon\n",
            "7 Jonathan_Thompson\n",
            "8 Tahlin_Thompson Saunders-Brathwaite\n",
            "9 Julian_Carlson\n",
            "10 Laila_Shannon\n",
            "11 Destin_Woolf\n",
            "12 Malik_Weems\n",
            "13 Kaci_Turner\n",
            "14 Thorn_High\n",
            "15 Cordarius_Williams\n",
            "16 Tunazi_Bello\n",
            "17 Victor_Hicks\n",
            "18 Peter_McKnight\n",
            "19 Zediwa_De Jesus\n",
            "20 Justin_Brown\n",
            "21 Alexandra_Price\n",
            "22 Kendrick_Myers\n",
            "23 Eric_Ayers\n",
            "24 Curtis_Augustin\n",
            "25 Kenadie_Smith\n",
            "26 Rhyland_O'Neill\n",
            "27 Justin_Leake\n",
            "28 Jackson_Humphries\n",
            "29 Tarrence_Sturdivant\n",
            "30 Austin_Smith\n",
            "31 Kristine_Allen\n",
            "32 David_Kurt\n",
            "33 Emma_Davis\n",
            "34 Landon_Cox\n",
            "35 Christian_Hill\n",
            "36 Trinity_Smith\n",
            "37 Don_Evans\n"
          ]
        }
      ],
      "source": [
        "(nb_students,(train_images,train_labels),(test_images,test_labels),student_names) = load_dataset() #loads the data set and assigns part of it to train images/labels and test images/labels\n"
      ]
    },
    {
      "cell_type": "markdown",
      "id": "TmbGzbRx7n7b",
      "metadata": {
        "id": "TmbGzbRx7n7b"
      },
      "source": [
        "Print out each of the six items in the loaded data to get an idea of or refresh yourself on what they are."
      ]
    },
    {
      "cell_type": "markdown",
      "id": "KYFuHGKh8Ki0",
      "metadata": {
        "id": "KYFuHGKh8Ki0"
      },
      "source": [
        "4) Print the first item."
      ]
    },
    {
      "cell_type": "code",
      "execution_count": null,
      "id": "XuMNgBD77uTd",
      "metadata": {
        "colab": {
          "base_uri": "https://localhost:8080/"
        },
        "id": "XuMNgBD77uTd",
        "outputId": "23df9250-acaa-4f12-db7b-744d4525b4b6"
      },
      "outputs": [
        {
          "output_type": "stream",
          "name": "stdout",
          "text": [
            "38\n"
          ]
        }
      ],
      "source": [
        "print(nb_students) #prints nb_students"
      ]
    },
    {
      "cell_type": "markdown",
      "id": "8ok5bPYJ8Ll1",
      "metadata": {
        "id": "8ok5bPYJ8Ll1"
      },
      "source": [
        "5) Print the second item."
      ]
    },
    {
      "cell_type": "code",
      "execution_count": null,
      "id": "fSsqyZhI7uot",
      "metadata": {
        "colab": {
          "base_uri": "https://localhost:8080/"
        },
        "id": "fSsqyZhI7uot",
        "outputId": "7dff3c06-41bb-46b6-8705-3cf9a06607c1"
      },
      "outputs": [
        {
          "output_type": "stream",
          "name": "stdout",
          "text": [
            "[[[0.6313726  0.6313726  0.6313726  ... 0.6        0.6431373  0.63529414]\n",
            "  [0.6313726  0.6313726  0.627451   ... 0.6509804  0.69803923 0.6392157 ]\n",
            "  [0.6313726  0.6313726  0.6313726  ... 0.65882355 0.7019608  0.6431373 ]\n",
            "  ...\n",
            "  [0.47843137 0.49019608 0.5058824  ... 0.7882353  0.78039217 0.7882353 ]\n",
            "  [0.45882353 0.4509804  0.44705883 ... 0.72156864 0.7882353  0.7137255 ]\n",
            "  [0.47058824 0.4627451  0.4745098  ... 0.64705884 0.7882353  0.6156863 ]]\n",
            "\n",
            " [[0.6313726  0.627451   0.627451   ... 0.6        0.6392157  0.6313726 ]\n",
            "  [0.627451   0.62352943 0.62352943 ... 0.6431373  0.69803923 0.63529414]\n",
            "  [0.627451   0.62352943 0.62352943 ... 0.654902   0.69803923 0.6392157 ]\n",
            "  ...\n",
            "  [0.4745098  0.49019608 0.5058824  ... 0.78039217 0.7764706  0.78039217]\n",
            "  [0.45490196 0.45490196 0.44313726 ... 0.7176471  0.78039217 0.70980394]\n",
            "  [0.46666667 0.45882353 0.4627451  ... 0.6392157  0.78039217 0.60784316]]\n",
            "\n",
            " [[0.59607846 0.5921569  0.59607846 ... 0.5686275  0.6117647  0.5647059 ]\n",
            "  [0.59607846 0.5921569  0.5921569  ... 0.60784316 0.6509804  0.5921569 ]\n",
            "  [0.59607846 0.5921569  0.5921569  ... 0.60784316 0.6392157  0.58431375]\n",
            "  ...\n",
            "  [0.40392157 0.41568628 0.41568628 ... 0.72156864 0.7137255  0.6901961 ]\n",
            "  [0.4117647  0.41568628 0.41960785 ... 0.69803923 0.6745098  0.6117647 ]\n",
            "  [0.40784314 0.41568628 0.42745098 ... 0.627451   0.6784314  0.5529412 ]]\n",
            "\n",
            " ...\n",
            "\n",
            " [[0.6745098  0.6745098  0.6745098  ... 0.54901963 0.5882353  0.6039216 ]\n",
            "  [0.6745098  0.67058825 0.6666667  ... 0.5921569  0.64705884 0.5921569 ]\n",
            "  [0.67058825 0.6666667  0.67058825 ... 0.6117647  0.65882355 0.6039216 ]\n",
            "  ...\n",
            "  [0.46666667 0.49019608 0.5254902  ... 0.7294118  0.7294118  0.73333335]\n",
            "  [0.42745098 0.41568628 0.41568628 ... 0.654902   0.7372549  0.6862745 ]\n",
            "  [0.44705883 0.44313726 0.4627451  ... 0.5803922  0.7372549  0.57254905]]\n",
            "\n",
            " [[0.6901961  0.6862745  0.6862745  ... 0.5647059  0.6039216  0.6117647 ]\n",
            "  [0.6862745  0.6862745  0.6862745  ... 0.60784316 0.6627451  0.60784316]\n",
            "  [0.6862745  0.6862745  0.6862745  ... 0.627451   0.6745098  0.6156863 ]\n",
            "  ...\n",
            "  [0.4627451  0.48235294 0.52156866 ... 0.7372549  0.7372549  0.74509805]\n",
            "  [0.42745098 0.41568628 0.41960785 ... 0.6666667  0.74509805 0.69411767]\n",
            "  [0.44313726 0.44705883 0.4745098  ... 0.5921569  0.74509805 0.58431375]]\n",
            "\n",
            " [[0.6784314  0.6745098  0.6745098  ... 0.54901963 0.5882353  0.6039216 ]\n",
            "  [0.6745098  0.6666667  0.67058825 ... 0.5921569  0.64705884 0.5921569 ]\n",
            "  [0.67058825 0.6666667  0.67058825 ... 0.6117647  0.65882355 0.6039216 ]\n",
            "  ...\n",
            "  [0.47058824 0.49019608 0.52156866 ... 0.7294118  0.7254902  0.73333335]\n",
            "  [0.42745098 0.41960785 0.41568628 ... 0.65882355 0.7372549  0.6862745 ]\n",
            "  [0.44313726 0.44313726 0.46666667 ... 0.5803922  0.7372549  0.57254905]]]\n"
          ]
        }
      ],
      "source": [
        "print(train_images) #prints train_images"
      ]
    },
    {
      "cell_type": "markdown",
      "id": "f9XkjD9j8Mds",
      "metadata": {
        "id": "f9XkjD9j8Mds"
      },
      "source": [
        "6) Print the third item."
      ]
    },
    {
      "cell_type": "code",
      "execution_count": null,
      "id": "7AKF8wUN7vN0",
      "metadata": {
        "colab": {
          "base_uri": "https://localhost:8080/"
        },
        "id": "7AKF8wUN7vN0",
        "outputId": "9099da86-7ae3-44cb-ea24-833579efbea4"
      },
      "outputs": [
        {
          "output_type": "stream",
          "name": "stdout",
          "text": [
            "[ 0  0  0 ... 37 37 37]\n"
          ]
        }
      ],
      "source": [
        "print(train_labels) #prints train_labels"
      ]
    },
    {
      "cell_type": "markdown",
      "id": "UVv-tXww8Nem",
      "metadata": {
        "id": "UVv-tXww8Nem"
      },
      "source": [
        "7) Print the 4th item."
      ]
    },
    {
      "cell_type": "code",
      "execution_count": null,
      "id": "RhxDSjpQ7vqO",
      "metadata": {
        "colab": {
          "base_uri": "https://localhost:8080/"
        },
        "id": "RhxDSjpQ7vqO",
        "outputId": "14ad4659-4c98-4f61-bc94-e716f5329dc6"
      },
      "outputs": [
        {
          "output_type": "stream",
          "name": "stdout",
          "text": [
            "[[[0.69411767 0.69803923 0.7019608  ... 0.5176471  0.5568628  0.5372549 ]\n",
            "  [0.69803923 0.6784314  0.6392157  ... 0.54901963 0.59607846 0.57254905]\n",
            "  [0.5058824  0.4392157  0.39215687 ... 0.53333336 0.5921569  0.54901963]\n",
            "  ...\n",
            "  [0.38039216 0.37254903 0.35686275 ... 0.6313726  0.64705884 0.65882355]\n",
            "  [0.3647059  0.2901961  0.23529412 ... 0.54901963 0.65882355 0.54901963]\n",
            "  [0.2        0.16470589 0.19215687 ... 0.49803922 0.6392157  0.5254902 ]]\n",
            "\n",
            " [[0.5882353  0.58431375 0.58431375 ... 0.57254905 0.61960787 0.6156863 ]\n",
            "  [0.58431375 0.5803922  0.5803922  ... 0.6156863  0.6745098  0.6313726 ]\n",
            "  [0.58431375 0.58431375 0.58431375 ... 0.62352943 0.68235296 0.62352943]\n",
            "  ...\n",
            "  [0.46666667 0.46666667 0.47058824 ... 0.7411765  0.7411765  0.7490196 ]\n",
            "  [0.47058824 0.4509804  0.43529412 ... 0.6627451  0.7529412  0.6784314 ]\n",
            "  [0.4392157  0.39215687 0.38431373 ... 0.59607846 0.7490196  0.6039216 ]]\n",
            "\n",
            " [[0.69411767 0.69803923 0.7019608  ... 0.52156866 0.5568628  0.5372549 ]\n",
            "  [0.69803923 0.68235296 0.6392157  ... 0.54901963 0.5921569  0.57254905]\n",
            "  [0.5019608  0.43529412 0.39215687 ... 0.53333336 0.5882353  0.54901963]\n",
            "  ...\n",
            "  [0.3764706  0.37254903 0.35686275 ... 0.6313726  0.654902   0.6627451 ]\n",
            "  [0.36862746 0.2901961  0.23529412 ... 0.54901963 0.6627451  0.5529412 ]\n",
            "  [0.19607843 0.16078432 0.19215687 ... 0.49803922 0.64705884 0.5372549 ]]\n",
            "\n",
            " ...\n",
            "\n",
            " [[0.60784316 0.6039216  0.60784316 ... 0.58431375 0.627451   0.5803922 ]\n",
            "  [0.60784316 0.6039216  0.60784316 ... 0.627451   0.6666667  0.60784316]\n",
            "  [0.60784316 0.6039216  0.60784316 ... 0.62352943 0.65882355 0.59607846]\n",
            "  ...\n",
            "  [0.41960785 0.42745098 0.43137255 ... 0.7372549  0.7294118  0.7019608 ]\n",
            "  [0.42352942 0.43529412 0.43529412 ... 0.7176471  0.6901961  0.61960787]\n",
            "  [0.42352942 0.43137255 0.4392157  ... 0.6431373  0.69411767 0.5647059 ]]\n",
            "\n",
            " [[0.64705884 0.67058825 0.6862745  ... 0.61960787 0.65882355 0.6745098 ]\n",
            "  [0.64705884 0.67058825 0.6862745  ... 0.6509804  0.7137255  0.7254902 ]\n",
            "  [0.64705884 0.6666667  0.6784314  ... 0.6509804  0.7254902  0.7058824 ]\n",
            "  ...\n",
            "  [0.44313726 0.45882353 0.4627451  ... 0.70980394 0.75686276 0.75686276]\n",
            "  [0.47058824 0.46666667 0.4627451  ... 0.62352943 0.7647059  0.70980394]\n",
            "  [0.46666667 0.4509804  0.45882353 ... 0.60784316 0.7294118  0.68235296]]\n",
            "\n",
            " [[0.7176471  0.73333335 0.7411765  ... 0.6313726  0.6784314  0.6784314 ]\n",
            "  [0.7137255  0.73333335 0.74509805 ... 0.6666667  0.7372549  0.72156864]\n",
            "  [0.7137255  0.7294118  0.7372549  ... 0.6627451  0.7372549  0.69803923]\n",
            "  ...\n",
            "  [0.49019608 0.48235294 0.47843137 ... 0.7411765  0.75686276 0.7607843 ]\n",
            "  [0.49803922 0.44313726 0.39607844 ... 0.6509804  0.76862746 0.6509804 ]\n",
            "  [0.39215687 0.36078432 0.36078432 ... 0.6        0.7529412  0.61960787]]]\n"
          ]
        }
      ],
      "source": [
        "print(test_images) #prints test_images"
      ]
    },
    {
      "cell_type": "markdown",
      "id": "EafgVFwF8OOc",
      "metadata": {
        "id": "EafgVFwF8OOc"
      },
      "source": [
        "8) Print the 5th item."
      ]
    },
    {
      "cell_type": "code",
      "execution_count": null,
      "id": "HA6KcIrx7v-7",
      "metadata": {
        "colab": {
          "base_uri": "https://localhost:8080/"
        },
        "id": "HA6KcIrx7v-7",
        "outputId": "e6412b83-9a4c-4b86-d0c4-ec4482d5ed90"
      },
      "outputs": [
        {
          "output_type": "stream",
          "name": "stdout",
          "text": [
            "[ 0  0  0  0  0  1  1  1  1  1  3  3  3  3  4  4  4  4  4  4  4  4  4  4\n",
            "  5  5  5  5  5  5  5  6  6  6  6  6  6  6  6  6  6  6  6  6  7  7  7  7\n",
            "  7  7  8  8  8  9  9  9  9  9  9  9  9 10 10 10 10 10 10 10 10 10 10 10\n",
            " 10 10 11 11 11 11 11 11 11 11 11 11 11 11 12 12 12 12 12 12 12 12 12 12\n",
            " 13 13 13 13 13 13 14 14 14 15 15 15 15 15 15 15 15 15 15 15 15 15 15 15\n",
            " 15 15 15 16 16 16 16 16 16 16 16 18 18 18 18 18 18 18 19 19 19 19 19 19\n",
            " 19 19 19 19 19 20 20 20 20 20 20 20 20 20 20 20 20 20 20 20 21 21 21 21\n",
            " 21 21 21 21 21 23 23 23 23 23 23 23 23 23 23 23 23 23 23 23 23 23 23 23\n",
            " 23 23 23 23 23 23 23 23 23 23 23 24 25 25 25 25 25 25 25 25 25 25 25 25\n",
            " 26 26 26 26 26 26 26 26 26 27 27 27 27 27 27 28 28 28 28 28 28 28 28 28\n",
            " 28 28 28 28 28 28 29 29 29 29 29 29 29 29 30 30 30 30 30 30 30 30 31 31\n",
            " 31 31 31 33 33 33 33 33 33 33 34 34 34 35 35 35 37]\n"
          ]
        }
      ],
      "source": [
        "print(test_labels) #prints test_labels"
      ]
    },
    {
      "cell_type": "markdown",
      "id": "vskd905h8O5k",
      "metadata": {
        "id": "vskd905h8O5k"
      },
      "source": [
        "9) Print the 6th item."
      ]
    },
    {
      "cell_type": "code",
      "execution_count": null,
      "id": "s41arA6m7was",
      "metadata": {
        "id": "s41arA6m7was",
        "colab": {
          "base_uri": "https://localhost:8080/"
        },
        "outputId": "cff97548-6132-40de-c732-26f6919b30b9"
      },
      "outputs": [
        {
          "output_type": "stream",
          "name": "stdout",
          "text": [
            "['Donald_Humphrey', 'Chase_Griffin', 'Armon_Anderson', 'Joshua_Boney', 'Destin_Jack', 'Beth_White', 'Lucian_Leon', 'Jonathan_Thompson', 'Tahlin_Thompson Saunders-Brathwaite', 'Julian_Carlson', 'Laila_Shannon', 'Destin_Woolf', 'Malik_Weems', 'Kaci_Turner', 'Thorn_High', 'Cordarius_Williams', 'Tunazi_Bello', 'Victor_Hicks', 'Peter_McKnight', 'Zediwa_De Jesus', 'Justin_Brown', 'Alexandra_Price', 'Kendrick_Myers', 'Eric_Ayers', 'Curtis_Augustin', 'Kenadie_Smith', \"Rhyland_O'Neill\", 'Justin_Leake', 'Jackson_Humphries', 'Tarrence_Sturdivant', 'Austin_Smith', 'Kristine_Allen', 'David_Kurt', 'Emma_Davis', 'Landon_Cox', 'Christian_Hill', 'Trinity_Smith', 'Don_Evans']\n"
          ]
        }
      ],
      "source": [
        "print(student_names) #prints student_names"
      ]
    },
    {
      "cell_type": "markdown",
      "id": "6378a5d6",
      "metadata": {
        "id": "6378a5d6"
      },
      "source": [
        "10) Assign the shape of train_images to train_shape. Print train_shape."
      ]
    },
    {
      "cell_type": "code",
      "execution_count": null,
      "id": "51052f17",
      "metadata": {
        "id": "51052f17",
        "colab": {
          "base_uri": "https://localhost:8080/"
        },
        "outputId": "340cb19d-d943-4ce4-ab5c-13e527801e47"
      },
      "outputs": [
        {
          "output_type": "execute_result",
          "data": {
            "text/plain": [
              "(2244, 100, 100)"
            ]
          },
          "metadata": {},
          "execution_count": 18
        }
      ],
      "source": [
        "train_shape = train_images.shape #assigns the shape of train_images to train_shape and prints train_shape\n",
        "train_shape"
      ]
    },
    {
      "cell_type": "markdown",
      "id": "f24883ba",
      "metadata": {
        "id": "f24883ba"
      },
      "source": [
        "11) Print out the first image train_images in matrix format.\n",
        "\n"
      ]
    },
    {
      "cell_type": "code",
      "execution_count": null,
      "id": "990a0e20",
      "metadata": {
        "colab": {
          "base_uri": "https://localhost:8080/"
        },
        "id": "990a0e20",
        "outputId": "a344d200-16d9-4adf-b327-0b4d0f14f213"
      },
      "outputs": [
        {
          "output_type": "execute_result",
          "data": {
            "text/plain": [
              "array([[0.6313726 , 0.6313726 , 0.6313726 , ..., 0.6       , 0.6431373 ,\n",
              "        0.63529414],\n",
              "       [0.6313726 , 0.6313726 , 0.627451  , ..., 0.6509804 , 0.69803923,\n",
              "        0.6392157 ],\n",
              "       [0.6313726 , 0.6313726 , 0.6313726 , ..., 0.65882355, 0.7019608 ,\n",
              "        0.6431373 ],\n",
              "       ...,\n",
              "       [0.47843137, 0.49019608, 0.5058824 , ..., 0.7882353 , 0.78039217,\n",
              "        0.7882353 ],\n",
              "       [0.45882353, 0.4509804 , 0.44705883, ..., 0.72156864, 0.7882353 ,\n",
              "        0.7137255 ],\n",
              "       [0.47058824, 0.4627451 , 0.4745098 , ..., 0.64705884, 0.7882353 ,\n",
              "        0.6156863 ]], dtype=float32)"
            ]
          },
          "metadata": {},
          "execution_count": 19
        }
      ],
      "source": [
        "train_images[0] #prints out the first image of train_images in matrix format"
      ]
    },
    {
      "cell_type": "markdown",
      "id": "sjpOXDbRs-V4",
      "metadata": {
        "id": "sjpOXDbRs-V4"
      },
      "source": [
        "12) Print out the first image in train images in image format."
      ]
    },
    {
      "cell_type": "code",
      "execution_count": null,
      "id": "ksYxLD8BtH14",
      "metadata": {
        "colab": {
          "base_uri": "https://localhost:8080/",
          "height": 433
        },
        "id": "ksYxLD8BtH14",
        "outputId": "2c1260e0-226f-4dca-83a4-04323cab30cf"
      },
      "outputs": [
        {
          "output_type": "display_data",
          "data": {
            "text/plain": [
              "<Figure size 640x480 with 1 Axes>"
            ],
            "image/png": "[encoded data removed]"
          },
          "metadata": {}
        }
      ],
      "source": [
        "plt.imshow(train_images[0],cmap=plt.cm.binary) #prints out the first image in train images in image format\n",
        "plt.show()"
      ]
    },
    {
      "cell_type": "markdown",
      "id": "B0WoU-iNtcp4",
      "metadata": {
        "id": "B0WoU-iNtcp4"
      },
      "source": [
        "13) Print out the label for this image."
      ]
    },
    {
      "cell_type": "code",
      "execution_count": null,
      "id": "K--m32l4tWDP",
      "metadata": {
        "colab": {
          "base_uri": "https://localhost:8080/"
        },
        "id": "K--m32l4tWDP",
        "outputId": "bb0ad698-5072-4571-f1a2-9892c46f597a"
      },
      "outputs": [
        {
          "output_type": "execute_result",
          "data": {
            "text/plain": [
              "0"
            ]
          },
          "metadata": {},
          "execution_count": 21
        }
      ],
      "source": [
        "train_labels[0] #prints out the label for this image"
      ]
    },
    {
      "cell_type": "markdown",
      "id": "OGDNkQ-Rtqvg",
      "metadata": {
        "id": "OGDNkQ-Rtqvg"
      },
      "source": [
        "Print out the name associated with this label."
      ]
    },
    {
      "cell_type": "code",
      "execution_count": null,
      "id": "A410I3WLt2aJ",
      "metadata": {
        "colab": {
          "base_uri": "https://localhost:8080/",
          "height": 35
        },
        "id": "A410I3WLt2aJ",
        "outputId": "08e0cdd0-36c5-403c-f088-8870717b0355"
      },
      "outputs": [
        {
          "output_type": "execute_result",
          "data": {
            "text/plain": [
              "'Donald_Humphrey'"
            ],
            "application/vnd.google.colaboratory.intrinsic+json": {
              "type": "string"
            }
          },
          "metadata": {},
          "execution_count": 22
        }
      ],
      "source": [
        "student_names[0] #prints out the name associated with the label"
      ]
    },
    {
      "cell_type": "markdown",
      "id": "PJJhW15WvBlf",
      "metadata": {
        "id": "PJJhW15WvBlf"
      },
      "source": [
        "14) Print out the second name in student_names."
      ]
    },
    {
      "cell_type": "code",
      "execution_count": null,
      "id": "uJrp9YJ3uvu5",
      "metadata": {
        "colab": {
          "base_uri": "https://localhost:8080/",
          "height": 35
        },
        "id": "uJrp9YJ3uvu5",
        "outputId": "b94051cf-81fe-4c3c-8664-80ae54a07155"
      },
      "outputs": [
        {
          "output_type": "execute_result",
          "data": {
            "text/plain": [
              "'Chase_Griffin'"
            ],
            "application/vnd.google.colaboratory.intrinsic+json": {
              "type": "string"
            }
          },
          "metadata": {},
          "execution_count": 23
        }
      ],
      "source": [
        "student_names[1] #prints out the second name in student_names"
      ]
    },
    {
      "cell_type": "markdown",
      "id": "M7wbr6jbt7x1",
      "metadata": {
        "id": "M7wbr6jbt7x1"
      },
      "source": [
        "15) Write a for loop to print out all of the names in the list student_names and their indices (indexes).  "
      ]
    },
    {
      "cell_type": "code",
      "execution_count": null,
      "id": "tFGhIcWQt7Q-",
      "metadata": {
        "colab": {
          "base_uri": "https://localhost:8080/"
        },
        "id": "tFGhIcWQt7Q-",
        "outputId": "fe70bdde-112b-430d-a30d-c3f3a2ba450d"
      },
      "outputs": [
        {
          "output_type": "stream",
          "name": "stdout",
          "text": [
            "0 Donald_Humphrey\n",
            "0 Chase_Griffin\n",
            "0 Armon_Anderson\n",
            "0 Joshua_Boney\n",
            "0 Destin_Jack\n",
            "0 Beth_White\n",
            "0 Lucian_Leon\n",
            "0 Jonathan_Thompson\n",
            "0 Tahlin_Thompson Saunders-Brathwaite\n",
            "0 Julian_Carlson\n",
            "0 Laila_Shannon\n",
            "0 Destin_Woolf\n",
            "0 Malik_Weems\n",
            "0 Kaci_Turner\n",
            "0 Thorn_High\n",
            "0 Cordarius_Williams\n",
            "0 Tunazi_Bello\n",
            "0 Victor_Hicks\n",
            "0 Peter_McKnight\n",
            "0 Zediwa_De Jesus\n",
            "0 Justin_Brown\n",
            "0 Alexandra_Price\n",
            "0 Kendrick_Myers\n",
            "0 Eric_Ayers\n",
            "0 Curtis_Augustin\n",
            "0 Kenadie_Smith\n",
            "0 Rhyland_O'Neill\n",
            "0 Justin_Leake\n",
            "0 Jackson_Humphries\n",
            "0 Tarrence_Sturdivant\n",
            "0 Austin_Smith\n",
            "0 Kristine_Allen\n",
            "0 David_Kurt\n",
            "0 Emma_Davis\n",
            "0 Landon_Cox\n"
          ]
        }
      ],
      "source": [
        "for i in range(35): #for loop that prints out all the names in the list student_names and their indices\n",
        "  print(train_labels[i], student_names[i])"
      ]
    },
    {
      "cell_type": "markdown",
      "id": "d86d2cf6",
      "metadata": {
        "id": "d86d2cf6"
      },
      "source": [
        "16) Reshape your train_images \"from a box into a line\" and assign them to train_tensors.  Print out train_tensors.shape to confirm that they have been put into a line.  "
      ]
    },
    {
      "cell_type": "code",
      "source": [],
      "metadata": {
        "id": "iL_WIx7ZPAVT"
      },
      "id": "iL_WIx7ZPAVT",
      "execution_count": null,
      "outputs": []
    },
    {
      "cell_type": "code",
      "execution_count": null,
      "id": "9c045452",
      "metadata": {
        "colab": {
          "base_uri": "https://localhost:8080/"
        },
        "id": "9c045452",
        "outputId": "59148af7-37a9-4622-a82b-c48e64fa4e1b"
      },
      "outputs": [
        {
          "output_type": "execute_result",
          "data": {
            "text/plain": [
              "(2244, 10000)"
            ]
          },
          "metadata": {},
          "execution_count": 25
        }
      ],
      "source": [
        "train_tensors = train_images.reshape(train_shape[0], train_shape[1]*train_shape[2]) #reshapes train_images and assigns them to train_tensors, shape of train_tensors is printed\n",
        "train_tensors.shape"
      ]
    },
    {
      "cell_type": "markdown",
      "id": "5681d44b",
      "metadata": {
        "id": "5681d44b"
      },
      "source": [
        "17) Call the build model function with the correct parameter (the second value in train_tensors.shape)."
      ]
    },
    {
      "cell_type": "code",
      "execution_count": null,
      "id": "de1391f7",
      "metadata": {
        "id": "de1391f7",
        "colab": {
          "base_uri": "https://localhost:8080/"
        },
        "outputId": "d3d12e37-12aa-4fa2-a5a3-b2a1ca12200b"
      },
      "outputs": [
        {
          "output_type": "execute_result",
          "data": {
            "text/plain": [
              "<keras.src.engine.functional.Functional at 0x7aca480872b0>"
            ]
          },
          "metadata": {},
          "execution_count": 69
        }
      ],
      "source": [
        "build_model(train_shape[1]*train_shape[2]) #build model function is called"
      ]
    },
    {
      "cell_type": "markdown",
      "id": "pPx6gc7jv0eI",
      "metadata": {
        "id": "pPx6gc7jv0eI"
      },
      "source": [
        "18) Print out the model summary using the summary method."
      ]
    },
    {
      "cell_type": "code",
      "execution_count": null,
      "id": "r5ue-loQbU3t",
      "metadata": {
        "colab": {
          "base_uri": "https://localhost:8080/"
        },
        "id": "r5ue-loQbU3t",
        "outputId": "de1869cf-94cc-413e-9194-649c8c0d3369"
      },
      "outputs": [
        {
          "output_type": "stream",
          "name": "stdout",
          "text": [
            "Model: \"model_5\"\n",
            "_________________________________________________________________\n",
            " Layer (type)                Output Shape              Param #   \n",
            "=================================================================\n",
            " data (InputLayer)           [(None, 10000)]           0         \n",
            "                                                                 \n",
            " dense_55 (Dense)            (None, 32)                320032    \n",
            "                                                                 \n",
            " dense_56 (Dense)            (None, 32)                1056      \n",
            "                                                                 \n",
            " dense_57 (Dense)            (None, 32)                1056      \n",
            "                                                                 \n",
            " dense_58 (Dense)            (None, 32)                1056      \n",
            "                                                                 \n",
            " dense_59 (Dense)            (None, 32)                1056      \n",
            "                                                                 \n",
            " dense_60 (Dense)            (None, 32)                1056      \n",
            "                                                                 \n",
            " dense_61 (Dense)            (None, 32)                1056      \n",
            "                                                                 \n",
            " dense_62 (Dense)            (None, 32)                1056      \n",
            "                                                                 \n",
            " dense_63 (Dense)            (None, 32)                1056      \n",
            "                                                                 \n",
            " dense_64 (Dense)            (None, 32)                1056      \n",
            "                                                                 \n",
            " dense_65 (Dense)            (None, 38)                1254      \n",
            "                                                                 \n",
            "=================================================================\n",
            "Total params: 330790 (1.26 MB)\n",
            "Trainable params: 330790 (1.26 MB)\n",
            "Non-trainable params: 0 (0.00 Byte)\n",
            "_________________________________________________________________\n"
          ]
        }
      ],
      "source": [
        "model = build_model(train_shape[1]*train_shape[2]) #model summary is printed with the summary method after build_model is assigned to model\n",
        "model.summary()"
      ]
    },
    {
      "cell_type": "markdown",
      "id": "8a2cc1ba",
      "metadata": {
        "id": "8a2cc1ba"
      },
      "source": [
        "19) Call the train model function with the appropraite parameters. Remember all functions are defined above if you need a reference."
      ]
    },
    {
      "cell_type": "code",
      "execution_count": null,
      "id": "538a5024",
      "metadata": {
        "colab": {
          "base_uri": "https://localhost:8080/"
        },
        "id": "538a5024",
        "outputId": "e12cddf3-4a41-4d16-e750-a5ddc30f5ae2"
      },
      "outputs": [
        {
          "output_type": "stream",
          "name": "stdout",
          "text": [
            "Epoch 1/500\n",
            "71/71 [==============================] - 2s 9ms/step - loss: 3.4680 - accuracy: 0.0954\n",
            "Epoch 2/500\n",
            "71/71 [==============================] - 1s 11ms/step - loss: 3.3156 - accuracy: 0.1096\n",
            "Epoch 3/500\n",
            "71/71 [==============================] - 1s 11ms/step - loss: 3.2441 - accuracy: 0.1092\n",
            "Epoch 4/500\n",
            "71/71 [==============================] - 1s 11ms/step - loss: 3.1191 - accuracy: 0.1502\n",
            "Epoch 5/500\n",
            "71/71 [==============================] - 1s 11ms/step - loss: 2.9942 - accuracy: 0.1680\n",
            "Epoch 6/500\n",
            "71/71 [==============================] - 1s 12ms/step - loss: 2.9239 - accuracy: 0.1872\n",
            "Epoch 7/500\n",
            "71/71 [==============================] - 1s 9ms/step - loss: 2.8779 - accuracy: 0.1961\n",
            "Epoch 8/500\n",
            "71/71 [==============================] - 0s 7ms/step - loss: 2.8025 - accuracy: 0.2077\n",
            "Epoch 9/500\n",
            "71/71 [==============================] - 1s 7ms/step - loss: 2.7343 - accuracy: 0.2291\n",
            "Epoch 10/500\n",
            "71/71 [==============================] - 0s 7ms/step - loss: 2.6892 - accuracy: 0.2286\n",
            "Epoch 11/500\n",
            "71/71 [==============================] - 1s 7ms/step - loss: 2.6421 - accuracy: 0.2398\n",
            "Epoch 12/500\n",
            "71/71 [==============================] - 1s 7ms/step - loss: 2.5693 - accuracy: 0.2669\n",
            "Epoch 13/500\n",
            "71/71 [==============================] - 0s 7ms/step - loss: 2.5132 - accuracy: 0.2910\n",
            "Epoch 14/500\n",
            "71/71 [==============================] - 1s 10ms/step - loss: 2.4922 - accuracy: 0.2848\n",
            "Epoch 15/500\n",
            "71/71 [==============================] - 1s 11ms/step - loss: 2.4274 - accuracy: 0.3030\n",
            "Epoch 16/500\n",
            "71/71 [==============================] - 1s 11ms/step - loss: 2.3603 - accuracy: 0.3128\n",
            "Epoch 17/500\n",
            "71/71 [==============================] - 1s 11ms/step - loss: 2.3757 - accuracy: 0.3146\n",
            "Epoch 18/500\n",
            "71/71 [==============================] - 1s 11ms/step - loss: 2.3031 - accuracy: 0.3266\n",
            "Epoch 19/500\n",
            "71/71 [==============================] - 1s 12ms/step - loss: 2.2911 - accuracy: 0.3200\n",
            "Epoch 20/500\n",
            "71/71 [==============================] - 1s 7ms/step - loss: 2.2290 - accuracy: 0.3316\n",
            "Epoch 21/500\n",
            "71/71 [==============================] - 0s 7ms/step - loss: 2.1986 - accuracy: 0.3561\n",
            "Epoch 22/500\n",
            "71/71 [==============================] - 1s 7ms/step - loss: 2.1385 - accuracy: 0.3619\n",
            "Epoch 23/500\n",
            "71/71 [==============================] - 1s 8ms/step - loss: 2.1295 - accuracy: 0.3561\n",
            "Epoch 24/500\n",
            "71/71 [==============================] - 1s 11ms/step - loss: 2.0907 - accuracy: 0.3601\n",
            "Epoch 25/500\n",
            "71/71 [==============================] - 1s 11ms/step - loss: 2.0830 - accuracy: 0.3676\n",
            "Epoch 26/500\n",
            "71/71 [==============================] - 1s 11ms/step - loss: 2.0528 - accuracy: 0.3730\n",
            "Epoch 27/500\n",
            "71/71 [==============================] - 1s 11ms/step - loss: 1.9969 - accuracy: 0.3984\n",
            "Epoch 28/500\n",
            "71/71 [==============================] - 1s 11ms/step - loss: 1.9777 - accuracy: 0.4006\n",
            "Epoch 29/500\n",
            "71/71 [==============================] - 1s 11ms/step - loss: 1.9648 - accuracy: 0.4055\n",
            "Epoch 30/500\n",
            "71/71 [==============================] - 1s 7ms/step - loss: 1.9086 - accuracy: 0.4127\n",
            "Epoch 31/500\n",
            "71/71 [==============================] - 1s 7ms/step - loss: 1.9473 - accuracy: 0.4060\n",
            "Epoch 32/500\n",
            "71/71 [==============================] - 0s 7ms/step - loss: 1.9002 - accuracy: 0.4189\n",
            "Epoch 33/500\n",
            "71/71 [==============================] - 0s 7ms/step - loss: 1.8166 - accuracy: 0.4452\n",
            "Epoch 34/500\n",
            "71/71 [==============================] - 1s 7ms/step - loss: 1.8345 - accuracy: 0.4260\n",
            "Epoch 35/500\n",
            "71/71 [==============================] - 1s 7ms/step - loss: 1.7839 - accuracy: 0.4412\n",
            "Epoch 36/500\n",
            "71/71 [==============================] - 1s 7ms/step - loss: 1.8001 - accuracy: 0.4439\n",
            "Epoch 37/500\n",
            "71/71 [==============================] - 1s 7ms/step - loss: 1.7965 - accuracy: 0.4465\n",
            "Epoch 38/500\n",
            "71/71 [==============================] - 1s 7ms/step - loss: 1.7700 - accuracy: 0.4479\n",
            "Epoch 39/500\n",
            "71/71 [==============================] - 0s 7ms/step - loss: 1.7250 - accuracy: 0.4657\n",
            "Epoch 40/500\n",
            "71/71 [==============================] - 1s 7ms/step - loss: 1.6941 - accuracy: 0.4652\n",
            "Epoch 41/500\n",
            "71/71 [==============================] - 0s 7ms/step - loss: 1.6592 - accuracy: 0.4693\n",
            "Epoch 42/500\n",
            "71/71 [==============================] - 1s 7ms/step - loss: 1.6196 - accuracy: 0.4947\n",
            "Epoch 43/500\n",
            "71/71 [==============================] - 1s 7ms/step - loss: 1.6402 - accuracy: 0.4764\n",
            "Epoch 44/500\n",
            "71/71 [==============================] - 1s 7ms/step - loss: 1.6738 - accuracy: 0.4848\n",
            "Epoch 45/500\n",
            "71/71 [==============================] - 1s 7ms/step - loss: 1.5870 - accuracy: 0.4889\n",
            "Epoch 46/500\n",
            "71/71 [==============================] - 1s 7ms/step - loss: 1.6070 - accuracy: 0.4951\n",
            "Epoch 47/500\n",
            "71/71 [==============================] - 0s 7ms/step - loss: 1.5412 - accuracy: 0.4982\n",
            "Epoch 48/500\n",
            "71/71 [==============================] - 1s 7ms/step - loss: 1.5592 - accuracy: 0.5058\n",
            "Epoch 49/500\n",
            "71/71 [==============================] - 1s 10ms/step - loss: 1.5454 - accuracy: 0.5053\n",
            "Epoch 50/500\n",
            "71/71 [==============================] - 1s 11ms/step - loss: 1.5351 - accuracy: 0.5111\n",
            "Epoch 51/500\n",
            "71/71 [==============================] - 1s 11ms/step - loss: 1.4963 - accuracy: 0.5263\n",
            "Epoch 52/500\n",
            "71/71 [==============================] - 1s 11ms/step - loss: 1.5354 - accuracy: 0.4987\n",
            "Epoch 53/500\n",
            "71/71 [==============================] - 1s 12ms/step - loss: 1.4781 - accuracy: 0.5205\n",
            "Epoch 54/500\n",
            "71/71 [==============================] - 1s 11ms/step - loss: 1.4626 - accuracy: 0.5294\n",
            "Epoch 55/500\n",
            "71/71 [==============================] - 1s 7ms/step - loss: 1.4598 - accuracy: 0.5330\n",
            "Epoch 56/500\n",
            "71/71 [==============================] - 1s 7ms/step - loss: 1.4308 - accuracy: 0.5357\n",
            "Epoch 57/500\n",
            "71/71 [==============================] - 1s 7ms/step - loss: 1.4286 - accuracy: 0.5455\n",
            "Epoch 58/500\n",
            "71/71 [==============================] - 0s 7ms/step - loss: 1.3571 - accuracy: 0.5401\n",
            "Epoch 59/500\n",
            "71/71 [==============================] - 1s 7ms/step - loss: 1.3849 - accuracy: 0.5446\n",
            "Epoch 60/500\n",
            "71/71 [==============================] - 0s 7ms/step - loss: 1.3709 - accuracy: 0.5526\n",
            "Epoch 61/500\n",
            "71/71 [==============================] - 1s 7ms/step - loss: 1.3544 - accuracy: 0.5646\n",
            "Epoch 62/500\n",
            "71/71 [==============================] - 0s 7ms/step - loss: 1.3464 - accuracy: 0.5570\n",
            "Epoch 63/500\n",
            "71/71 [==============================] - 1s 7ms/step - loss: 1.3345 - accuracy: 0.5651\n",
            "Epoch 64/500\n",
            "71/71 [==============================] - 0s 7ms/step - loss: 1.2739 - accuracy: 0.5709\n",
            "Epoch 65/500\n",
            "71/71 [==============================] - 1s 7ms/step - loss: 1.3097 - accuracy: 0.5673\n",
            "Epoch 66/500\n",
            "71/71 [==============================] - 0s 7ms/step - loss: 1.2681 - accuracy: 0.5753\n",
            "Epoch 67/500\n",
            "71/71 [==============================] - 1s 7ms/step - loss: 1.2772 - accuracy: 0.5802\n",
            "Epoch 68/500\n",
            "71/71 [==============================] - 1s 7ms/step - loss: 1.2887 - accuracy: 0.5838\n",
            "Epoch 69/500\n",
            "71/71 [==============================] - 1s 7ms/step - loss: 1.2707 - accuracy: 0.5766\n",
            "Epoch 70/500\n",
            "71/71 [==============================] - 0s 7ms/step - loss: 1.2463 - accuracy: 0.5860\n",
            "Epoch 71/500\n",
            "71/71 [==============================] - 1s 7ms/step - loss: 1.2422 - accuracy: 0.5873\n",
            "Epoch 72/500\n",
            "71/71 [==============================] - 0s 7ms/step - loss: 1.1967 - accuracy: 0.5980\n",
            "Epoch 73/500\n",
            "71/71 [==============================] - 1s 7ms/step - loss: 1.2276 - accuracy: 0.5918\n",
            "Epoch 74/500\n",
            "71/71 [==============================] - 1s 9ms/step - loss: 1.2000 - accuracy: 0.6119\n",
            "Epoch 75/500\n",
            "71/71 [==============================] - 1s 11ms/step - loss: 1.2358 - accuracy: 0.5789\n",
            "Epoch 76/500\n",
            "71/71 [==============================] - 1s 11ms/step - loss: 1.1628 - accuracy: 0.6096\n",
            "Epoch 77/500\n",
            "71/71 [==============================] - 1s 11ms/step - loss: 1.1873 - accuracy: 0.5958\n",
            "Epoch 78/500\n",
            "71/71 [==============================] - 1s 12ms/step - loss: 1.1875 - accuracy: 0.6007\n",
            "Epoch 79/500\n",
            "71/71 [==============================] - 1s 12ms/step - loss: 1.1771 - accuracy: 0.6185\n",
            "Epoch 80/500\n",
            "71/71 [==============================] - 1s 8ms/step - loss: 1.1206 - accuracy: 0.6248\n",
            "Epoch 81/500\n",
            "71/71 [==============================] - 0s 7ms/step - loss: 1.1359 - accuracy: 0.6257\n",
            "Epoch 82/500\n",
            "71/71 [==============================] - 1s 7ms/step - loss: 1.1084 - accuracy: 0.6270\n",
            "Epoch 83/500\n",
            "71/71 [==============================] - 0s 7ms/step - loss: 1.1484 - accuracy: 0.6225\n",
            "Epoch 84/500\n",
            "71/71 [==============================] - 1s 7ms/step - loss: 1.1191 - accuracy: 0.6324\n",
            "Epoch 85/500\n",
            "71/71 [==============================] - 1s 7ms/step - loss: 1.1042 - accuracy: 0.6346\n",
            "Epoch 86/500\n",
            "71/71 [==============================] - 1s 7ms/step - loss: 1.1078 - accuracy: 0.6261\n",
            "Epoch 87/500\n",
            "71/71 [==============================] - 1s 7ms/step - loss: 1.0751 - accuracy: 0.6399\n",
            "Epoch 88/500\n",
            "71/71 [==============================] - 1s 7ms/step - loss: 1.0836 - accuracy: 0.6471\n",
            "Epoch 89/500\n",
            "71/71 [==============================] - 0s 7ms/step - loss: 1.0717 - accuracy: 0.6453\n",
            "Epoch 90/500\n",
            "71/71 [==============================] - 1s 7ms/step - loss: 1.0470 - accuracy: 0.6542\n",
            "Epoch 91/500\n",
            "71/71 [==============================] - 0s 7ms/step - loss: 1.0488 - accuracy: 0.6511\n",
            "Epoch 92/500\n",
            "71/71 [==============================] - 1s 7ms/step - loss: 1.0255 - accuracy: 0.6595\n",
            "Epoch 93/500\n",
            "71/71 [==============================] - 1s 7ms/step - loss: 1.0566 - accuracy: 0.6520\n",
            "Epoch 94/500\n",
            "71/71 [==============================] - 1s 7ms/step - loss: 1.0480 - accuracy: 0.6466\n",
            "Epoch 95/500\n",
            "71/71 [==============================] - 1s 7ms/step - loss: 0.9613 - accuracy: 0.6627\n",
            "Epoch 96/500\n",
            "71/71 [==============================] - 1s 7ms/step - loss: 1.0526 - accuracy: 0.6595\n",
            "Epoch 97/500\n",
            "71/71 [==============================] - 1s 7ms/step - loss: 1.0212 - accuracy: 0.6573\n",
            "Epoch 98/500\n",
            "71/71 [==============================] - 1s 8ms/step - loss: 0.9706 - accuracy: 0.6858\n",
            "Epoch 99/500\n",
            "71/71 [==============================] - 1s 9ms/step - loss: 0.9565 - accuracy: 0.6814\n",
            "Epoch 100/500\n",
            "71/71 [==============================] - 1s 11ms/step - loss: 1.0542 - accuracy: 0.6542\n",
            "Epoch 101/500\n",
            "71/71 [==============================] - 1s 11ms/step - loss: 0.9926 - accuracy: 0.6912\n",
            "Epoch 102/500\n",
            "71/71 [==============================] - 1s 11ms/step - loss: 0.9787 - accuracy: 0.6734\n",
            "Epoch 103/500\n",
            "71/71 [==============================] - 1s 11ms/step - loss: 0.9576 - accuracy: 0.6760\n",
            "Epoch 104/500\n",
            "71/71 [==============================] - 1s 12ms/step - loss: 0.9331 - accuracy: 0.6854\n",
            "Epoch 105/500\n",
            "71/71 [==============================] - 1s 9ms/step - loss: 0.9663 - accuracy: 0.6676\n",
            "Epoch 106/500\n",
            "71/71 [==============================] - 0s 7ms/step - loss: 0.9508 - accuracy: 0.6836\n",
            "Epoch 107/500\n",
            "71/71 [==============================] - 1s 7ms/step - loss: 0.8819 - accuracy: 0.7139\n",
            "Epoch 108/500\n",
            "71/71 [==============================] - 0s 7ms/step - loss: 0.9435 - accuracy: 0.6889\n",
            "Epoch 109/500\n",
            "71/71 [==============================] - 1s 7ms/step - loss: 0.9668 - accuracy: 0.6832\n",
            "Epoch 110/500\n",
            "71/71 [==============================] - 0s 7ms/step - loss: 0.9195 - accuracy: 0.7028\n",
            "Epoch 111/500\n",
            "71/71 [==============================] - 0s 7ms/step - loss: 0.9179 - accuracy: 0.6970\n",
            "Epoch 112/500\n",
            "71/71 [==============================] - 0s 7ms/step - loss: 0.8920 - accuracy: 0.6992\n",
            "Epoch 113/500\n",
            "71/71 [==============================] - 1s 7ms/step - loss: 0.8702 - accuracy: 0.7072\n",
            "Epoch 114/500\n",
            "71/71 [==============================] - 0s 7ms/step - loss: 0.8856 - accuracy: 0.6970\n",
            "Epoch 115/500\n",
            "71/71 [==============================] - 1s 7ms/step - loss: 0.8817 - accuracy: 0.7313\n",
            "Epoch 116/500\n",
            "71/71 [==============================] - 1s 7ms/step - loss: 0.9275 - accuracy: 0.6970\n",
            "Epoch 117/500\n",
            "71/71 [==============================] - 1s 7ms/step - loss: 0.8625 - accuracy: 0.7094\n",
            "Epoch 118/500\n",
            "71/71 [==============================] - 0s 7ms/step - loss: 0.8529 - accuracy: 0.7032\n",
            "Epoch 119/500\n",
            "71/71 [==============================] - 1s 7ms/step - loss: 0.8134 - accuracy: 0.7224\n",
            "Epoch 120/500\n",
            "71/71 [==============================] - 1s 7ms/step - loss: 0.8515 - accuracy: 0.7094\n",
            "Epoch 121/500\n",
            "71/71 [==============================] - 1s 7ms/step - loss: 0.8006 - accuracy: 0.7304\n",
            "Epoch 122/500\n",
            "71/71 [==============================] - 0s 7ms/step - loss: 0.8164 - accuracy: 0.7282\n",
            "Epoch 123/500\n",
            "71/71 [==============================] - 1s 7ms/step - loss: 0.8465 - accuracy: 0.7250\n",
            "Epoch 124/500\n",
            "71/71 [==============================] - 0s 7ms/step - loss: 0.8177 - accuracy: 0.7322\n",
            "Epoch 125/500\n",
            "71/71 [==============================] - 1s 11ms/step - loss: 0.8258 - accuracy: 0.7268\n",
            "Epoch 126/500\n",
            "71/71 [==============================] - 1s 11ms/step - loss: 0.8229 - accuracy: 0.7233\n",
            "Epoch 127/500\n",
            "71/71 [==============================] - 1s 10ms/step - loss: 0.7905 - accuracy: 0.7384\n",
            "Epoch 128/500\n",
            "71/71 [==============================] - 1s 11ms/step - loss: 0.7723 - accuracy: 0.7531\n",
            "Epoch 129/500\n",
            "71/71 [==============================] - 1s 11ms/step - loss: 0.7620 - accuracy: 0.7433\n",
            "Epoch 130/500\n",
            "71/71 [==============================] - 1s 11ms/step - loss: 0.8486 - accuracy: 0.7228\n",
            "Epoch 131/500\n",
            "71/71 [==============================] - 1s 8ms/step - loss: 0.7470 - accuracy: 0.7451\n",
            "Epoch 132/500\n",
            "71/71 [==============================] - 1s 7ms/step - loss: 0.7892 - accuracy: 0.7366\n",
            "Epoch 133/500\n",
            "71/71 [==============================] - 0s 7ms/step - loss: 0.7855 - accuracy: 0.7464\n",
            "Epoch 134/500\n",
            "71/71 [==============================] - 0s 7ms/step - loss: 0.7646 - accuracy: 0.7455\n",
            "Epoch 135/500\n",
            "71/71 [==============================] - 0s 7ms/step - loss: 0.7978 - accuracy: 0.7402\n",
            "Epoch 136/500\n",
            "71/71 [==============================] - 1s 7ms/step - loss: 0.7246 - accuracy: 0.7549\n",
            "Epoch 137/500\n",
            "71/71 [==============================] - 1s 7ms/step - loss: 0.7904 - accuracy: 0.7643\n",
            "Epoch 138/500\n",
            "71/71 [==============================] - 1s 7ms/step - loss: 0.7577 - accuracy: 0.7513\n",
            "Epoch 139/500\n",
            "71/71 [==============================] - 0s 7ms/step - loss: 0.7233 - accuracy: 0.7616\n",
            "Epoch 140/500\n",
            "71/71 [==============================] - 1s 7ms/step - loss: 0.7752 - accuracy: 0.7540\n",
            "Epoch 141/500\n",
            "71/71 [==============================] - 1s 7ms/step - loss: 0.7442 - accuracy: 0.7522\n",
            "Epoch 142/500\n",
            "71/71 [==============================] - 0s 7ms/step - loss: 0.7000 - accuracy: 0.7745\n",
            "Epoch 143/500\n",
            "71/71 [==============================] - 0s 7ms/step - loss: 0.7268 - accuracy: 0.7589\n",
            "Epoch 144/500\n",
            "71/71 [==============================] - 1s 7ms/step - loss: 0.7037 - accuracy: 0.7629\n",
            "Epoch 145/500\n",
            "71/71 [==============================] - 1s 7ms/step - loss: 0.7230 - accuracy: 0.7607\n",
            "Epoch 146/500\n",
            "71/71 [==============================] - 1s 7ms/step - loss: 0.7555 - accuracy: 0.7558\n",
            "Epoch 147/500\n",
            "71/71 [==============================] - 1s 7ms/step - loss: 0.7337 - accuracy: 0.7558\n",
            "Epoch 148/500\n",
            "71/71 [==============================] - 1s 7ms/step - loss: 0.7177 - accuracy: 0.7625\n",
            "Epoch 149/500\n",
            "71/71 [==============================] - 1s 7ms/step - loss: 0.7032 - accuracy: 0.7683\n",
            "Epoch 150/500\n",
            "71/71 [==============================] - 1s 9ms/step - loss: 0.6675 - accuracy: 0.7799\n",
            "Epoch 151/500\n",
            "71/71 [==============================] - 1s 11ms/step - loss: 0.7028 - accuracy: 0.7701\n",
            "Epoch 152/500\n",
            "71/71 [==============================] - 1s 11ms/step - loss: 0.7062 - accuracy: 0.7531\n",
            "Epoch 153/500\n",
            "71/71 [==============================] - 1s 11ms/step - loss: 0.6066 - accuracy: 0.7999\n",
            "Epoch 154/500\n",
            "71/71 [==============================] - 1s 11ms/step - loss: 0.7318 - accuracy: 0.7598\n",
            "Epoch 155/500\n",
            "71/71 [==============================] - 1s 11ms/step - loss: 0.7398 - accuracy: 0.7647\n",
            "Epoch 156/500\n",
            "71/71 [==============================] - 1s 10ms/step - loss: 0.6443 - accuracy: 0.7861\n",
            "Epoch 157/500\n",
            "71/71 [==============================] - 1s 7ms/step - loss: 0.6909 - accuracy: 0.7874\n",
            "Epoch 158/500\n",
            "71/71 [==============================] - 1s 7ms/step - loss: 0.5993 - accuracy: 0.7986\n",
            "Epoch 159/500\n",
            "71/71 [==============================] - 0s 7ms/step - loss: 0.6716 - accuracy: 0.7932\n",
            "Epoch 160/500\n",
            "71/71 [==============================] - 1s 7ms/step - loss: 0.6653 - accuracy: 0.7807\n",
            "Epoch 161/500\n",
            "71/71 [==============================] - 1s 7ms/step - loss: 0.6257 - accuracy: 0.7995\n",
            "Epoch 162/500\n",
            "71/71 [==============================] - 1s 8ms/step - loss: 0.6843 - accuracy: 0.7932\n",
            "Epoch 163/500\n",
            "71/71 [==============================] - 1s 7ms/step - loss: 0.6264 - accuracy: 0.8004\n",
            "Epoch 164/500\n",
            "71/71 [==============================] - 1s 7ms/step - loss: 0.6306 - accuracy: 0.7986\n",
            "Epoch 165/500\n",
            "71/71 [==============================] - 0s 7ms/step - loss: 0.6344 - accuracy: 0.7941\n",
            "Epoch 166/500\n",
            "71/71 [==============================] - 1s 7ms/step - loss: 0.6094 - accuracy: 0.8008\n",
            "Epoch 167/500\n",
            "71/71 [==============================] - 1s 7ms/step - loss: 0.6396 - accuracy: 0.8102\n",
            "Epoch 168/500\n",
            "71/71 [==============================] - 1s 7ms/step - loss: 0.6624 - accuracy: 0.7892\n",
            "Epoch 169/500\n",
            "71/71 [==============================] - 0s 7ms/step - loss: 0.5906 - accuracy: 0.7977\n",
            "Epoch 170/500\n",
            "71/71 [==============================] - 1s 7ms/step - loss: 0.6789 - accuracy: 0.7977\n",
            "Epoch 171/500\n",
            "71/71 [==============================] - 1s 7ms/step - loss: 0.5677 - accuracy: 0.8124\n",
            "Epoch 172/500\n",
            "71/71 [==============================] - 1s 7ms/step - loss: 0.5912 - accuracy: 0.8115\n",
            "Epoch 173/500\n",
            "71/71 [==============================] - 1s 7ms/step - loss: 0.5997 - accuracy: 0.8012\n",
            "Epoch 174/500\n",
            "71/71 [==============================] - 1s 7ms/step - loss: 0.5973 - accuracy: 0.8061\n",
            "Epoch 175/500\n",
            "71/71 [==============================] - 1s 8ms/step - loss: 0.6043 - accuracy: 0.7995\n",
            "Epoch 176/500\n",
            "71/71 [==============================] - 1s 11ms/step - loss: 0.5767 - accuracy: 0.8155\n",
            "Epoch 177/500\n",
            "71/71 [==============================] - 1s 11ms/step - loss: 0.6277 - accuracy: 0.8084\n",
            "Epoch 178/500\n",
            "71/71 [==============================] - 1s 11ms/step - loss: 0.5864 - accuracy: 0.8124\n",
            "Epoch 179/500\n",
            "71/71 [==============================] - 1s 11ms/step - loss: 0.6475 - accuracy: 0.8030\n",
            "Epoch 180/500\n",
            "71/71 [==============================] - 1s 11ms/step - loss: 0.6045 - accuracy: 0.8266\n",
            "Epoch 181/500\n",
            "71/71 [==============================] - 1s 11ms/step - loss: 0.5901 - accuracy: 0.8249\n",
            "Epoch 182/500\n",
            "71/71 [==============================] - 1s 7ms/step - loss: 0.6350 - accuracy: 0.8061\n",
            "Epoch 183/500\n",
            "71/71 [==============================] - 1s 7ms/step - loss: 0.5971 - accuracy: 0.8119\n",
            "Epoch 184/500\n",
            "71/71 [==============================] - 0s 7ms/step - loss: 0.5740 - accuracy: 0.8186\n",
            "Epoch 185/500\n",
            "71/71 [==============================] - 1s 7ms/step - loss: 0.5374 - accuracy: 0.8289\n",
            "Epoch 186/500\n",
            "71/71 [==============================] - 1s 7ms/step - loss: 0.6256 - accuracy: 0.8030\n",
            "Epoch 187/500\n",
            "71/71 [==============================] - 1s 7ms/step - loss: 0.5004 - accuracy: 0.8342\n",
            "Epoch 188/500\n",
            "71/71 [==============================] - 0s 7ms/step - loss: 0.5663 - accuracy: 0.8271\n",
            "Epoch 189/500\n",
            "71/71 [==============================] - 1s 7ms/step - loss: 0.5483 - accuracy: 0.8284\n",
            "Epoch 190/500\n",
            "71/71 [==============================] - 1s 7ms/step - loss: 0.5695 - accuracy: 0.8222\n",
            "Epoch 191/500\n",
            "71/71 [==============================] - 1s 7ms/step - loss: 0.6029 - accuracy: 0.8048\n",
            "Epoch 192/500\n",
            "71/71 [==============================] - 1s 7ms/step - loss: 0.5237 - accuracy: 0.8253\n",
            "Epoch 193/500\n",
            "71/71 [==============================] - 1s 7ms/step - loss: 0.5184 - accuracy: 0.8342\n",
            "Epoch 194/500\n",
            "71/71 [==============================] - 1s 7ms/step - loss: 0.6438 - accuracy: 0.8111\n",
            "Epoch 195/500\n",
            "71/71 [==============================] - 1s 7ms/step - loss: 0.5454 - accuracy: 0.8293\n",
            "Epoch 196/500\n",
            "71/71 [==============================] - 0s 7ms/step - loss: 0.5616 - accuracy: 0.8275\n",
            "Epoch 197/500\n",
            "71/71 [==============================] - 1s 7ms/step - loss: 0.5439 - accuracy: 0.8209\n",
            "Epoch 198/500\n",
            "71/71 [==============================] - 1s 7ms/step - loss: 0.5365 - accuracy: 0.8298\n",
            "Epoch 199/500\n",
            "71/71 [==============================] - 1s 8ms/step - loss: 0.5095 - accuracy: 0.8338\n",
            "Epoch 200/500\n",
            "71/71 [==============================] - 1s 7ms/step - loss: 0.5710 - accuracy: 0.8387\n",
            "Epoch 201/500\n",
            "71/71 [==============================] - 1s 11ms/step - loss: 0.5261 - accuracy: 0.8476\n",
            "Epoch 202/500\n",
            "71/71 [==============================] - 1s 11ms/step - loss: 0.5297 - accuracy: 0.8373\n",
            "Epoch 203/500\n",
            "71/71 [==============================] - 1s 11ms/step - loss: 0.5236 - accuracy: 0.8298\n",
            "Epoch 204/500\n",
            "71/71 [==============================] - 1s 11ms/step - loss: 0.5114 - accuracy: 0.8369\n",
            "Epoch 205/500\n",
            "71/71 [==============================] - 1s 12ms/step - loss: 0.5053 - accuracy: 0.8356\n",
            "Epoch 206/500\n",
            "71/71 [==============================] - 1s 12ms/step - loss: 0.5826 - accuracy: 0.8173\n",
            "Epoch 207/500\n",
            "71/71 [==============================] - 1s 7ms/step - loss: 0.4353 - accuracy: 0.8610\n",
            "Epoch 208/500\n",
            "71/71 [==============================] - 1s 7ms/step - loss: 0.5467 - accuracy: 0.8431\n",
            "Epoch 209/500\n",
            "71/71 [==============================] - 1s 7ms/step - loss: 0.4953 - accuracy: 0.8485\n",
            "Epoch 210/500\n",
            "71/71 [==============================] - 1s 7ms/step - loss: 0.5064 - accuracy: 0.8418\n",
            "Epoch 211/500\n",
            "71/71 [==============================] - 1s 7ms/step - loss: 0.4997 - accuracy: 0.8422\n",
            "Epoch 212/500\n",
            "71/71 [==============================] - 1s 8ms/step - loss: 0.5047 - accuracy: 0.8436\n",
            "Epoch 213/500\n",
            "71/71 [==============================] - 1s 7ms/step - loss: 0.5153 - accuracy: 0.8458\n",
            "Epoch 214/500\n",
            "71/71 [==============================] - 1s 7ms/step - loss: 0.5351 - accuracy: 0.8409\n",
            "Epoch 215/500\n",
            "71/71 [==============================] - 1s 7ms/step - loss: 0.4691 - accuracy: 0.8596\n",
            "Epoch 216/500\n",
            "71/71 [==============================] - 1s 7ms/step - loss: 0.4896 - accuracy: 0.8516\n",
            "Epoch 217/500\n",
            "71/71 [==============================] - 1s 7ms/step - loss: 0.5219 - accuracy: 0.8307\n",
            "Epoch 218/500\n",
            "71/71 [==============================] - 1s 7ms/step - loss: 0.5165 - accuracy: 0.8365\n",
            "Epoch 219/500\n",
            "71/71 [==============================] - 1s 7ms/step - loss: 0.4425 - accuracy: 0.8663\n",
            "Epoch 220/500\n",
            "71/71 [==============================] - 1s 7ms/step - loss: 0.5110 - accuracy: 0.8485\n",
            "Epoch 221/500\n",
            "71/71 [==============================] - 1s 7ms/step - loss: 0.4777 - accuracy: 0.8561\n",
            "Epoch 222/500\n",
            "71/71 [==============================] - 1s 7ms/step - loss: 0.4605 - accuracy: 0.8534\n",
            "Epoch 223/500\n",
            "71/71 [==============================] - 1s 7ms/step - loss: 0.4678 - accuracy: 0.8574\n",
            "Epoch 224/500\n",
            "71/71 [==============================] - 1s 7ms/step - loss: 0.4869 - accuracy: 0.8578\n",
            "Epoch 225/500\n",
            "71/71 [==============================] - 1s 7ms/step - loss: 0.4743 - accuracy: 0.8538\n",
            "Epoch 226/500\n",
            "71/71 [==============================] - 1s 11ms/step - loss: 0.4757 - accuracy: 0.8561\n",
            "Epoch 227/500\n",
            "71/71 [==============================] - 1s 11ms/step - loss: 0.4260 - accuracy: 0.8570\n",
            "Epoch 228/500\n",
            "71/71 [==============================] - 1s 12ms/step - loss: 0.4883 - accuracy: 0.8574\n",
            "Epoch 229/500\n",
            "71/71 [==============================] - 1s 11ms/step - loss: 0.4465 - accuracy: 0.8610\n",
            "Epoch 230/500\n",
            "71/71 [==============================] - 1s 12ms/step - loss: 0.4421 - accuracy: 0.8690\n",
            "Epoch 231/500\n",
            "71/71 [==============================] - 1s 12ms/step - loss: 0.5019 - accuracy: 0.8529\n",
            "Epoch 232/500\n",
            "71/71 [==============================] - 1s 7ms/step - loss: 0.4757 - accuracy: 0.8516\n",
            "Epoch 233/500\n",
            "71/71 [==============================] - 1s 8ms/step - loss: 0.5100 - accuracy: 0.8605\n",
            "Epoch 234/500\n",
            "71/71 [==============================] - 1s 8ms/step - loss: 0.4060 - accuracy: 0.8828\n",
            "Epoch 235/500\n",
            "71/71 [==============================] - 1s 7ms/step - loss: 0.4989 - accuracy: 0.8570\n",
            "Epoch 236/500\n",
            "71/71 [==============================] - 1s 7ms/step - loss: 0.4647 - accuracy: 0.8605\n",
            "Epoch 237/500\n",
            "71/71 [==============================] - 1s 7ms/step - loss: 0.4313 - accuracy: 0.8699\n",
            "Epoch 238/500\n",
            "71/71 [==============================] - 1s 8ms/step - loss: 0.4186 - accuracy: 0.8743\n",
            "Epoch 239/500\n",
            "71/71 [==============================] - 1s 7ms/step - loss: 0.4182 - accuracy: 0.8815\n",
            "Epoch 240/500\n",
            "71/71 [==============================] - 1s 7ms/step - loss: 0.5133 - accuracy: 0.8766\n",
            "Epoch 241/500\n",
            "71/71 [==============================] - 1s 7ms/step - loss: 0.4256 - accuracy: 0.8725\n",
            "Epoch 242/500\n",
            "71/71 [==============================] - 1s 8ms/step - loss: 0.4365 - accuracy: 0.8757\n",
            "Epoch 243/500\n",
            "71/71 [==============================] - 1s 7ms/step - loss: 0.4746 - accuracy: 0.8645\n",
            "Epoch 244/500\n",
            "71/71 [==============================] - 1s 7ms/step - loss: 0.4602 - accuracy: 0.8583\n",
            "Epoch 245/500\n",
            "71/71 [==============================] - 1s 7ms/step - loss: 0.4851 - accuracy: 0.8654\n",
            "Epoch 246/500\n",
            "71/71 [==============================] - 1s 7ms/step - loss: 0.3683 - accuracy: 0.8832\n",
            "Epoch 247/500\n",
            "71/71 [==============================] - 1s 7ms/step - loss: 0.4841 - accuracy: 0.8592\n",
            "Epoch 248/500\n",
            "71/71 [==============================] - 1s 7ms/step - loss: 0.4410 - accuracy: 0.8699\n",
            "Epoch 249/500\n",
            "71/71 [==============================] - 1s 7ms/step - loss: 0.4738 - accuracy: 0.8605\n",
            "Epoch 250/500\n",
            "71/71 [==============================] - 1s 8ms/step - loss: 0.4034 - accuracy: 0.8752\n",
            "Epoch 251/500\n",
            "71/71 [==============================] - 1s 11ms/step - loss: 0.3765 - accuracy: 0.8824\n",
            "Epoch 252/500\n",
            "71/71 [==============================] - 1s 11ms/step - loss: 0.5000 - accuracy: 0.8614\n",
            "Epoch 253/500\n",
            "71/71 [==============================] - 1s 11ms/step - loss: 0.3678 - accuracy: 0.8775\n",
            "Epoch 254/500\n",
            "71/71 [==============================] - 1s 11ms/step - loss: 0.4084 - accuracy: 0.8824\n",
            "Epoch 255/500\n",
            "71/71 [==============================] - 1s 12ms/step - loss: 0.4288 - accuracy: 0.8971\n",
            "Epoch 256/500\n",
            "71/71 [==============================] - 1s 11ms/step - loss: 0.4701 - accuracy: 0.8685\n",
            "Epoch 257/500\n",
            "71/71 [==============================] - 1s 7ms/step - loss: 0.3759 - accuracy: 0.8917\n",
            "Epoch 258/500\n",
            "71/71 [==============================] - 1s 7ms/step - loss: 0.4528 - accuracy: 0.8627\n",
            "Epoch 259/500\n",
            "71/71 [==============================] - 1s 7ms/step - loss: 0.4345 - accuracy: 0.8717\n",
            "Epoch 260/500\n",
            "71/71 [==============================] - 1s 7ms/step - loss: 0.4293 - accuracy: 0.8703\n",
            "Epoch 261/500\n",
            "71/71 [==============================] - 1s 7ms/step - loss: 0.3898 - accuracy: 0.8824\n",
            "Epoch 262/500\n",
            "71/71 [==============================] - 1s 7ms/step - loss: 0.4357 - accuracy: 0.8703\n",
            "Epoch 263/500\n",
            "71/71 [==============================] - 1s 7ms/step - loss: 0.3493 - accuracy: 0.8899\n",
            "Epoch 264/500\n",
            "71/71 [==============================] - 1s 7ms/step - loss: 0.4443 - accuracy: 0.8806\n",
            "Epoch 265/500\n",
            "71/71 [==============================] - 1s 7ms/step - loss: 0.4553 - accuracy: 0.8832\n",
            "Epoch 266/500\n",
            "71/71 [==============================] - 1s 7ms/step - loss: 0.4231 - accuracy: 0.8788\n",
            "Epoch 267/500\n",
            "71/71 [==============================] - 1s 7ms/step - loss: 0.4128 - accuracy: 0.8859\n",
            "Epoch 268/500\n",
            "71/71 [==============================] - 1s 7ms/step - loss: 0.4193 - accuracy: 0.8868\n",
            "Epoch 269/500\n",
            "71/71 [==============================] - 0s 7ms/step - loss: 0.3774 - accuracy: 0.8899\n",
            "Epoch 270/500\n",
            "71/71 [==============================] - 1s 7ms/step - loss: 0.3722 - accuracy: 0.8832\n",
            "Epoch 271/500\n",
            "71/71 [==============================] - 1s 7ms/step - loss: 0.4494 - accuracy: 0.8775\n",
            "Epoch 272/500\n",
            "71/71 [==============================] - 1s 7ms/step - loss: 0.3518 - accuracy: 0.8868\n",
            "Epoch 273/500\n",
            "71/71 [==============================] - 0s 7ms/step - loss: 0.4449 - accuracy: 0.8815\n",
            "Epoch 274/500\n",
            "71/71 [==============================] - 1s 7ms/step - loss: 0.3759 - accuracy: 0.8895\n",
            "Epoch 275/500\n",
            "71/71 [==============================] - 1s 7ms/step - loss: 0.3978 - accuracy: 0.8815\n",
            "Epoch 276/500\n",
            "71/71 [==============================] - 1s 11ms/step - loss: 0.4351 - accuracy: 0.8797\n",
            "Epoch 277/500\n",
            "71/71 [==============================] - 1s 11ms/step - loss: 0.3511 - accuracy: 0.8908\n",
            "Epoch 278/500\n",
            "71/71 [==============================] - 1s 11ms/step - loss: 0.4587 - accuracy: 0.8712\n",
            "Epoch 279/500\n",
            "71/71 [==============================] - 1s 11ms/step - loss: 0.3468 - accuracy: 0.8993\n",
            "Epoch 280/500\n",
            "71/71 [==============================] - 1s 11ms/step - loss: 0.3861 - accuracy: 0.8913\n",
            "Epoch 281/500\n",
            "71/71 [==============================] - 1s 11ms/step - loss: 0.3866 - accuracy: 0.8895\n",
            "Epoch 282/500\n",
            "71/71 [==============================] - 1s 9ms/step - loss: 0.4070 - accuracy: 0.8917\n",
            "Epoch 283/500\n",
            "71/71 [==============================] - 1s 7ms/step - loss: 0.3207 - accuracy: 0.9046\n",
            "Epoch 284/500\n",
            "71/71 [==============================] - 1s 7ms/step - loss: 0.3801 - accuracy: 0.8859\n",
            "Epoch 285/500\n",
            "71/71 [==============================] - 1s 7ms/step - loss: 0.3923 - accuracy: 0.8864\n",
            "Epoch 286/500\n",
            "71/71 [==============================] - 0s 7ms/step - loss: 0.3212 - accuracy: 0.9069\n",
            "Epoch 287/500\n",
            "71/71 [==============================] - 1s 7ms/step - loss: 0.3881 - accuracy: 0.8868\n",
            "Epoch 288/500\n",
            "71/71 [==============================] - 1s 7ms/step - loss: 0.3956 - accuracy: 0.8855\n",
            "Epoch 289/500\n",
            "71/71 [==============================] - 1s 7ms/step - loss: 0.3545 - accuracy: 0.9029\n",
            "Epoch 290/500\n",
            "71/71 [==============================] - 1s 7ms/step - loss: 0.5004 - accuracy: 0.8815\n",
            "Epoch 291/500\n",
            "71/71 [==============================] - 1s 7ms/step - loss: 0.3668 - accuracy: 0.9006\n",
            "Epoch 292/500\n",
            "71/71 [==============================] - 1s 7ms/step - loss: 0.4253 - accuracy: 0.8783\n",
            "Epoch 293/500\n",
            "71/71 [==============================] - 1s 7ms/step - loss: 0.3360 - accuracy: 0.9086\n",
            "Epoch 294/500\n",
            "71/71 [==============================] - 1s 7ms/step - loss: 0.3272 - accuracy: 0.9051\n",
            "Epoch 295/500\n",
            "71/71 [==============================] - 1s 7ms/step - loss: 0.3876 - accuracy: 0.8913\n",
            "Epoch 296/500\n",
            "71/71 [==============================] - 1s 7ms/step - loss: 0.3792 - accuracy: 0.8917\n",
            "Epoch 297/500\n",
            "71/71 [==============================] - 1s 8ms/step - loss: 0.3839 - accuracy: 0.8792\n",
            "Epoch 298/500\n",
            "71/71 [==============================] - 1s 7ms/step - loss: 0.3631 - accuracy: 0.8899\n",
            "Epoch 299/500\n",
            "71/71 [==============================] - 1s 8ms/step - loss: 0.3364 - accuracy: 0.9029\n",
            "Epoch 300/500\n",
            "71/71 [==============================] - 1s 8ms/step - loss: 0.4427 - accuracy: 0.8806\n",
            "Epoch 301/500\n",
            "71/71 [==============================] - 1s 11ms/step - loss: 0.3288 - accuracy: 0.9109\n",
            "Epoch 302/500\n",
            "71/71 [==============================] - 1s 11ms/step - loss: 0.3220 - accuracy: 0.8966\n",
            "Epoch 303/500\n",
            "71/71 [==============================] - 1s 11ms/step - loss: 0.3684 - accuracy: 0.8926\n",
            "Epoch 304/500\n",
            "71/71 [==============================] - 1s 11ms/step - loss: 0.3543 - accuracy: 0.9037\n",
            "Epoch 305/500\n",
            "71/71 [==============================] - 1s 12ms/step - loss: 0.3732 - accuracy: 0.9055\n",
            "Epoch 306/500\n",
            "71/71 [==============================] - 1s 12ms/step - loss: 0.3015 - accuracy: 0.9037\n",
            "Epoch 307/500\n",
            "71/71 [==============================] - 1s 8ms/step - loss: 0.3277 - accuracy: 0.9015\n",
            "Epoch 308/500\n",
            "71/71 [==============================] - 1s 7ms/step - loss: 0.3672 - accuracy: 0.8926\n",
            "Epoch 309/500\n",
            "71/71 [==============================] - 1s 8ms/step - loss: 0.4455 - accuracy: 0.8873\n",
            "Epoch 310/500\n",
            "71/71 [==============================] - 1s 7ms/step - loss: 0.3112 - accuracy: 0.9113\n",
            "Epoch 311/500\n",
            "71/71 [==============================] - 1s 8ms/step - loss: 0.3760 - accuracy: 0.8904\n",
            "Epoch 312/500\n",
            "71/71 [==============================] - 1s 7ms/step - loss: 0.3456 - accuracy: 0.9024\n",
            "Epoch 313/500\n",
            "71/71 [==============================] - 1s 8ms/step - loss: 0.3556 - accuracy: 0.9069\n",
            "Epoch 314/500\n",
            "71/71 [==============================] - 1s 7ms/step - loss: 0.3647 - accuracy: 0.8957\n",
            "Epoch 315/500\n",
            "71/71 [==============================] - 1s 8ms/step - loss: 0.3634 - accuracy: 0.8939\n",
            "Epoch 316/500\n",
            "71/71 [==============================] - 1s 8ms/step - loss: 0.2844 - accuracy: 0.9073\n",
            "Epoch 317/500\n",
            "71/71 [==============================] - 1s 8ms/step - loss: 0.3128 - accuracy: 0.9055\n",
            "Epoch 318/500\n",
            "71/71 [==============================] - 1s 8ms/step - loss: 0.3728 - accuracy: 0.9073\n",
            "Epoch 319/500\n",
            "71/71 [==============================] - 1s 7ms/step - loss: 0.3757 - accuracy: 0.9122\n",
            "Epoch 320/500\n",
            "71/71 [==============================] - 1s 8ms/step - loss: 0.3577 - accuracy: 0.9020\n",
            "Epoch 321/500\n",
            "71/71 [==============================] - 1s 7ms/step - loss: 0.3447 - accuracy: 0.9024\n",
            "Epoch 322/500\n",
            "71/71 [==============================] - 1s 8ms/step - loss: 0.3378 - accuracy: 0.9064\n",
            "Epoch 323/500\n",
            "71/71 [==============================] - 1s 7ms/step - loss: 0.3397 - accuracy: 0.9144\n",
            "Epoch 324/500\n",
            "71/71 [==============================] - 1s 8ms/step - loss: 0.3211 - accuracy: 0.9100\n",
            "Epoch 325/500\n",
            "71/71 [==============================] - 1s 10ms/step - loss: 0.4286 - accuracy: 0.8846\n",
            "Epoch 326/500\n",
            "71/71 [==============================] - 1s 11ms/step - loss: 0.3237 - accuracy: 0.9140\n",
            "Epoch 327/500\n",
            "71/71 [==============================] - 1s 11ms/step - loss: 0.3445 - accuracy: 0.9029\n",
            "Epoch 328/500\n",
            "71/71 [==============================] - 1s 11ms/step - loss: 0.3519 - accuracy: 0.9006\n",
            "Epoch 329/500\n",
            "71/71 [==============================] - 1s 11ms/step - loss: 0.3285 - accuracy: 0.9113\n",
            "Epoch 330/500\n",
            "71/71 [==============================] - 1s 12ms/step - loss: 0.3435 - accuracy: 0.9046\n",
            "Epoch 331/500\n",
            "71/71 [==============================] - 1s 10ms/step - loss: 0.2827 - accuracy: 0.9184\n",
            "Epoch 332/500\n",
            "71/71 [==============================] - 1s 8ms/step - loss: 0.2960 - accuracy: 0.9153\n",
            "Epoch 333/500\n",
            "71/71 [==============================] - 1s 8ms/step - loss: 0.4058 - accuracy: 0.8881\n",
            "Epoch 334/500\n",
            "71/71 [==============================] - 1s 7ms/step - loss: 0.3744 - accuracy: 0.9006\n",
            "Epoch 335/500\n",
            "71/71 [==============================] - 1s 8ms/step - loss: 0.3420 - accuracy: 0.9024\n",
            "Epoch 336/500\n",
            "71/71 [==============================] - 1s 7ms/step - loss: 0.3579 - accuracy: 0.9162\n",
            "Epoch 337/500\n",
            "71/71 [==============================] - 1s 8ms/step - loss: 0.3017 - accuracy: 0.9189\n",
            "Epoch 338/500\n",
            "71/71 [==============================] - 1s 8ms/step - loss: 0.3653 - accuracy: 0.8988\n",
            "Epoch 339/500\n",
            "71/71 [==============================] - 1s 7ms/step - loss: 0.3893 - accuracy: 0.9015\n",
            "Epoch 340/500\n",
            "71/71 [==============================] - 1s 8ms/step - loss: 0.3004 - accuracy: 0.9109\n",
            "Epoch 341/500\n",
            "71/71 [==============================] - 1s 7ms/step - loss: 0.4531 - accuracy: 0.9011\n",
            "Epoch 342/500\n",
            "71/71 [==============================] - 1s 8ms/step - loss: 0.2695 - accuracy: 0.9242\n",
            "Epoch 343/500\n",
            "71/71 [==============================] - 1s 7ms/step - loss: 0.3693 - accuracy: 0.9109\n",
            "Epoch 344/500\n",
            "71/71 [==============================] - 1s 7ms/step - loss: 0.3654 - accuracy: 0.8935\n",
            "Epoch 345/500\n",
            "71/71 [==============================] - 1s 7ms/step - loss: 0.3298 - accuracy: 0.9162\n",
            "Epoch 346/500\n",
            "71/71 [==============================] - 1s 8ms/step - loss: 0.2785 - accuracy: 0.9073\n",
            "Epoch 347/500\n",
            "71/71 [==============================] - 1s 7ms/step - loss: 0.3084 - accuracy: 0.9127\n",
            "Epoch 348/500\n",
            "71/71 [==============================] - 1s 8ms/step - loss: 0.3189 - accuracy: 0.9225\n",
            "Epoch 349/500\n",
            "71/71 [==============================] - 1s 8ms/step - loss: 0.3248 - accuracy: 0.9069\n",
            "Epoch 350/500\n",
            "71/71 [==============================] - 1s 12ms/step - loss: 0.3388 - accuracy: 0.9055\n",
            "Epoch 351/500\n",
            "71/71 [==============================] - 1s 12ms/step - loss: 0.3213 - accuracy: 0.9118\n",
            "Epoch 352/500\n",
            "71/71 [==============================] - 1s 12ms/step - loss: 0.3464 - accuracy: 0.9118\n",
            "Epoch 353/500\n",
            "71/71 [==============================] - 1s 12ms/step - loss: 0.3000 - accuracy: 0.9176\n",
            "Epoch 354/500\n",
            "71/71 [==============================] - 1s 11ms/step - loss: 0.3308 - accuracy: 0.9109\n",
            "Epoch 355/500\n",
            "71/71 [==============================] - 1s 12ms/step - loss: 0.3383 - accuracy: 0.9104\n",
            "Epoch 356/500\n",
            "71/71 [==============================] - 1s 13ms/step - loss: 0.2910 - accuracy: 0.9225\n",
            "Epoch 357/500\n",
            "71/71 [==============================] - 1s 13ms/step - loss: 0.3399 - accuracy: 0.9015\n",
            "Epoch 358/500\n",
            "71/71 [==============================] - 1s 12ms/step - loss: 0.3318 - accuracy: 0.9278\n",
            "Epoch 359/500\n",
            "71/71 [==============================] - 1s 13ms/step - loss: 0.3750 - accuracy: 0.8948\n",
            "Epoch 360/500\n",
            "71/71 [==============================] - 1s 12ms/step - loss: 0.2513 - accuracy: 0.9229\n",
            "Epoch 361/500\n",
            "71/71 [==============================] - 1s 9ms/step - loss: 0.3199 - accuracy: 0.9109\n",
            "Epoch 362/500\n",
            "71/71 [==============================] - 1s 7ms/step - loss: 0.3556 - accuracy: 0.9082\n",
            "Epoch 363/500\n",
            "71/71 [==============================] - 1s 8ms/step - loss: 0.3128 - accuracy: 0.9216\n",
            "Epoch 364/500\n",
            "71/71 [==============================] - 1s 7ms/step - loss: 0.2316 - accuracy: 0.9332\n",
            "Epoch 365/500\n",
            "71/71 [==============================] - 1s 7ms/step - loss: 0.3371 - accuracy: 0.9064\n",
            "Epoch 366/500\n",
            "71/71 [==============================] - 1s 7ms/step - loss: 0.2640 - accuracy: 0.9211\n",
            "Epoch 367/500\n",
            "71/71 [==============================] - 1s 8ms/step - loss: 0.3690 - accuracy: 0.9113\n",
            "Epoch 368/500\n",
            "71/71 [==============================] - 1s 7ms/step - loss: 0.2578 - accuracy: 0.9260\n",
            "Epoch 369/500\n",
            "71/71 [==============================] - 1s 7ms/step - loss: 0.3606 - accuracy: 0.9020\n",
            "Epoch 370/500\n",
            "71/71 [==============================] - 1s 7ms/step - loss: 0.3015 - accuracy: 0.9211\n",
            "Epoch 371/500\n",
            "71/71 [==============================] - 1s 7ms/step - loss: 0.3696 - accuracy: 0.9113\n",
            "Epoch 372/500\n",
            "71/71 [==============================] - 1s 7ms/step - loss: 0.3316 - accuracy: 0.9140\n",
            "Epoch 373/500\n",
            "71/71 [==============================] - 1s 8ms/step - loss: 0.3317 - accuracy: 0.9055\n",
            "Epoch 374/500\n",
            "71/71 [==============================] - 1s 8ms/step - loss: 0.3353 - accuracy: 0.9171\n",
            "Epoch 375/500\n",
            "71/71 [==============================] - 1s 8ms/step - loss: 0.2973 - accuracy: 0.9158\n",
            "Epoch 376/500\n",
            "71/71 [==============================] - 1s 8ms/step - loss: 0.2868 - accuracy: 0.9225\n",
            "Epoch 377/500\n",
            "71/71 [==============================] - 1s 8ms/step - loss: 0.3269 - accuracy: 0.9069\n",
            "Epoch 378/500\n",
            "71/71 [==============================] - 1s 10ms/step - loss: 0.3098 - accuracy: 0.9229\n",
            "Epoch 379/500\n",
            "71/71 [==============================] - 1s 11ms/step - loss: 0.2501 - accuracy: 0.9372\n",
            "Epoch 380/500\n",
            "71/71 [==============================] - 1s 11ms/step - loss: 0.4034 - accuracy: 0.9042\n",
            "Epoch 381/500\n",
            "71/71 [==============================] - 1s 11ms/step - loss: 0.3318 - accuracy: 0.9198\n",
            "Epoch 382/500\n",
            "71/71 [==============================] - 1s 11ms/step - loss: 0.2967 - accuracy: 0.9162\n",
            "Epoch 383/500\n",
            "71/71 [==============================] - 1s 12ms/step - loss: 0.3243 - accuracy: 0.9153\n",
            "Epoch 384/500\n",
            "71/71 [==============================] - 1s 11ms/step - loss: 0.3123 - accuracy: 0.9193\n",
            "Epoch 385/500\n",
            "71/71 [==============================] - 1s 7ms/step - loss: 0.2777 - accuracy: 0.9211\n",
            "Epoch 386/500\n",
            "71/71 [==============================] - 1s 7ms/step - loss: 0.3123 - accuracy: 0.9180\n",
            "Epoch 387/500\n",
            "71/71 [==============================] - 1s 7ms/step - loss: 0.2823 - accuracy: 0.9283\n",
            "Epoch 388/500\n",
            "71/71 [==============================] - 1s 7ms/step - loss: 0.2728 - accuracy: 0.9207\n",
            "Epoch 389/500\n",
            "71/71 [==============================] - 1s 7ms/step - loss: 0.3165 - accuracy: 0.9198\n",
            "Epoch 390/500\n",
            "71/71 [==============================] - 1s 7ms/step - loss: 0.3309 - accuracy: 0.9332\n",
            "Epoch 391/500\n",
            "71/71 [==============================] - 1s 8ms/step - loss: 0.2998 - accuracy: 0.9104\n",
            "Epoch 392/500\n",
            "71/71 [==============================] - 1s 8ms/step - loss: 0.2844 - accuracy: 0.9247\n",
            "Epoch 393/500\n",
            "71/71 [==============================] - 1s 8ms/step - loss: 0.2874 - accuracy: 0.9291\n",
            "Epoch 394/500\n",
            "71/71 [==============================] - 1s 7ms/step - loss: 0.2872 - accuracy: 0.9202\n",
            "Epoch 395/500\n",
            "71/71 [==============================] - 1s 8ms/step - loss: 0.2698 - accuracy: 0.9269\n",
            "Epoch 396/500\n",
            "71/71 [==============================] - 1s 8ms/step - loss: 0.2807 - accuracy: 0.9336\n",
            "Epoch 397/500\n",
            "71/71 [==============================] - 1s 8ms/step - loss: 0.2658 - accuracy: 0.9256\n",
            "Epoch 398/500\n",
            "71/71 [==============================] - 1s 7ms/step - loss: 0.3249 - accuracy: 0.9260\n",
            "Epoch 399/500\n",
            "71/71 [==============================] - 1s 7ms/step - loss: 0.3487 - accuracy: 0.9220\n",
            "Epoch 400/500\n",
            "71/71 [==============================] - 1s 8ms/step - loss: 0.3609 - accuracy: 0.9100\n",
            "Epoch 401/500\n",
            "71/71 [==============================] - 1s 7ms/step - loss: 0.2393 - accuracy: 0.9305\n",
            "Epoch 402/500\n",
            "71/71 [==============================] - 1s 8ms/step - loss: 0.2688 - accuracy: 0.9296\n",
            "Epoch 403/500\n",
            "71/71 [==============================] - 1s 11ms/step - loss: 0.3509 - accuracy: 0.9060\n",
            "Epoch 404/500\n",
            "71/71 [==============================] - 1s 12ms/step - loss: 0.2469 - accuracy: 0.9269\n",
            "Epoch 405/500\n",
            "71/71 [==============================] - 1s 12ms/step - loss: 0.3219 - accuracy: 0.9220\n",
            "Epoch 406/500\n",
            "71/71 [==============================] - 1s 11ms/step - loss: 0.2783 - accuracy: 0.9327\n",
            "Epoch 407/500\n",
            "71/71 [==============================] - 1s 12ms/step - loss: 0.3151 - accuracy: 0.9184\n",
            "Epoch 408/500\n",
            "71/71 [==============================] - 1s 12ms/step - loss: 0.2703 - accuracy: 0.9278\n",
            "Epoch 409/500\n",
            "71/71 [==============================] - 1s 10ms/step - loss: 0.2468 - accuracy: 0.9340\n",
            "Epoch 410/500\n",
            "71/71 [==============================] - 1s 8ms/step - loss: 0.3344 - accuracy: 0.9073\n",
            "Epoch 411/500\n",
            "71/71 [==============================] - 1s 8ms/step - loss: 0.3134 - accuracy: 0.9176\n",
            "Epoch 412/500\n",
            "71/71 [==============================] - 1s 8ms/step - loss: 0.2519 - accuracy: 0.9332\n",
            "Epoch 413/500\n",
            "71/71 [==============================] - 1s 8ms/step - loss: 0.3264 - accuracy: 0.9238\n",
            "Epoch 414/500\n",
            "71/71 [==============================] - 1s 8ms/step - loss: 0.2659 - accuracy: 0.9318\n",
            "Epoch 415/500\n",
            "71/71 [==============================] - 1s 8ms/step - loss: 0.3557 - accuracy: 0.9149\n",
            "Epoch 416/500\n",
            "71/71 [==============================] - 1s 8ms/step - loss: 0.2428 - accuracy: 0.9336\n",
            "Epoch 417/500\n",
            "71/71 [==============================] - 1s 8ms/step - loss: 0.3708 - accuracy: 0.9104\n",
            "Epoch 418/500\n",
            "71/71 [==============================] - 1s 8ms/step - loss: 0.2688 - accuracy: 0.9211\n",
            "Epoch 419/500\n",
            "71/71 [==============================] - 1s 7ms/step - loss: 0.3101 - accuracy: 0.9167\n",
            "Epoch 420/500\n",
            "71/71 [==============================] - 1s 8ms/step - loss: 0.3163 - accuracy: 0.9167\n",
            "Epoch 421/500\n",
            "71/71 [==============================] - 1s 7ms/step - loss: 0.3510 - accuracy: 0.9104\n",
            "Epoch 422/500\n",
            "71/71 [==============================] - 1s 8ms/step - loss: 0.2529 - accuracy: 0.9296\n",
            "Epoch 423/500\n",
            "71/71 [==============================] - 1s 7ms/step - loss: 0.2859 - accuracy: 0.9340\n",
            "Epoch 424/500\n",
            "71/71 [==============================] - 1s 8ms/step - loss: 0.2366 - accuracy: 0.9238\n",
            "Epoch 425/500\n",
            "71/71 [==============================] - 1s 7ms/step - loss: 0.3470 - accuracy: 0.9153\n",
            "Epoch 426/500\n",
            "71/71 [==============================] - 1s 8ms/step - loss: 0.2745 - accuracy: 0.9309\n",
            "Epoch 427/500\n",
            "71/71 [==============================] - 1s 9ms/step - loss: 0.2738 - accuracy: 0.9314\n",
            "Epoch 428/500\n",
            "71/71 [==============================] - 1s 11ms/step - loss: 0.2614 - accuracy: 0.9349\n",
            "Epoch 429/500\n",
            "71/71 [==============================] - 1s 12ms/step - loss: 0.2693 - accuracy: 0.9349\n",
            "Epoch 430/500\n",
            "71/71 [==============================] - 1s 11ms/step - loss: 0.2884 - accuracy: 0.9278\n",
            "Epoch 431/500\n",
            "71/71 [==============================] - 1s 11ms/step - loss: 0.2824 - accuracy: 0.9309\n",
            "Epoch 432/500\n",
            "71/71 [==============================] - 1s 12ms/step - loss: 0.2401 - accuracy: 0.9385\n",
            "Epoch 433/500\n",
            "71/71 [==============================] - 1s 12ms/step - loss: 0.2829 - accuracy: 0.9184\n",
            "Epoch 434/500\n",
            "71/71 [==============================] - 1s 10ms/step - loss: 0.3441 - accuracy: 0.9251\n",
            "Epoch 435/500\n",
            "71/71 [==============================] - 1s 8ms/step - loss: 0.2464 - accuracy: 0.9278\n",
            "Epoch 436/500\n",
            "71/71 [==============================] - 1s 7ms/step - loss: 0.2931 - accuracy: 0.9127\n",
            "Epoch 437/500\n",
            "71/71 [==============================] - 1s 7ms/step - loss: 0.3011 - accuracy: 0.9256\n",
            "Epoch 438/500\n",
            "71/71 [==============================] - 1s 8ms/step - loss: 0.3256 - accuracy: 0.9229\n",
            "Epoch 439/500\n",
            "71/71 [==============================] - 1s 7ms/step - loss: 0.2685 - accuracy: 0.9318\n",
            "Epoch 440/500\n",
            "71/71 [==============================] - 1s 8ms/step - loss: 0.2195 - accuracy: 0.9407\n",
            "Epoch 441/500\n",
            "71/71 [==============================] - 1s 8ms/step - loss: 0.2732 - accuracy: 0.9305\n",
            "Epoch 442/500\n",
            "71/71 [==============================] - 1s 7ms/step - loss: 0.2680 - accuracy: 0.9309\n",
            "Epoch 443/500\n",
            "71/71 [==============================] - 1s 7ms/step - loss: 0.2859 - accuracy: 0.9367\n",
            "Epoch 444/500\n",
            "71/71 [==============================] - 1s 7ms/step - loss: 0.2835 - accuracy: 0.9309\n",
            "Epoch 445/500\n",
            "71/71 [==============================] - 1s 8ms/step - loss: 0.3149 - accuracy: 0.9265\n",
            "Epoch 446/500\n",
            "71/71 [==============================] - 1s 8ms/step - loss: 0.3146 - accuracy: 0.9332\n",
            "Epoch 447/500\n",
            "71/71 [==============================] - 1s 8ms/step - loss: 0.2283 - accuracy: 0.9465\n",
            "Epoch 448/500\n",
            "71/71 [==============================] - 1s 7ms/step - loss: 0.2528 - accuracy: 0.9363\n",
            "Epoch 449/500\n",
            "71/71 [==============================] - 1s 8ms/step - loss: 0.2370 - accuracy: 0.9416\n",
            "Epoch 450/500\n",
            "71/71 [==============================] - 1s 7ms/step - loss: 0.3056 - accuracy: 0.9238\n",
            "Epoch 451/500\n",
            "71/71 [==============================] - 1s 7ms/step - loss: 0.3125 - accuracy: 0.9305\n",
            "Epoch 452/500\n",
            "71/71 [==============================] - 1s 7ms/step - loss: 0.3188 - accuracy: 0.9069\n",
            "Epoch 453/500\n",
            "71/71 [==============================] - 1s 12ms/step - loss: 0.2245 - accuracy: 0.9349\n",
            "Epoch 454/500\n",
            "71/71 [==============================] - 1s 12ms/step - loss: 0.2930 - accuracy: 0.9283\n",
            "Epoch 455/500\n",
            "71/71 [==============================] - 1s 12ms/step - loss: 0.2769 - accuracy: 0.9358\n",
            "Epoch 456/500\n",
            "71/71 [==============================] - 1s 11ms/step - loss: 0.2593 - accuracy: 0.9403\n",
            "Epoch 457/500\n",
            "71/71 [==============================] - 1s 12ms/step - loss: 0.3481 - accuracy: 0.9247\n",
            "Epoch 458/500\n",
            "71/71 [==============================] - 1s 12ms/step - loss: 0.2368 - accuracy: 0.9323\n",
            "Epoch 459/500\n",
            "71/71 [==============================] - 1s 11ms/step - loss: 0.3970 - accuracy: 0.9167\n",
            "Epoch 460/500\n",
            "71/71 [==============================] - 1s 7ms/step - loss: 0.2321 - accuracy: 0.9452\n",
            "Epoch 461/500\n",
            "71/71 [==============================] - 1s 8ms/step - loss: 0.2644 - accuracy: 0.9461\n",
            "Epoch 462/500\n",
            "71/71 [==============================] - 1s 7ms/step - loss: 0.3392 - accuracy: 0.9327\n",
            "Epoch 463/500\n",
            "71/71 [==============================] - 1s 8ms/step - loss: 0.2855 - accuracy: 0.9283\n",
            "Epoch 464/500\n",
            "71/71 [==============================] - 1s 8ms/step - loss: 0.3080 - accuracy: 0.9309\n",
            "Epoch 465/500\n",
            "71/71 [==============================] - 1s 8ms/step - loss: 0.2497 - accuracy: 0.9349\n",
            "Epoch 466/500\n",
            "71/71 [==============================] - 1s 7ms/step - loss: 0.2532 - accuracy: 0.9349\n",
            "Epoch 467/500\n",
            "71/71 [==============================] - 1s 8ms/step - loss: 0.3154 - accuracy: 0.9327\n",
            "Epoch 468/500\n",
            "71/71 [==============================] - 1s 7ms/step - loss: 0.2383 - accuracy: 0.9403\n",
            "Epoch 469/500\n",
            "71/71 [==============================] - 1s 8ms/step - loss: 0.2695 - accuracy: 0.9287\n",
            "Epoch 470/500\n",
            "71/71 [==============================] - 1s 7ms/step - loss: 0.2711 - accuracy: 0.9381\n",
            "Epoch 471/500\n",
            "71/71 [==============================] - 1s 8ms/step - loss: 0.2779 - accuracy: 0.9327\n",
            "Epoch 472/500\n",
            "71/71 [==============================] - 1s 7ms/step - loss: 0.2461 - accuracy: 0.9394\n",
            "Epoch 473/500\n",
            "71/71 [==============================] - 1s 8ms/step - loss: 0.3443 - accuracy: 0.9180\n",
            "Epoch 474/500\n",
            "71/71 [==============================] - 1s 8ms/step - loss: 0.2345 - accuracy: 0.9394\n",
            "Epoch 475/500\n",
            "71/71 [==============================] - 1s 7ms/step - loss: 0.2184 - accuracy: 0.9483\n",
            "Epoch 476/500\n",
            "71/71 [==============================] - 1s 8ms/step - loss: 0.3114 - accuracy: 0.9260\n",
            "Epoch 477/500\n",
            "71/71 [==============================] - 1s 9ms/step - loss: 0.2824 - accuracy: 0.9354\n",
            "Epoch 478/500\n",
            "71/71 [==============================] - 1s 11ms/step - loss: 0.3475 - accuracy: 0.9158\n",
            "Epoch 479/500\n",
            "71/71 [==============================] - 1s 11ms/step - loss: 0.2400 - accuracy: 0.9340\n",
            "Epoch 480/500\n",
            "71/71 [==============================] - 1s 11ms/step - loss: 0.2891 - accuracy: 0.9256\n",
            "Epoch 481/500\n",
            "71/71 [==============================] - 1s 11ms/step - loss: 0.2242 - accuracy: 0.9358\n",
            "Epoch 482/500\n",
            "71/71 [==============================] - 1s 12ms/step - loss: 0.2561 - accuracy: 0.9479\n",
            "Epoch 483/500\n",
            "71/71 [==============================] - 1s 12ms/step - loss: 0.3517 - accuracy: 0.9251\n",
            "Epoch 484/500\n",
            "71/71 [==============================] - 1s 11ms/step - loss: 0.2435 - accuracy: 0.9443\n",
            "Epoch 485/500\n",
            "71/71 [==============================] - 1s 8ms/step - loss: 0.3466 - accuracy: 0.9158\n",
            "Epoch 486/500\n",
            "71/71 [==============================] - 1s 7ms/step - loss: 0.2866 - accuracy: 0.9323\n",
            "Epoch 487/500\n",
            "71/71 [==============================] - 1s 8ms/step - loss: 0.1919 - accuracy: 0.9430\n",
            "Epoch 488/500\n",
            "71/71 [==============================] - 1s 7ms/step - loss: 0.2870 - accuracy: 0.9229\n",
            "Epoch 489/500\n",
            "71/71 [==============================] - 1s 8ms/step - loss: 0.1973 - accuracy: 0.9456\n",
            "Epoch 490/500\n",
            "71/71 [==============================] - 1s 8ms/step - loss: 0.2510 - accuracy: 0.9389\n",
            "Epoch 491/500\n",
            "71/71 [==============================] - 1s 7ms/step - loss: 0.3286 - accuracy: 0.9274\n",
            "Epoch 492/500\n",
            "71/71 [==============================] - 1s 8ms/step - loss: 0.2945 - accuracy: 0.9332\n",
            "Epoch 493/500\n",
            "71/71 [==============================] - 1s 7ms/step - loss: 0.3021 - accuracy: 0.9345\n",
            "Epoch 494/500\n",
            "71/71 [==============================] - 1s 8ms/step - loss: 0.2307 - accuracy: 0.9412\n",
            "Epoch 495/500\n",
            "71/71 [==============================] - 1s 7ms/step - loss: 0.2547 - accuracy: 0.9367\n",
            "Epoch 496/500\n",
            "71/71 [==============================] - 1s 8ms/step - loss: 0.2902 - accuracy: 0.9327\n",
            "Epoch 497/500\n",
            "71/71 [==============================] - 1s 8ms/step - loss: 0.2445 - accuracy: 0.9398\n",
            "Epoch 498/500\n",
            "71/71 [==============================] - 1s 8ms/step - loss: 0.2440 - accuracy: 0.9389\n",
            "Epoch 499/500\n",
            "71/71 [==============================] - 1s 7ms/step - loss: 0.3208 - accuracy: 0.9349\n",
            "Epoch 500/500\n",
            "71/71 [==============================] - 1s 8ms/step - loss: 0.2486 - accuracy: 0.9376\n"
          ]
        }
      ],
      "source": [
        "train_model(model,train_tensors,train_labels)"
      ]
    },
    {
      "cell_type": "markdown",
      "id": "brKUQokuXnA4",
      "metadata": {
        "id": "brKUQokuXnA4"
      },
      "source": [
        "20) What is an epoch?"
      ]
    },
    {
      "cell_type": "markdown",
      "id": "3O6X3LbeXpI1",
      "metadata": {
        "id": "3O6X3LbeXpI1"
      },
      "source": [
        "Answer: An epoch marks each full run of the program to train through the given dataset."
      ]
    },
    {
      "cell_type": "markdown",
      "id": "b9da1cc7",
      "metadata": {
        "id": "b9da1cc7"
      },
      "source": [
        "21) The model is trained; it is time to see how well it does at recognizing your faces!!  To do this you need to reshape the testing dataset and assign it to test_shape.\n"
      ]
    },
    {
      "cell_type": "code",
      "execution_count": null,
      "id": "20aed3ee",
      "metadata": {
        "colab": {
          "base_uri": "https://localhost:8080/"
        },
        "id": "20aed3ee",
        "outputId": "1d6bb35b-09b8-404a-9de1-ff27125afa76"
      },
      "outputs": [
        {
          "output_type": "execute_result",
          "data": {
            "text/plain": [
              "(281, 100, 100)"
            ]
          },
          "metadata": {},
          "execution_count": 33
        }
      ],
      "source": [
        "test_shape = test_images.shape\n",
        "test_shape"
      ]
    },
    {
      "cell_type": "markdown",
      "id": "XdfBPRLiwlOP",
      "metadata": {
        "id": "XdfBPRLiwlOP"
      },
      "source": [
        "22) Reshape your test_images \"from a box to a line\" and assign them to test_tensors."
      ]
    },
    {
      "cell_type": "code",
      "source": [
        "test_images[0]"
      ],
      "metadata": {
        "colab": {
          "base_uri": "https://localhost:8080/"
        },
        "id": "aUsgiKy5PGSP",
        "outputId": "90ef45c2-2cd4-4d93-f862-6a593a9e6759"
      },
      "id": "aUsgiKy5PGSP",
      "execution_count": null,
      "outputs": [
        {
          "output_type": "execute_result",
          "data": {
            "text/plain": [
              "array([[0.69411767, 0.69803923, 0.7019608 , ..., 0.5176471 , 0.5568628 ,\n",
              "        0.5372549 ],\n",
              "       [0.69803923, 0.6784314 , 0.6392157 , ..., 0.54901963, 0.59607846,\n",
              "        0.57254905],\n",
              "       [0.5058824 , 0.4392157 , 0.39215687, ..., 0.53333336, 0.5921569 ,\n",
              "        0.54901963],\n",
              "       ...,\n",
              "       [0.38039216, 0.37254903, 0.35686275, ..., 0.6313726 , 0.64705884,\n",
              "        0.65882355],\n",
              "       [0.3647059 , 0.2901961 , 0.23529412, ..., 0.54901963, 0.65882355,\n",
              "        0.54901963],\n",
              "       [0.2       , 0.16470589, 0.19215687, ..., 0.49803922, 0.6392157 ,\n",
              "        0.5254902 ]], dtype=float32)"
            ]
          },
          "metadata": {},
          "execution_count": 35
        }
      ]
    },
    {
      "cell_type": "code",
      "execution_count": null,
      "id": "6dba93b9",
      "metadata": {
        "id": "6dba93b9",
        "colab": {
          "base_uri": "https://localhost:8080/"
        },
        "outputId": "e9746478-ff56-4b95-f688-f98de8958b35"
      },
      "outputs": [
        {
          "output_type": "execute_result",
          "data": {
            "text/plain": [
              "(281, 10000)"
            ]
          },
          "metadata": {},
          "execution_count": 34
        }
      ],
      "source": [
        "test_tensors = test_images.reshape(test_shape[0], test_shape[1]*test_shape[2])\n",
        "test_tensors.shape\n"
      ]
    },
    {
      "cell_type": "markdown",
      "id": "o_Oxonw7wyKG",
      "metadata": {
        "id": "o_Oxonw7wyKG"
      },
      "source": [
        "23) Print your 20th test image in matrix format."
      ]
    },
    {
      "cell_type": "code",
      "execution_count": null,
      "id": "bDlv-Wh5w3Nq",
      "metadata": {
        "id": "bDlv-Wh5w3Nq",
        "colab": {
          "base_uri": "https://localhost:8080/"
        },
        "outputId": "8b4bbf24-86e9-42b8-faf5-449abd9f34a8"
      },
      "outputs": [
        {
          "output_type": "execute_result",
          "data": {
            "text/plain": [
              "array([[0.63529414, 0.6313726 , 0.6313726 , ..., 0.57254905, 0.6156863 ,\n",
              "        0.61960787],\n",
              "       [0.6313726 , 0.627451  , 0.627451  , ..., 0.6117647 , 0.6745098 ,\n",
              "        0.63529414],\n",
              "       [0.6313726 , 0.6313726 , 0.6313726 , ..., 0.61960787, 0.68235296,\n",
              "        0.627451  ],\n",
              "       ...,\n",
              "       [0.44313726, 0.44313726, 0.45882353, ..., 0.7294118 , 0.7411765 ,\n",
              "        0.7490196 ],\n",
              "       [0.4509804 , 0.43529412, 0.44313726, ..., 0.64705884, 0.7529412 ,\n",
              "        0.6862745 ],\n",
              "       [0.45490196, 0.4509804 , 0.4627451 , ..., 0.5921569 , 0.74509805,\n",
              "        0.6156863 ]], dtype=float32)"
            ]
          },
          "metadata": {},
          "execution_count": 36
        }
      ],
      "source": [
        "test_images[19]"
      ]
    },
    {
      "cell_type": "markdown",
      "id": "oAL73RU7w3vm",
      "metadata": {
        "id": "oAL73RU7w3vm"
      },
      "source": [
        "24) Print your 20th test image in image format."
      ]
    },
    {
      "cell_type": "code",
      "execution_count": null,
      "id": "tb9bzNfV9cqz",
      "metadata": {
        "id": "tb9bzNfV9cqz",
        "colab": {
          "base_uri": "https://localhost:8080/",
          "height": 433
        },
        "outputId": "b8be9f7a-6c1b-463b-f879-b5a18a9806ff"
      },
      "outputs": [
        {
          "output_type": "display_data",
          "data": {
            "text/plain": [
              "<Figure size 640x480 with 1 Axes>"
            ],
            "image/png": "[encoded data removed]"
          },
          "metadata": {}
        }
      ],
      "source": [
        "plt.imshow(test_images[19],cmap=plt.cm.binary)\n",
        "plt.show()"
      ]
    },
    {
      "cell_type": "markdown",
      "id": "vp9OanwWxFAu",
      "metadata": {
        "id": "vp9OanwWxFAu"
      },
      "source": [
        "25) Print the label that represents this image (numerical value).  "
      ]
    },
    {
      "cell_type": "code",
      "execution_count": null,
      "id": "eFb5kiSKxKz-",
      "metadata": {
        "id": "eFb5kiSKxKz-",
        "colab": {
          "base_uri": "https://localhost:8080/"
        },
        "outputId": "cfe455e5-8ce5-4b27-fdfa-91908b9b8a31"
      },
      "outputs": [
        {
          "output_type": "execute_result",
          "data": {
            "text/plain": [
              "4"
            ]
          },
          "metadata": {},
          "execution_count": 39
        }
      ],
      "source": [
        "test_labels[19]"
      ]
    },
    {
      "cell_type": "markdown",
      "id": "p3RWr8yexLvH",
      "metadata": {
        "id": "p3RWr8yexLvH"
      },
      "source": [
        "26) Print the corresponding students' name that is represented by this image."
      ]
    },
    {
      "cell_type": "code",
      "execution_count": null,
      "id": "MzRQQZ4-ALZ1",
      "metadata": {
        "id": "MzRQQZ4-ALZ1",
        "colab": {
          "base_uri": "https://localhost:8080/",
          "height": 35
        },
        "outputId": "0a5c0068-d0b6-441e-d858-6c75a5adef0c"
      },
      "outputs": [
        {
          "output_type": "execute_result",
          "data": {
            "text/plain": [
              "'Zediwa_De Jesus'"
            ],
            "application/vnd.google.colaboratory.intrinsic+json": {
              "type": "string"
            }
          },
          "metadata": {},
          "execution_count": 38
        }
      ],
      "source": [
        "student_names[19]"
      ]
    },
    {
      "cell_type": "markdown",
      "id": "d554f292",
      "metadata": {
        "id": "d554f292"
      },
      "source": [
        "Now we can make predictions and get probabilities.  I will be checking this block to make sure that everything above it has run. Do not edit this block of code at all."
      ]
    },
    {
      "cell_type": "code",
      "execution_count": null,
      "id": "cc3ef11a",
      "metadata": {
        "colab": {
          "base_uri": "https://localhost:8080/"
        },
        "id": "cc3ef11a",
        "outputId": "7f8fca4d-0992-4b65-b206-6339b70f42e2"
      },
      "outputs": [
        {
          "output_type": "stream",
          "name": "stdout",
          "text": [
            "9/9 [==============================] - 0s 3ms/step\n"
          ]
        }
      ],
      "source": [
        "pred, prob = predict(model,test_tensors)"
      ]
    },
    {
      "cell_type": "code",
      "execution_count": null,
      "id": "8eded227",
      "metadata": {
        "colab": {
          "base_uri": "https://localhost:8080/"
        },
        "id": "8eded227",
        "outputId": "8f279152-a329-4b0f-931e-1a59d08c0461"
      },
      "outputs": [
        {
          "output_type": "execute_result",
          "data": {
            "text/plain": [
              "array([ 0,  0,  0,  0,  0,  1, 19,  1,  1,  1,  3,  3,  3,  3, 30, 23, 34,\n",
              "        4,  4,  4,  4,  4, 13, 26,  5,  5,  5,  5,  5,  5,  5,  6,  6,  6,\n",
              "       29, 27,  6,  6, 12,  5,  6,  6,  7,  6,  7,  7,  7, 29,  7,  7,  8,\n",
              "        8,  8,  9,  9,  9,  9,  9,  9,  9,  9, 34, 10, 10, 10, 10, 15, 33,\n",
              "       10, 10, 15, 10, 10, 15, 11, 11, 11, 11, 11, 11, 11, 11, 29, 29, 11,\n",
              "       11, 12, 12, 12, 12, 12, 12, 12, 12, 12, 12, 13, 13, 13,  6, 13, 16,\n",
              "       14, 14, 14, 15, 15, 15, 15, 15, 15, 15, 15, 15, 15, 15, 15, 15, 15,\n",
              "       15, 15, 15, 15, 16, 16, 16, 16, 16, 16, 16, 13, 18, 18, 18, 18, 18,\n",
              "       18, 18, 19,  6,  7, 19, 15, 19, 19, 19, 19, 19, 19, 20, 20,  5, 20,\n",
              "       20, 20, 20, 20, 20, 20, 20, 20, 20, 20, 20, 21, 21, 11, 29, 29, 29,\n",
              "       29, 21, 21, 26, 23, 23, 23, 23,  5, 24, 23, 23, 23, 23, 23, 23, 23,\n",
              "       23, 23, 20, 23, 23, 23, 23, 23, 23, 23, 23, 26, 23, 23, 20, 23, 24,\n",
              "       25, 25, 25, 25, 25, 35, 25, 25, 25, 25, 25, 25, 26, 26, 26, 26, 26,\n",
              "       26, 26, 26, 26, 27, 16, 27, 27, 27, 27, 28, 28, 28, 28, 28, 30, 25,\n",
              "       28, 28, 28, 28, 28, 28, 28, 28, 26, 26, 29, 20, 29, 29, 20, 15, 30,\n",
              "       30, 30, 34, 30, 30, 30, 20, 31, 31, 31, 31, 31, 33, 33, 33, 33, 33,\n",
              "       33, 33, 34, 34, 34, 35, 35, 35, 37])"
            ]
          },
          "metadata": {},
          "execution_count": 73
        }
      ],
      "source": [
        "pred"
      ]
    },
    {
      "cell_type": "markdown",
      "id": "0uWzRFZBxqRm",
      "metadata": {
        "id": "0uWzRFZBxqRm"
      },
      "source": [
        "27) Describe what these numerical values mean."
      ]
    },
    {
      "cell_type": "markdown",
      "id": "rB9iWxbtxrA-",
      "metadata": {
        "id": "rB9iWxbtxrA-"
      },
      "source": [
        "Answer: These are predicted values made by the machine model."
      ]
    },
    {
      "cell_type": "code",
      "execution_count": null,
      "id": "e363d8e0",
      "metadata": {
        "colab": {
          "base_uri": "https://localhost:8080/"
        },
        "id": "e363d8e0",
        "outputId": "1ee0bace-bac6-4366-bfa4-8bb5623c9eae"
      },
      "outputs": [
        {
          "output_type": "execute_result",
          "data": {
            "text/plain": [
              "array([0.9991483 , 0.99998385, 0.9999884 , 0.9999923 , 0.99992687,\n",
              "       0.98560244, 0.61838025, 0.9555405 , 0.8724151 , 0.99963135,\n",
              "       0.9998238 , 0.9953801 , 0.9999735 , 0.9953713 , 0.9537545 ,\n",
              "       0.6242187 , 0.40284753, 0.8598589 , 0.9809743 , 0.99849546,\n",
              "       0.96271807, 0.97827566, 0.7761217 , 0.82104707, 0.9618373 ,\n",
              "       0.996405  , 0.99766666, 0.99999803, 0.9986043 , 0.90845937,\n",
              "       0.9445571 , 0.64928156, 0.98433524, 0.9977485 , 0.69933105,\n",
              "       0.89165306, 0.99954456, 0.98654497, 0.611988  , 0.99969923,\n",
              "       0.8507958 , 0.9998257 , 0.8150266 , 0.9999556 , 0.6580127 ,\n",
              "       0.99919075, 0.9999322 , 0.71192104, 0.82180643, 0.8302595 ,\n",
              "       0.97292286, 0.98790723, 0.9998107 , 0.99992543, 0.99999887,\n",
              "       0.99487877, 0.99960214, 0.9996842 , 0.97996056, 0.9510514 ,\n",
              "       0.9157476 , 0.66377306, 0.9987743 , 0.99845344, 0.99979424,\n",
              "       0.99881953, 0.95300585, 0.611049  , 0.99997956, 0.9939683 ,\n",
              "       0.94683313, 0.96284664, 0.99962014, 0.47112077, 0.9999996 ,\n",
              "       0.99999994, 0.9999941 , 0.9999991 , 0.99999994, 0.9999998 ,\n",
              "       0.99355906, 0.99999994, 0.50191617, 0.9840162 , 0.99999994,\n",
              "       0.99999994, 0.99999994, 0.99999887, 0.9999996 , 0.95315456,\n",
              "       0.99999994, 0.99999934, 0.9905569 , 0.99999994, 0.99663234,\n",
              "       0.9960538 , 0.99222225, 0.9997165 , 0.93083405, 0.5345387 ,\n",
              "       0.9999985 , 0.68076277, 0.9985888 , 0.9926252 , 0.99995536,\n",
              "       0.98560506, 0.99999994, 0.9934125 , 0.9999822 , 0.99999994,\n",
              "       0.99999994, 0.99999994, 0.99999994, 0.99999994, 0.9998646 ,\n",
              "       0.99999994, 0.99999744, 0.99911094, 0.9999984 , 0.99732965,\n",
              "       0.9991483 , 0.99999994, 0.99999994, 0.9225501 , 0.9931788 ,\n",
              "       0.78292954, 0.99973774, 0.9997283 , 0.6385334 , 0.9998493 ,\n",
              "       0.689623  , 0.99999744, 0.33115283, 0.99987197, 0.99999994,\n",
              "       0.99999994, 0.99999994, 0.9992726 , 0.99962157, 0.53097874,\n",
              "       0.89171547, 0.9999514 , 0.98890626, 0.9999998 , 0.9999985 ,\n",
              "       0.99999994, 0.99941885, 0.998096  , 0.6371296 , 0.9997871 ,\n",
              "       0.9676771 , 0.8653758 , 0.9994091 , 0.99998885, 0.999999  ,\n",
              "       0.9693622 , 0.99596906, 0.99927235, 0.9998677 , 0.9994234 ,\n",
              "       0.99995846, 0.9832241 , 0.64088976, 0.9970291 , 0.99999994,\n",
              "       0.9978177 , 0.59486055, 0.528515  , 0.8559616 , 0.99616534,\n",
              "       0.8586474 , 0.9999886 , 0.8963523 , 0.60743177, 0.99999994,\n",
              "       0.99999994, 0.99999887, 0.99999994, 0.8623658 , 0.7292864 ,\n",
              "       0.99999994, 0.99999994, 0.99999994, 0.99999994, 0.99727905,\n",
              "       0.9326011 , 0.99999994, 0.9999909 , 0.9957974 , 0.47188067,\n",
              "       0.99999994, 0.99999994, 0.9999991 , 0.99999946, 0.99999994,\n",
              "       0.9780913 , 0.99999994, 0.99920005, 0.6229714 , 0.9999948 ,\n",
              "       0.99976206, 0.9890111 , 0.9999686 , 0.95339096, 0.99993414,\n",
              "       0.44672275, 0.9998636 , 0.9997723 , 0.9999997 , 0.5496531 ,\n",
              "       0.9951126 , 0.9999998 , 0.54397476, 0.9463801 , 0.96527886,\n",
              "       0.9943114 , 0.5531694 , 0.99758327, 0.99997884, 0.9990659 ,\n",
              "       0.98969656, 0.7765837 , 0.99741787, 0.97785735, 0.9986875 ,\n",
              "       0.52636325, 0.9816341 , 0.99969864, 0.9549845 , 0.9865828 ,\n",
              "       0.9684703 , 0.9604429 , 0.99746984, 0.99988335, 0.5099866 ,\n",
              "       0.99996585, 0.8835255 , 0.51120746, 0.9999669 , 0.99998635,\n",
              "       0.97600216, 0.9996897 , 0.6126802 , 0.6312041 , 0.99999803,\n",
              "       0.9999772 , 0.7827572 , 0.8042974 , 0.9961685 , 0.5014997 ,\n",
              "       0.3734069 , 0.99619776, 0.91204536, 0.33918214, 0.99999994,\n",
              "       0.99999994, 0.99928594, 0.8465481 , 0.9640035 , 0.999976  ,\n",
              "       0.9997332 , 0.9486082 , 0.9999997 , 0.98756117, 0.960893  ,\n",
              "       0.99999684, 0.99999875, 0.9999985 , 0.9999656 , 0.9999594 ,\n",
              "       0.9999549 , 0.9999613 , 0.9998555 , 0.99944746, 0.9986043 ,\n",
              "       0.9972284 , 0.977777  , 0.7484568 , 0.9218351 , 0.45282134,\n",
              "       0.99670875], dtype=float32)"
            ]
          },
          "metadata": {},
          "execution_count": 74
        }
      ],
      "source": [
        "prob"
      ]
    },
    {
      "cell_type": "markdown",
      "id": "xUWB2gXuxu8-",
      "metadata": {
        "id": "xUWB2gXuxu8-"
      },
      "source": [
        "28) Describe what these numerical values mean."
      ]
    },
    {
      "cell_type": "markdown",
      "id": "0al2Z5Gmxx3-",
      "metadata": {
        "id": "0al2Z5Gmxx3-"
      },
      "source": [
        "Answer:  This array represents the accuracy the model gives for an image in the dataset that correspond with the predictions."
      ]
    },
    {
      "cell_type": "markdown",
      "id": "DjiSjs7Bx19e",
      "metadata": {
        "id": "DjiSjs7Bx19e"
      },
      "source": [
        "29) Print the 30th image in the test image dataset, its label and prediction and probability."
      ]
    },
    {
      "cell_type": "code",
      "execution_count": null,
      "id": "ff80d3fd",
      "metadata": {
        "colab": {
          "base_uri": "https://localhost:8080/",
          "height": 468
        },
        "id": "ff80d3fd",
        "outputId": "62b0fe06-8ed9-4bcb-dc62-d82882576d92"
      },
      "outputs": [
        {
          "output_type": "display_data",
          "data": {
            "text/plain": [
              "<Figure size 640x480 with 1 Axes>"
            ],
            "image/png": "[encoded data removed]"
          },
          "metadata": {}
        },
        {
          "output_type": "stream",
          "name": "stdout",
          "text": [
            "the value is  Donald_Humphrey\n",
            "The predicted value is  Kenadie_Smith  with probability:  0.35017505\n"
          ]
        }
      ],
      "source": [
        "show_image_vpp(test_images[29],train_labels[29],pred[29],prob[29])"
      ]
    },
    {
      "cell_type": "markdown",
      "source": [],
      "metadata": {
        "id": "xl9Y3A80RzSW"
      },
      "id": "xl9Y3A80RzSW"
    },
    {
      "cell_type": "markdown",
      "id": "IugXy5o9yOb2",
      "metadata": {
        "id": "IugXy5o9yOb2"
      },
      "source": [
        "30) Plot the 3rd image in the test_images dataset, its label, prediction, and probability.  "
      ]
    },
    {
      "cell_type": "code",
      "execution_count": null,
      "id": "e7f330ce",
      "metadata": {
        "colab": {
          "base_uri": "https://localhost:8080/",
          "height": 468
        },
        "id": "e7f330ce",
        "outputId": "1614b231-4aae-45ee-afba-31206c79c5dd"
      },
      "outputs": [
        {
          "output_type": "display_data",
          "data": {
            "text/plain": [
              "<Figure size 640x480 with 1 Axes>"
            ],
            "image/png": "[encoded data removed]"
          },
          "metadata": {}
        },
        {
          "output_type": "stream",
          "name": "stdout",
          "text": [
            "the value is  Donald_Humphrey\n",
            "The predicted value is  Donald_Humphrey  with probability:  0.9804551\n"
          ]
        }
      ],
      "source": [
        "show_image_vpp(test_images[2],test_labels[2],pred[2],prob[2])"
      ]
    },
    {
      "cell_type": "markdown",
      "id": "364a219b",
      "metadata": {
        "id": "364a219b"
      },
      "source": [
        "Compute the number of wrong predictions. If everything above is running correctly this code block should run. Do not change it.  "
      ]
    },
    {
      "cell_type": "code",
      "execution_count": null,
      "id": "6611c2b2",
      "metadata": {
        "colab": {
          "base_uri": "https://localhost:8080/"
        },
        "id": "6611c2b2",
        "outputId": "b35dbeb7-5367-46af-f469-4b71da734cbb"
      },
      "outputs": [
        {
          "output_type": "execute_result",
          "data": {
            "text/plain": [
              "48"
            ]
          },
          "metadata": {},
          "execution_count": 75
        }
      ],
      "source": [
        "wrong_predictions_count = 0\n",
        "for i in range(test_images.shape[0]):\n",
        "    if test_labels[i] != pred[i]:\n",
        "      wrong_predictions_count= wrong_predictions_count + 1\n",
        "wrong_predictions_count"
      ]
    },
    {
      "cell_type": "markdown",
      "id": "tW8wVPfKX2MY",
      "metadata": {
        "id": "tW8wVPfKX2MY"
      },
      "source": [
        "31) Explain which two items are being compared in your own words to get the \"wrong_predictions.\""
      ]
    },
    {
      "cell_type": "markdown",
      "id": "voDk2ZmlX9I7",
      "metadata": {
        "id": "voDk2ZmlX9I7"
      },
      "source": [
        "Answer: Each test_label is being compared to the corresponding predictiction. If they are not equal, the count for wrong_predictions increases by one."
      ]
    },
    {
      "cell_type": "markdown",
      "id": "7UbOmDvJ0hpW",
      "metadata": {
        "id": "7UbOmDvJ0hpW"
      },
      "source": [
        "Determine the number of wrong predictions in the test dataset.  If everything above is running correctly this code block should run. Do not change it."
      ]
    },
    {
      "cell_type": "code",
      "execution_count": null,
      "id": "ngs0hocgzmhy",
      "metadata": {
        "colab": {
          "base_uri": "https://localhost:8080/"
        },
        "id": "ngs0hocgzmhy",
        "outputId": "0d869dfe-ccd7-40a8-dc7c-2aeecfd5623a"
      },
      "outputs": [
        {
          "output_type": "execute_result",
          "data": {
            "text/plain": [
              "48"
            ]
          },
          "metadata": {},
          "execution_count": 76
        }
      ],
      "source": [
        "wrong_predictions_count = 0\n",
        "for i in range(test_images.shape[0]):\n",
        "    if test_labels[i] != pred[i]:\n",
        "      wrong_predictions_count= wrong_predictions_count + 1\n",
        "wrong_predictions_count"
      ]
    },
    {
      "cell_type": "markdown",
      "id": "Ym0jkN7-z6z-",
      "metadata": {
        "id": "Ym0jkN7-z6z-"
      },
      "source": [
        "Calculate the accuracy on the test_images.  If everything above is running correctly this code block should run. Do not change it."
      ]
    },
    {
      "cell_type": "code",
      "execution_count": null,
      "id": "0yHu4h9jz-fN",
      "metadata": {
        "colab": {
          "base_uri": "https://localhost:8080/"
        },
        "id": "0yHu4h9jz-fN",
        "outputId": "3baf6e07-f4d5-4b7e-fa1b-702b97a99de4"
      },
      "outputs": [
        {
          "output_type": "execute_result",
          "data": {
            "text/plain": [
              "0.8291814946619217"
            ]
          },
          "metadata": {},
          "execution_count": 77
        }
      ],
      "source": [
        "accuracy = 1-(wrong_predictions_count/len(test_labels))\n",
        "accuracy"
      ]
    },
    {
      "cell_type": "markdown",
      "id": "e8YrYuXd0bJG",
      "metadata": {
        "id": "e8YrYuXd0bJG"
      },
      "source": [
        "32) Determine the number of wrong predictions in the training dataset.  \n"
      ]
    },
    {
      "cell_type": "code",
      "execution_count": null,
      "id": "JVRZq6kWz6QQ",
      "metadata": {
        "id": "JVRZq6kWz6QQ",
        "colab": {
          "base_uri": "https://localhost:8080/"
        },
        "outputId": "79c0f5de-55ef-4c56-eb4a-cf97a88b4745"
      },
      "outputs": [
        {
          "output_type": "execute_result",
          "data": {
            "text/plain": [
              "48"
            ]
          },
          "metadata": {},
          "execution_count": 78
        }
      ],
      "source": [
        "wrong_predictions_count= len([i for i in range(test_images.shape[0])if test_labels[i] !=pred[i]])\n",
        "(wrong_predictions_count)"
      ]
    },
    {
      "cell_type": "markdown",
      "id": "wDdvWEoc1AMd",
      "metadata": {
        "id": "wDdvWEoc1AMd"
      },
      "source": [
        "33) Calculate the accuracy on the training_images.  "
      ]
    },
    {
      "cell_type": "code",
      "execution_count": null,
      "id": "gP_iKiMq1D4U",
      "metadata": {
        "id": "gP_iKiMq1D4U",
        "colab": {
          "base_uri": "https://localhost:8080/"
        },
        "outputId": "146d769b-4b3a-4954-c35d-3fc303bf7b8e"
      },
      "outputs": [
        {
          "output_type": "execute_result",
          "data": {
            "text/plain": [
              "0.9786096256684492"
            ]
          },
          "metadata": {},
          "execution_count": 79
        }
      ],
      "source": [
        "accuracy = 1-(wrong_predictions_count/len(train_labels))\n",
        "accuracy"
      ]
    },
    {
      "cell_type": "markdown",
      "id": "g5psmhvC1EYe",
      "metadata": {
        "id": "g5psmhvC1EYe"
      },
      "source": [
        "34) Describe why the accuracy of the training images is higher than that of the testing images.  "
      ]
    },
    {
      "cell_type": "markdown",
      "id": "FfFgt2xR-I0T",
      "metadata": {
        "id": "FfFgt2xR-I0T"
      },
      "source": [
        "Answer: The accuracy is higher because there is more data to work with in the training dataset. In addition it has been run through more times."
      ]
    },
    {
      "cell_type": "markdown",
      "id": "ce7bca71",
      "metadata": {
        "id": "ce7bca71"
      },
      "source": [
        "\n",
        "35) Display the first 10 faces in the training dataset, their predictions and probabilities.\n"
      ]
    },
    {
      "cell_type": "code",
      "execution_count": null,
      "id": "fb9f1557",
      "metadata": {
        "id": "fb9f1557"
      },
      "outputs": [],
      "source": [
        "for i in range(10):\n",
        "  show_image_vpp(test_images[i], test_labels[i], pred[i],prob[i])\n"
      ]
    },
    {
      "cell_type": "markdown",
      "id": "75b31954",
      "metadata": {
        "id": "75b31954"
      },
      "source": [
        "\n",
        "Evaluate the accuracy of the test set using model.evaluate.  Do not change this code.\n"
      ]
    },
    {
      "cell_type": "code",
      "execution_count": null,
      "id": "60cdb4cf",
      "metadata": {
        "id": "60cdb4cf"
      },
      "outputs": [],
      "source": [
        "model.evaluate(train_tensors, train_labels)"
      ]
    },
    {
      "cell_type": "markdown",
      "id": "cl6AEVrB2UkF",
      "metadata": {
        "id": "cl6AEVrB2UkF"
      },
      "source": [
        "Evaluate the accuracy of the test set using model.evaluate.  Do not change this code.\n"
      ]
    },
    {
      "cell_type": "markdown",
      "source": [
        "The accuracy is 6 percent."
      ],
      "metadata": {
        "id": "1CjE6uGHGrP_"
      },
      "id": "1CjE6uGHGrP_"
    },
    {
      "cell_type": "code",
      "execution_count": null,
      "id": "27399a02",
      "metadata": {
        "id": "27399a02"
      },
      "outputs": [],
      "source": []
    },
    {
      "cell_type": "markdown",
      "id": "v_tDhJOw2kbd",
      "metadata": {
        "id": "v_tDhJOw2kbd"
      },
      "source": [
        "Once you get this entire model working (don't worry about the accuracy yet), call me over to grade it.  Once you get it working it will be time to manipulate the building model function and training model function for accuracy.  "
      ]
    }
  ],
  "metadata": {
    "colab": {
      "provenance": [],
      "include_colab_link": true
    },
    "kernelspec": {
      "display_name": "Python 3",
      "name": "python3"
    },
    "language_info": {
      "codemirror_mode": {
        "name": "ipython",
        "version": 3
      },
      "file_extension": ".py",
      "mimetype": "text/x-python",
      "name": "python",
      "nbconvert_exporter": "python",
      "pygments_lexer": "ipython3",
      "version": "3.8.8"
    }
  },
  "nbformat": 4,
  "nbformat_minor": 5
}